{
 "cells": [
  {
   "cell_type": "markdown",
   "metadata": {},
   "source": [
    "# Milestone 3"
   ]
  },
  {
   "cell_type": "markdown",
   "metadata": {},
   "source": [
    "In milestone 3 we build on the preparation in milestones 1 and 2 to prepare our data set for modeling and build an initial model that we refine in milestone 4."
   ]
  },
  {
   "cell_type": "markdown",
   "metadata": {},
   "source": [
    "### Recap: Statement of Problem"
   ]
  },
  {
   "cell_type": "markdown",
   "metadata": {},
   "source": [
    "(This recap was given in milestone 2 and is presented again here for convenient reference.)"
   ]
  },
  {
   "cell_type": "markdown",
   "metadata": {},
   "source": [
    "A restauranteur is planning to open a new restaurant specializing in vegan cuisine and would like to predict the success of new recipes created by the restaurant's chefs before they are served to the public. The restauranteur has hired a team of data scientists to develop a model to predict the success of new recipes based on ratings and reviews of existing recipes. The data scientists have obtained a data set from food.com (via kaggle.com) with recipes that have been rated and reviewed by the site's users. They now must determine the feasibility of developing a working model to predict the rating of a given recipe based on other attributes supplied in the data set. The initial goal is to develop a model that can predict a recipe's rating based attributes such as nutritional content, ingredients, visual characteristics, and a range of descriptive tags of recipes. A longer range goal is to perform sentiment analysis on the reviews. When the model is developed, the restaurant's chefs hope to be able to tweak the recipes they create to achieve higher ratings with the restaurant's guests and visiting food critics."
   ]
  },
  {
   "cell_type": "markdown",
   "metadata": {},
   "source": [
    "The main question: can we predict user ratings based on recipe content?"
   ]
  },
  {
   "cell_type": "markdown",
   "metadata": {},
   "source": [
    "### Preparation"
   ]
  },
  {
   "cell_type": "markdown",
   "metadata": {},
   "source": [
    "Import required libraries:"
   ]
  },
  {
   "cell_type": "code",
   "execution_count": 83,
   "metadata": {},
   "outputs": [],
   "source": [
    "# Import required libraries\n",
    "import matplotlib.pyplot as plt\n",
    "import numpy as np\n",
    "import pandas as pd\n",
    "import scipy.stats as ss\n",
    "import seaborn as sns\n",
    "import statsmodels.formula.api as sm\n",
    "\n",
    "from scipy.optimize import curve_fit"
   ]
  },
  {
   "cell_type": "markdown",
   "metadata": {},
   "source": [
    "Define global options:"
   ]
  },
  {
   "cell_type": "code",
   "execution_count": 84,
   "metadata": {},
   "outputs": [],
   "source": [
    "# Display plots inline\n",
    "%matplotlib inline\n",
    "\n",
    "# Display all outputs from cell\n",
    "from IPython.core.interactiveshell import InteractiveShell\n",
    "InteractiveShell.ast_node_interactivity = \"all\""
   ]
  },
  {
   "cell_type": "markdown",
   "metadata": {},
   "source": [
    "Declare functions:"
   ]
  },
  {
   "cell_type": "code",
   "execution_count": 103,
   "metadata": {},
   "outputs": [],
   "source": [
    "# Plots the distribution of residuals\n",
    "def plot_resid_dist(resids):\n",
    "    fig, ax = plt.subplots(nrows=1, ncols=2, figsize=(10, 4))\n",
    "    ## Plot a histogram\n",
    "    sns.distplot(resids, bins=20, ax=ax[0])\n",
    "    ax[0].set_title('Histogram of residuals')\n",
    "    ax[0].set_xlabel('Residual values')\n",
    "    ## Plot the Q-Q Normal plot\n",
    "    ss.probplot(resids, plot = ax[1])\n",
    "    ax[1].set_title('Q-Q Normal plot of residuals')\n",
    "    plt.show()"
   ]
  },
  {
   "cell_type": "markdown",
   "metadata": {},
   "source": [
    "### Data Set Description"
   ]
  },
  {
   "cell_type": "markdown",
   "metadata": {},
   "source": [
    "The original source of the data set is https://www.kaggle.com/shuyangli94/food-com-recipes-and-user-interactions/version/2. I have prepared a new data set based on the original data set and the data cleaning steps outlined below:  https://raw.githubusercontent.com/pelorenz/vegan_recipes/master/vegan_recipes_v2.data."
   ]
  },
  {
   "cell_type": "markdown",
   "metadata": {},
   "source": [
    "### Earlier Steps to Clean the Data Set"
   ]
  },
  {
   "cell_type": "markdown",
   "metadata": {},
   "source": [
    "I have extracted vegan recipes from the original data set and cleaned the data in various ways as part of my milestone project for DATASCI 400 CS as well as the present milestone project:\n",
    "- Removed recipes that are not vegan based on a string-based list of tags in the kaggle.com data set\n",
    "- Removed recipes that contain non-vegan ingredients that were mis-tagged as vegan in the kaggle.com data set (e.g. chicken, eggs, dairy products, etc.)\n",
    "- Removed desserts, breads, and other recipes that are not main courses, sides, soups, salads, and appetizer\n",
    "- Removed recipes that are incomplete for serving in a restaurant, such as spice rubs, marinades\n",
    "- Removed recipes with incomplete nutritional data\n",
    "- Removed recipes with an insufficient number of user reviews (less than three)\n",
    "- Added missing variables that are listed on the web site but not in the data set, for example, serving size and number of servings. These variables are crucial to make use of the nutritional information for comparisons but are missing in the kaggle.com data set. I have re-added these fields to the data set by scraping food.com web side and parsing the HTML for the proper fields.\n",
    "- Created dichotomous variables for categorical data parsed from string-based lists in the kaggle.com data set"
   ]
  },
  {
   "cell_type": "markdown",
   "metadata": {},
   "source": [
    "### Load the Data Set"
   ]
  },
  {
   "cell_type": "markdown",
   "metadata": {},
   "source": [
    "Begin by loading the data set and viewing the initial rows:"
   ]
  },
  {
   "cell_type": "code",
   "execution_count": 85,
   "metadata": {},
   "outputs": [
    {
     "data": {
      "text/html": [
       "<div>\n",
       "<style scoped>\n",
       "    .dataframe tbody tr th:only-of-type {\n",
       "        vertical-align: middle;\n",
       "    }\n",
       "\n",
       "    .dataframe tbody tr th {\n",
       "        vertical-align: top;\n",
       "    }\n",
       "\n",
       "    .dataframe thead th {\n",
       "        text-align: right;\n",
       "    }\n",
       "</style>\n",
       "<table border=\"1\" class=\"dataframe\">\n",
       "  <thead>\n",
       "    <tr style=\"text-align: right;\">\n",
       "      <th></th>\n",
       "      <th>name</th>\n",
       "      <th>id</th>\n",
       "      <th>n_ingredients</th>\n",
       "      <th>serving_size_g</th>\n",
       "      <th>n_servings</th>\n",
       "      <th>calories</th>\n",
       "      <th>calories_per_g</th>\n",
       "      <th>total_fat_pdv</th>\n",
       "      <th>total_fat_g</th>\n",
       "      <th>total_fat_pct</th>\n",
       "      <th>...</th>\n",
       "      <th>has_citrus</th>\n",
       "      <th>has_vinegar</th>\n",
       "      <th>has_alcohol</th>\n",
       "      <th>has_complex_sugar</th>\n",
       "      <th>is_red</th>\n",
       "      <th>is_orange</th>\n",
       "      <th>is_yellow</th>\n",
       "      <th>is_green_light</th>\n",
       "      <th>is_green_dark</th>\n",
       "      <th>is_purple</th>\n",
       "    </tr>\n",
       "  </thead>\n",
       "  <tbody>\n",
       "    <tr>\n",
       "      <td>0</td>\n",
       "      <td>fool the meat eaters chili</td>\n",
       "      <td>54272</td>\n",
       "      <td>12</td>\n",
       "      <td>352</td>\n",
       "      <td>4</td>\n",
       "      <td>295.6</td>\n",
       "      <td>0.839773</td>\n",
       "      <td>3</td>\n",
       "      <td>1.95</td>\n",
       "      <td>0.005540</td>\n",
       "      <td>...</td>\n",
       "      <td>0</td>\n",
       "      <td>0</td>\n",
       "      <td>0</td>\n",
       "      <td>0</td>\n",
       "      <td>0</td>\n",
       "      <td>1</td>\n",
       "      <td>0</td>\n",
       "      <td>0</td>\n",
       "      <td>1</td>\n",
       "      <td>0</td>\n",
       "    </tr>\n",
       "    <tr>\n",
       "      <td>1</td>\n",
       "      <td>mock a mole low fat guacamole</td>\n",
       "      <td>81185</td>\n",
       "      <td>7</td>\n",
       "      <td>137</td>\n",
       "      <td>6</td>\n",
       "      <td>115.9</td>\n",
       "      <td>0.845985</td>\n",
       "      <td>7</td>\n",
       "      <td>4.55</td>\n",
       "      <td>0.033212</td>\n",
       "      <td>...</td>\n",
       "      <td>1</td>\n",
       "      <td>0</td>\n",
       "      <td>0</td>\n",
       "      <td>0</td>\n",
       "      <td>0</td>\n",
       "      <td>1</td>\n",
       "      <td>0</td>\n",
       "      <td>1</td>\n",
       "      <td>1</td>\n",
       "      <td>0</td>\n",
       "    </tr>\n",
       "    <tr>\n",
       "      <td>2</td>\n",
       "      <td>sour cream avocado dip vegan</td>\n",
       "      <td>112959</td>\n",
       "      <td>7</td>\n",
       "      <td>15</td>\n",
       "      <td>48</td>\n",
       "      <td>12.8</td>\n",
       "      <td>0.853333</td>\n",
       "      <td>1</td>\n",
       "      <td>0.65</td>\n",
       "      <td>0.043333</td>\n",
       "      <td>...</td>\n",
       "      <td>1</td>\n",
       "      <td>0</td>\n",
       "      <td>0</td>\n",
       "      <td>0</td>\n",
       "      <td>0</td>\n",
       "      <td>0</td>\n",
       "      <td>0</td>\n",
       "      <td>1</td>\n",
       "      <td>0</td>\n",
       "      <td>0</td>\n",
       "    </tr>\n",
       "    <tr>\n",
       "      <td>3</td>\n",
       "      <td>cream of mushroom soup</td>\n",
       "      <td>50184</td>\n",
       "      <td>9</td>\n",
       "      <td>544</td>\n",
       "      <td>4</td>\n",
       "      <td>473.2</td>\n",
       "      <td>0.869853</td>\n",
       "      <td>59</td>\n",
       "      <td>38.35</td>\n",
       "      <td>0.070496</td>\n",
       "      <td>...</td>\n",
       "      <td>0</td>\n",
       "      <td>0</td>\n",
       "      <td>0</td>\n",
       "      <td>0</td>\n",
       "      <td>0</td>\n",
       "      <td>0</td>\n",
       "      <td>0</td>\n",
       "      <td>0</td>\n",
       "      <td>0</td>\n",
       "      <td>0</td>\n",
       "    </tr>\n",
       "    <tr>\n",
       "      <td>4</td>\n",
       "      <td>slightly spicy black bean burgers</td>\n",
       "      <td>111462</td>\n",
       "      <td>11</td>\n",
       "      <td>223</td>\n",
       "      <td>4</td>\n",
       "      <td>337.3</td>\n",
       "      <td>1.512556</td>\n",
       "      <td>8</td>\n",
       "      <td>5.20</td>\n",
       "      <td>0.023318</td>\n",
       "      <td>...</td>\n",
       "      <td>0</td>\n",
       "      <td>0</td>\n",
       "      <td>0</td>\n",
       "      <td>0</td>\n",
       "      <td>0</td>\n",
       "      <td>0</td>\n",
       "      <td>1</td>\n",
       "      <td>0</td>\n",
       "      <td>0</td>\n",
       "      <td>0</td>\n",
       "    </tr>\n",
       "  </tbody>\n",
       "</table>\n",
       "<p>5 rows × 90 columns</p>\n",
       "</div>"
      ],
      "text/plain": [
       "                                name      id  n_ingredients  serving_size_g  \\\n",
       "0         fool the meat eaters chili   54272             12             352   \n",
       "1      mock a mole low fat guacamole   81185              7             137   \n",
       "2       sour cream avocado dip vegan  112959              7              15   \n",
       "3             cream of mushroom soup   50184              9             544   \n",
       "4  slightly spicy black bean burgers  111462             11             223   \n",
       "\n",
       "   n_servings  calories  calories_per_g  total_fat_pdv  total_fat_g  \\\n",
       "0           4     295.6        0.839773              3         1.95   \n",
       "1           6     115.9        0.845985              7         4.55   \n",
       "2          48      12.8        0.853333              1         0.65   \n",
       "3           4     473.2        0.869853             59        38.35   \n",
       "4           4     337.3        1.512556              8         5.20   \n",
       "\n",
       "   total_fat_pct  ...  has_citrus  has_vinegar  has_alcohol  \\\n",
       "0       0.005540  ...           0            0            0   \n",
       "1       0.033212  ...           1            0            0   \n",
       "2       0.043333  ...           1            0            0   \n",
       "3       0.070496  ...           0            0            0   \n",
       "4       0.023318  ...           0            0            0   \n",
       "\n",
       "   has_complex_sugar  is_red  is_orange  is_yellow  is_green_light  \\\n",
       "0                  0       0          1          0               0   \n",
       "1                  0       0          1          0               1   \n",
       "2                  0       0          0          0               1   \n",
       "3                  0       0          0          0               0   \n",
       "4                  0       0          0          1               0   \n",
       "\n",
       "   is_green_dark  is_purple  \n",
       "0              1          0  \n",
       "1              1          0  \n",
       "2              0          0  \n",
       "3              0          0  \n",
       "4              0          0  \n",
       "\n",
       "[5 rows x 90 columns]"
      ]
     },
     "execution_count": 85,
     "metadata": {},
     "output_type": "execute_result"
    }
   ],
   "source": [
    "# Internet location of the data set\n",
    "url = 'https://raw.githubusercontent.com/pelorenz/vegan_recipes/master/vegan_recipes_v2.data'\n",
    "\n",
    "# Download the data into a dataframe object\n",
    "recipes = pd.read_table(url)\n",
    "\n",
    "# Display initial rows\n",
    "recipes.head()"
   ]
  },
  {
   "cell_type": "markdown",
   "metadata": {},
   "source": [
    "### Building on Milestone 2 Findings"
   ]
  },
  {
   "cell_type": "markdown",
   "metadata": {},
   "source": [
    "Here we examine the conclusions reached in milestone 2 and how they are relevant to building a regression model in milestone 3. In milestone 2 we set out to answer the question as to whether it is possible to predict the success of a recipe based on its contents measured in terms of user ratings. We examined the relationship between 3 variables and user ratings and identified 2 variables whose values were found to be significantly correlated with user ratings on the basis of T-tests, bootstrap resampling, Bayesian methods, ANOVA, and Tukey's HSD test. Our hypothesis tests were remarkably consistent in placing the mean user ratings of distinct groups partitioned by these features outside each other's confidence intervals."
   ]
  },
  {
   "cell_type": "markdown",
   "metadata": {},
   "source": [
    "In milestone 2 we discovered two significant relationships between features:\n",
    "\n",
    "- low fat recipes are less likely to receive positive user ratings than either medium- or high-fat recipes\n",
    "- high-sodium recipes are less likely to receive positive user ratings than low-sodium recipes"
   ]
  },
  {
   "cell_type": "markdown",
   "metadata": {},
   "source": [
    "In the present milestone we can leverage this information to build our model."
   ]
  },
  {
   "cell_type": "markdown",
   "metadata": {},
   "source": [
    "### Building on Milestone 1 Findings"
   ]
  },
  {
   "cell_type": "markdown",
   "metadata": {},
   "source": [
    "In milestone 1 we determined that several variables contained impossible values in which the percent in grams of a component per serving exceeded the mass in grams of the serving. The variables to which this applied were *total_fat_pct*, *sugar_pct*, and *carbohydrates_pct*. Therefore, to clean the data, we will remove any recipes that contain these impossible values on the assumption that their nutritional values are unreliable:"
   ]
  },
  {
   "cell_type": "code",
   "execution_count": 86,
   "metadata": {},
   "outputs": [],
   "source": [
    "# Remove recipes for which 'total_fat_pct' contains value greater than 1.0\n",
    "recipes = recipes[recipes.total_fat_pct < 1.0]\n",
    "\n",
    "# Remove recipes for which 'sugar_pct' contains value greater than 1.0\n",
    "recipes = recipes[recipes.sugar_pct < 1.0]\n",
    "\n",
    "# Remove recipes for which 'carbohydrates_pct' contains value greater than 1.0\n",
    "recipes = recipes[recipes.carbohydrates_pct < 1.0]"
   ]
  },
  {
   "cell_type": "markdown",
   "metadata": {},
   "source": [
    "### Linear Regression of User Ratings by Fat Content"
   ]
  },
  {
   "cell_type": "markdown",
   "metadata": {},
   "source": [
    "First we model the relationship between fat content and user ratings. A plot of *total_fat_pct* versus *mean_rating* reveals that the relationship between these variables is not best described by a straight line:"
   ]
  },
  {
   "cell_type": "code",
   "execution_count": 96,
   "metadata": {},
   "outputs": [
    {
     "data": {
      "text/plain": [
       "<matplotlib.axes._subplots.AxesSubplot at 0x3bc72e9c88>"
      ]
     },
     "execution_count": 96,
     "metadata": {},
     "output_type": "execute_result"
    },
    {
     "data": {
      "image/png": "[encoded data removed]",
      "text/plain": [
       "<Figure size 432x288 with 1 Axes>"
      ]
     },
     "metadata": {
      "needs_background": "light"
     },
     "output_type": "display_data"
    }
   ],
   "source": [
    "sns.scatterplot(x='total_fat_pct', y='mean_rating', data=recipes)"
   ]
  },
  {
   "cell_type": "markdown",
   "metadata": {},
   "source": [
    "The family of functions that appears to best describe the data is a reciprocal function of the form f(x) = p / (x - q) + r, where x is the independent variable and p, q, and r are the parameters, though in our case q = 0 and *r* = 5, the highest possible user rating."
   ]
  },
  {
   "cell_type": "code",
   "execution_count": null,
   "metadata": {},
   "outputs": [],
   "source": []
  },
  {
   "cell_type": "markdown",
   "metadata": {},
   "source": [
    "We define a regression model, fit it to the data, and produce a labeled graph showing the best fit line with the data points:"
   ]
  },
  {
   "cell_type": "code",
   "execution_count": 97,
   "metadata": {
    "scrolled": false
   },
   "outputs": [
    {
     "name": "stderr",
     "output_type": "stream",
     "text": [
      "C:\\Users\\Pete\\Anaconda3\\lib\\site-packages\\ipykernel_launcher.py:2: SettingWithCopyWarning: \n",
      "A value is trying to be set on a copy of a slice from a DataFrame\n",
      "\n",
      "See the caveats in the documentation: http://pandas.pydata.org/pandas-docs/stable/user_guide/indexing.html#returning-a-view-versus-a-copy\n",
      "  \n"
     ]
    },
    {
     "name": "stdout",
     "output_type": "stream",
     "text": [
      "[4.48876837e+00 1.42985929e-03]\n"
     ]
    },
    {
     "data": {
      "text/plain": [
       "<matplotlib.axes._subplots.AxesSubplot at 0x3bc73315c8>"
      ]
     },
     "execution_count": 97,
     "metadata": {},
     "output_type": "execute_result"
    },
    {
     "name": "stderr",
     "output_type": "stream",
     "text": [
      "C:\\Users\\Pete\\Anaconda3\\lib\\site-packages\\ipykernel_launcher.py:6: RuntimeWarning: divide by zero encountered in double_scalars\n",
      "  \n"
     ]
    },
    {
     "name": "stdout",
     "output_type": "stream",
     "text": [
      "y intercept = -inf\n"
     ]
    },
    {
     "data": {
      "image/png": "[encoded data removed]",
      "text/plain": [
       "<Figure size 432x288 with 1 Axes>"
      ]
     },
     "metadata": {
      "needs_background": "light"
     },
     "output_type": "display_data"
    }
   ],
   "source": [
    "# Replace zeros with small number to avoid divide-by-zero problems\n",
    "recipes.total_fat_pct[recipes.total_fat_pct < 0.01] = 0.01\n",
    "\n",
    "# Curve to apply to data\n",
    "def model_function(x, a, b):\n",
    "    return a - b / x\n",
    "\n",
    "# Perform least-squares regression with supplied model function\n",
    "popt, pcov = curve_fit(model_function, recipes.total_fat_pct, recipes.mean_rating, p0=[5, 0.4])\n",
    "\n",
    "# Add predicted to dataframe\n",
    "recipes['fat_predicted_rating'] = model_function(recipes.total_fat_pct, popt[0], popt[1])\n",
    "\n",
    "# Print model params\n",
    "print(popt)\n",
    "\n",
    "# Plot regression\n",
    "ax = sns.regplot(x='total_fat_pct', \n",
    "                 y=model_function(recipes.total_fat_pct, popt[0], popt[1]), \n",
    "                 data=recipes, color='red')\n",
    "sns.scatterplot(x='total_fat_pct', y='mean_rating', data=recipes, ax=ax)\n",
    "\n",
    "# Compute the y intercept\n",
    "y_intercept = model_function(0, popt[0], popt[1])\n",
    "\n",
    "# Display the y intercept\n",
    "print('y intercept = %4.3f' % y_intercept)"
   ]
  },
  {
   "cell_type": "markdown",
   "metadata": {},
   "source": [
    "The regression line is curved slightly towards the y axis and slopes slightly updwards as fat content increases. The y intercept is negative infinity (despite the plot, computing it causes a divide-by-zero error, see above), which reflects the asymtotic nature of the function."
   ]
  },
  {
   "cell_type": "markdown",
   "metadata": {},
   "source": [
    "To assess the model we now compute the residuals, R-squared, and adjusted R-squared:"
   ]
  },
  {
   "cell_type": "code",
   "execution_count": 100,
   "metadata": {},
   "outputs": [
    {
     "name": "stdout",
     "output_type": "stream",
     "text": [
      "R-squared = 0.0079 Adjusted R-squared = 0.0075\n"
     ]
    }
   ],
   "source": [
    "# Compute residuals and add to dataframe\n",
    "recipes['fat_residuals'] = recipes.mean_rating - model_function(recipes.total_fat_pct,\n",
    "                                                                popt[0], popt[1])\n",
    "\n",
    "# Compute total and residual sums of squares\n",
    "ss_res = np.sum(recipes['fat_residuals'] ** 2)\n",
    "ss_tot = np.sum((recipes.mean_rating - np.mean(recipes.mean_rating)) ** 2)\n",
    "\n",
    "# Compute R squared\n",
    "r_squared = 1 - (ss_res / ss_tot)\n",
    "\n",
    "# Number of samples\n",
    "n, _ = recipes.shape\n",
    "\n",
    "# Number of independent variables\n",
    "p = 1\n",
    "\n",
    "# Compute adjusted R squared\n",
    "adj_r_squared = 1 - (1 - r_squared) * (n - 1) / (n - p - 1)\n",
    "\n",
    "# Display R-squared and adjusted R-squared\n",
    "print('R-squared = %4.4f Adjusted R-squared = %4.4f' % (r_squared, adj_r_squared))"
   ]
  },
  {
   "cell_type": "markdown",
   "metadata": {},
   "source": [
    "The low values of R-squared and adjusted R-squared suggests that the model is not able to account for variability in the data set."
   ]
  },
  {
   "cell_type": "markdown",
   "metadata": {},
   "source": [
    "We now compute the root mean-squared error, which is analogous to the standard deviation of the unexplained variance:"
   ]
  },
  {
   "cell_type": "code",
   "execution_count": 101,
   "metadata": {},
   "outputs": [
    {
     "name": "stdout",
     "output_type": "stream",
     "text": [
      "The mean of the residuals = 0.000\n",
      "RMSE = 0.603\n"
     ]
    }
   ],
   "source": [
    "# Print mean of residuals\n",
    "print('The mean of the residuals = %4.3f' % (np.mean(recipes.fat_residuals)))\n",
    "\n",
    "# Print RMSE\n",
    "RMSE = np.std(recipes.fat_residuals)\n",
    "print('RMSE = %4.3f' % (RMSE))"
   ]
  },
  {
   "cell_type": "markdown",
   "metadata": {},
   "source": [
    "The root mean-squared error is well below one standard deviation, suggesting that most observations do not lie far beyond the regression curve."
   ]
  },
  {
   "cell_type": "markdown",
   "metadata": {},
   "source": [
    "We plot the residuals to determine their distribution:"
   ]
  },
  {
   "cell_type": "code",
   "execution_count": 102,
   "metadata": {},
   "outputs": [
    {
     "data": {
      "image/png": "[encoded data removed]",
      "text/plain": [
       "<Figure size 720x288 with 2 Axes>"
      ]
     },
     "metadata": {
      "needs_background": "light"
     },
     "output_type": "display_data"
    }
   ],
   "source": [
    "# Plot distribution of the residuals\n",
    "plot_resid_dist(recipes.fat_residuals)"
   ]
  },
  {
   "cell_type": "markdown",
   "metadata": {},
   "source": [
    "The residuals are not normally distributed as we would expect if the regression curve fit the data."
   ]
  },
  {
   "cell_type": "markdown",
   "metadata": {},
   "source": [
    "We now test how much the residuals fall within 2 RMSE's and how evenly they do so:"
   ]
  },
  {
   "cell_type": "code",
   "execution_count": 106,
   "metadata": {},
   "outputs": [
    {
     "data": {
      "image/png": "[encoded data removed]",
      "text/plain": [
       "<Figure size 432x288 with 1 Axes>"
      ]
     },
     "metadata": {
      "needs_background": "light"
     },
     "output_type": "display_data"
    }
   ],
   "source": [
    "def residual_plot(df, predicted_col, resid_col):\n",
    "    RMSE = np.std(df[resid_col])\n",
    "    sns.scatterplot(x=predicted_col, y=resid_col, data=df)\n",
    "    plt.axhline(0.0, color='red', linewidth=1.0)\n",
    "    plt.axhline(2.0*RMSE, color='red', linestyle='dashed', linewidth=1.0)\n",
    "    plt.axhline(-2.0*RMSE, color='red', linestyle='dashed', linewidth=1.0)\n",
    "    plt.title('PLot of residuals vs. predicted')\n",
    "    plt.xlabel('Predicted values')\n",
    "    plt.ylabel('Residuals')\n",
    "    plt.show()\n",
    "    \n",
    "residual_plot(recipes, 'fat_predicted_rating', 'fat_residuals')  "
   ]
  },
  {
   "cell_type": "markdown",
   "metadata": {},
   "source": [
    "The residuals have a boxy shape that is not evenly distributed withing 2 RMSE's of the regression curve, suggesting that the model has serious problems. Analysis of the residuals and their distribution suggests that the model is no better than choosing the mean as the predictor."
   ]
  },
  {
   "cell_type": "markdown",
   "metadata": {},
   "source": [
    "### Linear Regression User Ratings by Sodium Content"
   ]
  },
  {
   "cell_type": "markdown",
   "metadata": {},
   "source": [
    "TODO"
   ]
  }
 ],
 "metadata": {
  "kernelspec": {
   "display_name": "Python 3",
   "language": "python",
   "name": "python3"
  },
  "language_info": {
   "codemirror_mode": {
    "name": "ipython",
    "version": 3
   },
   "file_extension": ".py",
   "mimetype": "text/x-python",
   "name": "python",
   "nbconvert_exporter": "python",
   "pygments_lexer": "ipython3",
   "version": "3.7.4"
  }
 },
 "nbformat": 4,
 "nbformat_minor": 2
}
