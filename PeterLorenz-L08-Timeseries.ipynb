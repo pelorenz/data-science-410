{
 "cells": [
  {
   "cell_type": "markdown",
   "metadata": {},
   "source": [
    "# Assignment 8: Times Series Analysis"
   ]
  },
  {
   "cell_type": "markdown",
   "metadata": {},
   "source": [
    "In assignment 8 we perform time series analysis for milk production using the California dairy production data set to address the following questions:\n",
    "\n",
    "1. Is the time series stationary?\n",
    "2. Is there a significant seasonal component?\n",
    "3. For the residual from the STL decomposition of the time series, what is the order of the ARMA(p,q) process that best fits?\n",
    "\n",
    "We then forecast production for 12 months, reporting numeric values and plotting the confidence intervals. We try to answer:\n",
    "\n",
    "1. Are the confidence intervals reasonably small compared to the forecast means?\n",
    "2. How do the confidence intervals behave as time moves to the future?"
   ]
  },
  {
   "cell_type": "markdown",
   "metadata": {},
   "source": [
    "### Preparation"
   ]
  },
  {
   "cell_type": "markdown",
   "metadata": {},
   "source": [
    "Import required libraries:"
   ]
  },
  {
   "cell_type": "code",
   "execution_count": 9,
   "metadata": {},
   "outputs": [],
   "source": [
    "import pandas as pd\n",
    "import numpy as np\n",
    "import scipy.stats as ss\n",
    "import statsmodels.graphics.tsaplots as splt\n",
    "import statsmodels.tsa.arima_process as arima\n",
    "from statsmodels.tsa.arima_model import ARIMA, ARIMAResults\n",
    "from statsmodels.tsa.stattools import adfuller\n",
    "import pmdarima as pm\n",
    "import matplotlib.pyplot as plt"
   ]
  },
  {
   "cell_type": "markdown",
   "metadata": {},
   "source": [
    "Define global options:"
   ]
  },
  {
   "cell_type": "code",
   "execution_count": 2,
   "metadata": {},
   "outputs": [],
   "source": [
    "# Display plots inline\n",
    "%matplotlib inline\n",
    "\n",
    "# Display all outputs from cell\n",
    "from IPython.core.interactiveshell import InteractiveShell\n",
    "InteractiveShell.ast_node_interactivity = \"all\""
   ]
  },
  {
   "cell_type": "markdown",
   "metadata": {},
   "source": [
    "Declare functions:"
   ]
  },
  {
   "cell_type": "code",
   "execution_count": 3,
   "metadata": {},
   "outputs": [],
   "source": [
    "def plot_ts(ts, lab = ''):\n",
    "    ts.plot()\n",
    "    plt.title('Time series plot of ' + lab)\n",
    "    plt.ylabel('Value')\n",
    "    plt.xlabel('Date')"
   ]
  },
  {
   "cell_type": "markdown",
   "metadata": {},
   "source": [
    "### Load the Data Set"
   ]
  },
  {
   "cell_type": "markdown",
   "metadata": {},
   "source": [
    "We begin by loading the data set:"
   ]
  },
  {
   "cell_type": "code",
   "execution_count": 4,
   "metadata": {},
   "outputs": [
    {
     "data": {
      "text/html": [
       "<div>\n",
       "<style scoped>\n",
       "    .dataframe tbody tr th:only-of-type {\n",
       "        vertical-align: middle;\n",
       "    }\n",
       "\n",
       "    .dataframe tbody tr th {\n",
       "        vertical-align: top;\n",
       "    }\n",
       "\n",
       "    .dataframe thead th {\n",
       "        text-align: right;\n",
       "    }\n",
       "</style>\n",
       "<table border=\"1\" class=\"dataframe\">\n",
       "  <thead>\n",
       "    <tr style=\"text-align: right;\">\n",
       "      <th></th>\n",
       "      <th>Year</th>\n",
       "      <th>Month</th>\n",
       "      <th>Cotagecheese.Prod</th>\n",
       "      <th>Icecream.Prod</th>\n",
       "      <th>Milk.Prod</th>\n",
       "      <th>N.CA.Fat.Price</th>\n",
       "      <th>Month.Count</th>\n",
       "      <th>monthNumSqred</th>\n",
       "      <th>monthNumCubed</th>\n",
       "    </tr>\n",
       "  </thead>\n",
       "  <tbody>\n",
       "    <tr>\n",
       "      <td>0</td>\n",
       "      <td>1995</td>\n",
       "      <td>Jan</td>\n",
       "      <td>4.370</td>\n",
       "      <td>51.595</td>\n",
       "      <td>2.112</td>\n",
       "      <td>0.9803</td>\n",
       "      <td>1</td>\n",
       "      <td>1</td>\n",
       "      <td>1</td>\n",
       "    </tr>\n",
       "    <tr>\n",
       "      <td>1</td>\n",
       "      <td>1995</td>\n",
       "      <td>Feb</td>\n",
       "      <td>3.695</td>\n",
       "      <td>56.086</td>\n",
       "      <td>1.932</td>\n",
       "      <td>0.8924</td>\n",
       "      <td>2</td>\n",
       "      <td>4</td>\n",
       "      <td>8</td>\n",
       "    </tr>\n",
       "    <tr>\n",
       "      <td>2</td>\n",
       "      <td>1995</td>\n",
       "      <td>Mar</td>\n",
       "      <td>4.538</td>\n",
       "      <td>68.453</td>\n",
       "      <td>2.162</td>\n",
       "      <td>0.8924</td>\n",
       "      <td>3</td>\n",
       "      <td>9</td>\n",
       "      <td>27</td>\n",
       "    </tr>\n",
       "    <tr>\n",
       "      <td>3</td>\n",
       "      <td>1995</td>\n",
       "      <td>Apr</td>\n",
       "      <td>4.280</td>\n",
       "      <td>65.722</td>\n",
       "      <td>2.130</td>\n",
       "      <td>0.8967</td>\n",
       "      <td>4</td>\n",
       "      <td>16</td>\n",
       "      <td>64</td>\n",
       "    </tr>\n",
       "    <tr>\n",
       "      <td>4</td>\n",
       "      <td>1995</td>\n",
       "      <td>May</td>\n",
       "      <td>4.470</td>\n",
       "      <td>73.730</td>\n",
       "      <td>2.227</td>\n",
       "      <td>0.8967</td>\n",
       "      <td>5</td>\n",
       "      <td>25</td>\n",
       "      <td>125</td>\n",
       "    </tr>\n",
       "    <tr>\n",
       "      <td>...</td>\n",
       "      <td>...</td>\n",
       "      <td>...</td>\n",
       "      <td>...</td>\n",
       "      <td>...</td>\n",
       "      <td>...</td>\n",
       "      <td>...</td>\n",
       "      <td>...</td>\n",
       "      <td>...</td>\n",
       "      <td>...</td>\n",
       "    </tr>\n",
       "    <tr>\n",
       "      <td>223</td>\n",
       "      <td>2013</td>\n",
       "      <td>Aug</td>\n",
       "      <td>2.169</td>\n",
       "      <td>78.382</td>\n",
       "      <td>3.400</td>\n",
       "      <td>1.6273</td>\n",
       "      <td>224</td>\n",
       "      <td>50176</td>\n",
       "      <td>11239424</td>\n",
       "    </tr>\n",
       "    <tr>\n",
       "      <td>224</td>\n",
       "      <td>2013</td>\n",
       "      <td>Sep</td>\n",
       "      <td>2.193</td>\n",
       "      <td>74.871</td>\n",
       "      <td>3.197</td>\n",
       "      <td>1.5519</td>\n",
       "      <td>225</td>\n",
       "      <td>50625</td>\n",
       "      <td>11390625</td>\n",
       "    </tr>\n",
       "    <tr>\n",
       "      <td>225</td>\n",
       "      <td>2013</td>\n",
       "      <td>Oct</td>\n",
       "      <td>2.284</td>\n",
       "      <td>70.011</td>\n",
       "      <td>3.338</td>\n",
       "      <td>1.5566</td>\n",
       "      <td>226</td>\n",
       "      <td>51076</td>\n",
       "      <td>11543176</td>\n",
       "    </tr>\n",
       "    <tr>\n",
       "      <td>226</td>\n",
       "      <td>2013</td>\n",
       "      <td>Nov</td>\n",
       "      <td>1.865</td>\n",
       "      <td>61.394</td>\n",
       "      <td>3.275</td>\n",
       "      <td>1.7537</td>\n",
       "      <td>227</td>\n",
       "      <td>51529</td>\n",
       "      <td>11697083</td>\n",
       "    </tr>\n",
       "    <tr>\n",
       "      <td>227</td>\n",
       "      <td>2013</td>\n",
       "      <td>Dec</td>\n",
       "      <td>2.345</td>\n",
       "      <td>53.653</td>\n",
       "      <td>3.473</td>\n",
       "      <td>1.6747</td>\n",
       "      <td>228</td>\n",
       "      <td>51984</td>\n",
       "      <td>11852352</td>\n",
       "    </tr>\n",
       "  </tbody>\n",
       "</table>\n",
       "<p>228 rows × 9 columns</p>\n",
       "</div>"
      ],
      "text/plain": [
       "     Year Month  Cotagecheese.Prod  Icecream.Prod  Milk.Prod  N.CA.Fat.Price  \\\n",
       "0    1995   Jan              4.370         51.595      2.112          0.9803   \n",
       "1    1995   Feb              3.695         56.086      1.932          0.8924   \n",
       "2    1995   Mar              4.538         68.453      2.162          0.8924   \n",
       "3    1995   Apr              4.280         65.722      2.130          0.8967   \n",
       "4    1995   May              4.470         73.730      2.227          0.8967   \n",
       "..    ...   ...                ...            ...        ...             ...   \n",
       "223  2013   Aug              2.169         78.382      3.400          1.6273   \n",
       "224  2013   Sep              2.193         74.871      3.197          1.5519   \n",
       "225  2013   Oct              2.284         70.011      3.338          1.5566   \n",
       "226  2013   Nov              1.865         61.394      3.275          1.7537   \n",
       "227  2013   Dec              2.345         53.653      3.473          1.6747   \n",
       "\n",
       "     Month.Count  monthNumSqred  monthNumCubed  \n",
       "0              1              1              1  \n",
       "1              2              4              8  \n",
       "2              3              9             27  \n",
       "3              4             16             64  \n",
       "4              5             25            125  \n",
       "..           ...            ...            ...  \n",
       "223          224          50176       11239424  \n",
       "224          225          50625       11390625  \n",
       "225          226          51076       11543176  \n",
       "226          227          51529       11697083  \n",
       "227          228          51984       11852352  \n",
       "\n",
       "[228 rows x 9 columns]"
      ]
     },
     "execution_count": 4,
     "metadata": {},
     "output_type": "execute_result"
    }
   ],
   "source": [
    "# Internet location of the data set\n",
    "url = \"https://library.startlearninglabs.uw.edu/DATASCI410/Datasets/CADairyProduction.csv\"\n",
    "\n",
    "# Download the data into a dataframe object\n",
    "dairy = pd.read_csv(url)\n",
    "\n",
    "dairy"
   ]
  },
  {
   "cell_type": "markdown",
   "metadata": {},
   "source": [
    "In this assignment we focus on milk production."
   ]
  },
  {
   "cell_type": "markdown",
   "metadata": {},
   "source": [
    "### Is Milk Production Stationary?"
   ]
  },
  {
   "cell_type": "markdown",
   "metadata": {},
   "source": [
    "We now seek to answer the question as to whether milk production is stationary. First, we load the data into a series and plot:"
   ]
  },
  {
   "cell_type": "code",
   "execution_count": 5,
   "metadata": {
    "scrolled": true
   },
   "outputs": [
    {
     "data": {
      "image/png": "[encoded data removed]",
      "text/plain": [
       "<Figure size 432x288 with 1 Axes>"
      ]
     },
     "metadata": {
      "needs_background": "light"
     },
     "output_type": "display_data"
    }
   ],
   "source": [
    "# Define date range for milk production\n",
    "dates = pd.date_range(start='1-1995', end='1-2014', freq='M')\n",
    "\n",
    "# Load data as a series\n",
    "milk = pd.Series(dairy['Milk.Prod'].values, index=dates)\n",
    "\n",
    "# Plot data\n",
    "plot_ts(milk, 'milk production')"
   ]
  },
  {
   "cell_type": "markdown",
   "metadata": {},
   "source": [
    " Now we look for trends in the autocorrelation function (ACF) and partial autocorrelation function (PACF):"
   ]
  },
  {
   "cell_type": "code",
   "execution_count": 10,
   "metadata": {},
   "outputs": [
    {
     "data": {
      "image/png": "[encoded data removed]",
      "text/plain": [
       "<Figure size 432x288 with 1 Axes>"
      ]
     },
     "metadata": {
      "needs_background": "light"
     },
     "output_type": "display_data"
    },
    {
     "data": {
      "image/png": "[encoded data removed]",
      "text/plain": [
       "<Figure size 432x288 with 1 Axes>"
      ]
     },
     "metadata": {
      "needs_background": "light"
     },
     "output_type": "display_data"
    }
   ],
   "source": [
    "# Plot the ACF and PACF\n",
    "_=splt.plot_acf(milk, lags = 40)\n",
    "_=splt.plot_pacf(milk, lags = 40)"
   ]
  },
  {
   "cell_type": "markdown",
   "metadata": {},
   "source": [
    "Note that the ACF decays steadily and the PACF exhibits significant values for several lags, showing that the trend creates a dependency from one value to the next. Hence, the time series for milk production is **not stationary**."
   ]
  },
  {
   "cell_type": "markdown",
   "metadata": {},
   "source": [
    "### Is Milk Production Seasonal?"
   ]
  },
  {
   "cell_type": "markdown",
   "metadata": {},
   "source": [
    "We now determine if milk production has a seasonal component."
   ]
  },
  {
   "cell_type": "code",
   "execution_count": null,
   "metadata": {},
   "outputs": [],
   "source": []
  },
  {
   "cell_type": "markdown",
   "metadata": {},
   "source": [
    "1. Is this time series stationary?\n",
    "2. Is there a significant seasonal component?\n",
    "3. Perform STL decomposition of the time series. Should this decomposition be performed with the\n",
    "additive or multiplicative (log of values) model? Are the residuals stationary?\n",
    "4. Use the auto_arima function from the pmdarima package to find a best model fit, excluding the last\n",
    "12 months of observations from the training data, and setting d=1 and D=1 and limit p, q, P and Q to\n",
    "3 with starting values of 1. Which model coefficients are statistically significant?\n",
    "5. Then forecast the last 12 months and report both numeric values and plot the prediction vs. the\n",
    "actual values. Would you say the predictions are close to the actual observations?\n",
    "6. Are the residuals approximately Normally distributed?\n",
    "7. What is the RMSE? Is this value small relative to the forecasted values?"
   ]
  },
  {
   "cell_type": "code",
   "execution_count": null,
   "metadata": {},
   "outputs": [],
   "source": []
  }
 ],
 "metadata": {
  "kernelspec": {
   "display_name": "Python 3",
   "language": "python",
   "name": "python3"
  },
  "language_info": {
   "codemirror_mode": {
    "name": "ipython",
    "version": 3
   },
   "file_extension": ".py",
   "mimetype": "text/x-python",
   "name": "python",
   "nbconvert_exporter": "python",
   "pygments_lexer": "ipython3",
   "version": "3.7.4"
  }
 },
 "nbformat": 4,
 "nbformat_minor": 2
}
