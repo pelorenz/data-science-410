{
 "cells": [
  {
   "cell_type": "markdown",
   "metadata": {},
   "source": [
    "# Assignment 8: Times Series Analysis"
   ]
  },
  {
   "cell_type": "markdown",
   "metadata": {},
   "source": [
    "In assignment 8 we perform time series analysis for milk production using the California dairy production data set to address the following questions:\n",
    "\n",
    "1. Is the time series stationary?\n",
    "2. Is there a significant seasonal component?\n",
    "3. For the residual from the STL decomposition of the time series, what is the order of the ARMA(p,q) process that best fits?\n",
    "\n",
    "We then forecast production for 12 months, reporting numeric values and plotting the confidence intervals. We try to answer:\n",
    "\n",
    "1. Are the confidence intervals reasonably small compared to the forecast means?\n",
    "2. How do the confidence intervals behave as time moves to the future?"
   ]
  },
  {
   "cell_type": "markdown",
   "metadata": {},
   "source": [
    "### Preparation"
   ]
  },
  {
   "cell_type": "markdown",
   "metadata": {},
   "source": [
    "Import required libraries:"
   ]
  },
  {
   "cell_type": "code",
   "execution_count": 13,
   "metadata": {},
   "outputs": [],
   "source": [
    "import pandas as pd\n",
    "import numpy as np\n",
    "import scipy.stats as ss\n",
    "import statsmodels.graphics.tsaplots as splt\n",
    "import statsmodels.tsa.arima_process as arima\n",
    "from statsmodels.tsa.arima_model import ARIMA, ARIMAResults\n",
    "import statsmodels.tsa.seasonal as sts\n",
    "from statsmodels.tsa.stattools import adfuller\n",
    "import pmdarima as pm\n",
    "import matplotlib.pyplot as plt"
   ]
  },
  {
   "cell_type": "markdown",
   "metadata": {},
   "source": [
    "Define global options:"
   ]
  },
  {
   "cell_type": "code",
   "execution_count": 2,
   "metadata": {},
   "outputs": [],
   "source": [
    "# Display plots inline\n",
    "%matplotlib inline\n",
    "\n",
    "# Display all outputs from cell\n",
    "from IPython.core.interactiveshell import InteractiveShell\n",
    "InteractiveShell.ast_node_interactivity = \"all\""
   ]
  },
  {
   "cell_type": "markdown",
   "metadata": {},
   "source": [
    "Declare functions:"
   ]
  },
  {
   "cell_type": "code",
   "execution_count": 11,
   "metadata": {},
   "outputs": [],
   "source": [
    "# Plots the given time series\n",
    "def plot_ts(ts, lab = ''):\n",
    "    ts.plot()\n",
    "    plt.title('Time series plot of ' + lab)\n",
    "    plt.ylabel('Value')\n",
    "    plt.xlabel('Date')\n",
    "\n",
    "# Plots seasonal time series\n",
    "def decomp_ts(ts, freq = 'M', model = 'additive'):\n",
    "    res = sts.seasonal_decompose(ts, model = model) \n",
    "    res.plot()\n",
    "    return(pd.DataFrame({'resid': res.resid, \n",
    "                         'trend': res.trend, \n",
    "                         'seasonal': res.seasonal},\n",
    "                         index = ts.index) )"
   ]
  },
  {
   "cell_type": "markdown",
   "metadata": {},
   "source": [
    "### Load the Data Set"
   ]
  },
  {
   "cell_type": "markdown",
   "metadata": {},
   "source": [
    "We begin by loading the data set:"
   ]
  },
  {
   "cell_type": "code",
   "execution_count": 4,
   "metadata": {},
   "outputs": [
    {
     "data": {
      "text/html": [
       "<div>\n",
       "<style scoped>\n",
       "    .dataframe tbody tr th:only-of-type {\n",
       "        vertical-align: middle;\n",
       "    }\n",
       "\n",
       "    .dataframe tbody tr th {\n",
       "        vertical-align: top;\n",
       "    }\n",
       "\n",
       "    .dataframe thead th {\n",
       "        text-align: right;\n",
       "    }\n",
       "</style>\n",
       "<table border=\"1\" class=\"dataframe\">\n",
       "  <thead>\n",
       "    <tr style=\"text-align: right;\">\n",
       "      <th></th>\n",
       "      <th>Year</th>\n",
       "      <th>Month</th>\n",
       "      <th>Cotagecheese.Prod</th>\n",
       "      <th>Icecream.Prod</th>\n",
       "      <th>Milk.Prod</th>\n",
       "      <th>N.CA.Fat.Price</th>\n",
       "      <th>Month.Count</th>\n",
       "      <th>monthNumSqred</th>\n",
       "      <th>monthNumCubed</th>\n",
       "    </tr>\n",
       "  </thead>\n",
       "  <tbody>\n",
       "    <tr>\n",
       "      <td>0</td>\n",
       "      <td>1995</td>\n",
       "      <td>Jan</td>\n",
       "      <td>4.370</td>\n",
       "      <td>51.595</td>\n",
       "      <td>2.112</td>\n",
       "      <td>0.9803</td>\n",
       "      <td>1</td>\n",
       "      <td>1</td>\n",
       "      <td>1</td>\n",
       "    </tr>\n",
       "    <tr>\n",
       "      <td>1</td>\n",
       "      <td>1995</td>\n",
       "      <td>Feb</td>\n",
       "      <td>3.695</td>\n",
       "      <td>56.086</td>\n",
       "      <td>1.932</td>\n",
       "      <td>0.8924</td>\n",
       "      <td>2</td>\n",
       "      <td>4</td>\n",
       "      <td>8</td>\n",
       "    </tr>\n",
       "    <tr>\n",
       "      <td>2</td>\n",
       "      <td>1995</td>\n",
       "      <td>Mar</td>\n",
       "      <td>4.538</td>\n",
       "      <td>68.453</td>\n",
       "      <td>2.162</td>\n",
       "      <td>0.8924</td>\n",
       "      <td>3</td>\n",
       "      <td>9</td>\n",
       "      <td>27</td>\n",
       "    </tr>\n",
       "    <tr>\n",
       "      <td>3</td>\n",
       "      <td>1995</td>\n",
       "      <td>Apr</td>\n",
       "      <td>4.280</td>\n",
       "      <td>65.722</td>\n",
       "      <td>2.130</td>\n",
       "      <td>0.8967</td>\n",
       "      <td>4</td>\n",
       "      <td>16</td>\n",
       "      <td>64</td>\n",
       "    </tr>\n",
       "    <tr>\n",
       "      <td>4</td>\n",
       "      <td>1995</td>\n",
       "      <td>May</td>\n",
       "      <td>4.470</td>\n",
       "      <td>73.730</td>\n",
       "      <td>2.227</td>\n",
       "      <td>0.8967</td>\n",
       "      <td>5</td>\n",
       "      <td>25</td>\n",
       "      <td>125</td>\n",
       "    </tr>\n",
       "    <tr>\n",
       "      <td>...</td>\n",
       "      <td>...</td>\n",
       "      <td>...</td>\n",
       "      <td>...</td>\n",
       "      <td>...</td>\n",
       "      <td>...</td>\n",
       "      <td>...</td>\n",
       "      <td>...</td>\n",
       "      <td>...</td>\n",
       "      <td>...</td>\n",
       "    </tr>\n",
       "    <tr>\n",
       "      <td>223</td>\n",
       "      <td>2013</td>\n",
       "      <td>Aug</td>\n",
       "      <td>2.169</td>\n",
       "      <td>78.382</td>\n",
       "      <td>3.400</td>\n",
       "      <td>1.6273</td>\n",
       "      <td>224</td>\n",
       "      <td>50176</td>\n",
       "      <td>11239424</td>\n",
       "    </tr>\n",
       "    <tr>\n",
       "      <td>224</td>\n",
       "      <td>2013</td>\n",
       "      <td>Sep</td>\n",
       "      <td>2.193</td>\n",
       "      <td>74.871</td>\n",
       "      <td>3.197</td>\n",
       "      <td>1.5519</td>\n",
       "      <td>225</td>\n",
       "      <td>50625</td>\n",
       "      <td>11390625</td>\n",
       "    </tr>\n",
       "    <tr>\n",
       "      <td>225</td>\n",
       "      <td>2013</td>\n",
       "      <td>Oct</td>\n",
       "      <td>2.284</td>\n",
       "      <td>70.011</td>\n",
       "      <td>3.338</td>\n",
       "      <td>1.5566</td>\n",
       "      <td>226</td>\n",
       "      <td>51076</td>\n",
       "      <td>11543176</td>\n",
       "    </tr>\n",
       "    <tr>\n",
       "      <td>226</td>\n",
       "      <td>2013</td>\n",
       "      <td>Nov</td>\n",
       "      <td>1.865</td>\n",
       "      <td>61.394</td>\n",
       "      <td>3.275</td>\n",
       "      <td>1.7537</td>\n",
       "      <td>227</td>\n",
       "      <td>51529</td>\n",
       "      <td>11697083</td>\n",
       "    </tr>\n",
       "    <tr>\n",
       "      <td>227</td>\n",
       "      <td>2013</td>\n",
       "      <td>Dec</td>\n",
       "      <td>2.345</td>\n",
       "      <td>53.653</td>\n",
       "      <td>3.473</td>\n",
       "      <td>1.6747</td>\n",
       "      <td>228</td>\n",
       "      <td>51984</td>\n",
       "      <td>11852352</td>\n",
       "    </tr>\n",
       "  </tbody>\n",
       "</table>\n",
       "<p>228 rows × 9 columns</p>\n",
       "</div>"
      ],
      "text/plain": [
       "     Year Month  Cotagecheese.Prod  Icecream.Prod  Milk.Prod  N.CA.Fat.Price  \\\n",
       "0    1995   Jan              4.370         51.595      2.112          0.9803   \n",
       "1    1995   Feb              3.695         56.086      1.932          0.8924   \n",
       "2    1995   Mar              4.538         68.453      2.162          0.8924   \n",
       "3    1995   Apr              4.280         65.722      2.130          0.8967   \n",
       "4    1995   May              4.470         73.730      2.227          0.8967   \n",
       "..    ...   ...                ...            ...        ...             ...   \n",
       "223  2013   Aug              2.169         78.382      3.400          1.6273   \n",
       "224  2013   Sep              2.193         74.871      3.197          1.5519   \n",
       "225  2013   Oct              2.284         70.011      3.338          1.5566   \n",
       "226  2013   Nov              1.865         61.394      3.275          1.7537   \n",
       "227  2013   Dec              2.345         53.653      3.473          1.6747   \n",
       "\n",
       "     Month.Count  monthNumSqred  monthNumCubed  \n",
       "0              1              1              1  \n",
       "1              2              4              8  \n",
       "2              3              9             27  \n",
       "3              4             16             64  \n",
       "4              5             25            125  \n",
       "..           ...            ...            ...  \n",
       "223          224          50176       11239424  \n",
       "224          225          50625       11390625  \n",
       "225          226          51076       11543176  \n",
       "226          227          51529       11697083  \n",
       "227          228          51984       11852352  \n",
       "\n",
       "[228 rows x 9 columns]"
      ]
     },
     "execution_count": 4,
     "metadata": {},
     "output_type": "execute_result"
    }
   ],
   "source": [
    "# Internet location of the data set\n",
    "url = \"https://library.startlearninglabs.uw.edu/DATASCI410/Datasets/CADairyProduction.csv\"\n",
    "\n",
    "# Download the data into a dataframe object\n",
    "dairy = pd.read_csv(url)\n",
    "\n",
    "dairy"
   ]
  },
  {
   "cell_type": "markdown",
   "metadata": {},
   "source": [
    "In this assignment we focus on milk production."
   ]
  },
  {
   "cell_type": "markdown",
   "metadata": {},
   "source": [
    "### Is Milk Production Stationary?"
   ]
  },
  {
   "cell_type": "markdown",
   "metadata": {},
   "source": [
    "We now seek to answer the question as to whether milk production is stationary. First, we load the data into a series and plot:"
   ]
  },
  {
   "cell_type": "code",
   "execution_count": 5,
   "metadata": {
    "scrolled": true
   },
   "outputs": [
    {
     "data": {
      "image/png": "[encoded data removed]",
      "text/plain": [
       "<Figure size 432x288 with 1 Axes>"
      ]
     },
     "metadata": {
      "needs_background": "light"
     },
     "output_type": "display_data"
    }
   ],
   "source": [
    "# Define date range for milk production\n",
    "dates = pd.date_range(start='1-1995', end='1-2014', freq='M')\n",
    "\n",
    "# Load data as a series\n",
    "milk = pd.Series(dairy['Milk.Prod'].values, index=dates)\n",
    "\n",
    "# Plot data\n",
    "plot_ts(milk, 'milk production')"
   ]
  },
  {
   "cell_type": "markdown",
   "metadata": {},
   "source": [
    " Now we look for trends in the autocorrelation function (ACF) and partial autocorrelation function (PACF):"
   ]
  },
  {
   "cell_type": "code",
   "execution_count": 10,
   "metadata": {},
   "outputs": [
    {
     "data": {
      "image/png": "[encoded data removed]",
      "text/plain": [
       "<Figure size 432x288 with 1 Axes>"
      ]
     },
     "metadata": {
      "needs_background": "light"
     },
     "output_type": "display_data"
    },
    {
     "data": {
      "image/png": "[encoded data removed]",
      "text/plain": [
       "<Figure size 432x288 with 1 Axes>"
      ]
     },
     "metadata": {
      "needs_background": "light"
     },
     "output_type": "display_data"
    }
   ],
   "source": [
    "# Plot the ACF and PACF\n",
    "_=splt.plot_acf(milk, lags = 40)\n",
    "_=splt.plot_pacf(milk, lags = 40)"
   ]
  },
  {
   "cell_type": "markdown",
   "metadata": {},
   "source": [
    "Note that the ACF decays steadily and the PACF exhibits significant values for several lags, showing that the trend creates a dependency from one value to the next. Hence, the time series for milk production is **not stationary**."
   ]
  },
  {
   "cell_type": "markdown",
   "metadata": {},
   "source": [
    "### Is Milk Production Seasonal?"
   ]
  },
  {
   "cell_type": "markdown",
   "metadata": {},
   "source": [
    "We now determine if milk production has a seasonal component by examining the observed data against the trend, seasonal, and residual elements obtained using a decomposition model:"
   ]
  },
  {
   "cell_type": "code",
   "execution_count": 14,
   "metadata": {
    "scrolled": false
   },
   "outputs": [
    {
     "name": "stdout",
     "output_type": "stream",
     "text": [
      "               resid     trend  seasonal\n",
      "1995-01-31       NaN       NaN  0.027271\n",
      "1995-02-28       NaN       NaN -0.179759\n",
      "1995-03-31       NaN       NaN  0.144447\n",
      "1995-04-30       NaN       NaN  0.079891\n",
      "1995-05-31       NaN       NaN  0.163026\n",
      "1995-06-30       NaN       NaN  0.011056\n",
      "1995-07-31  0.053120  2.110458  0.020421\n",
      "1995-08-31  0.035155  2.113000  0.003845\n",
      "1995-09-30  0.065041  2.116125 -0.119166\n",
      "1995-10-31  0.027444  2.117958 -0.024403\n",
      "1995-11-30  0.028062  2.119583 -0.117646\n",
      "1995-12-31 -0.020600  2.120583 -0.008984\n"
     ]
    },
    {
     "data": {
      "text/html": [
       "<div>\n",
       "<style scoped>\n",
       "    .dataframe tbody tr th:only-of-type {\n",
       "        vertical-align: middle;\n",
       "    }\n",
       "\n",
       "    .dataframe tbody tr th {\n",
       "        vertical-align: top;\n",
       "    }\n",
       "\n",
       "    .dataframe thead th {\n",
       "        text-align: right;\n",
       "    }\n",
       "</style>\n",
       "<table border=\"1\" class=\"dataframe\">\n",
       "  <thead>\n",
       "    <tr style=\"text-align: right;\">\n",
       "      <th></th>\n",
       "      <th>resid</th>\n",
       "      <th>trend</th>\n",
       "      <th>seasonal</th>\n",
       "    </tr>\n",
       "  </thead>\n",
       "  <tbody>\n",
       "    <tr>\n",
       "      <td>2013-01-31</td>\n",
       "      <td>0.008687</td>\n",
       "      <td>3.426042</td>\n",
       "      <td>0.027271</td>\n",
       "    </tr>\n",
       "    <tr>\n",
       "      <td>2013-02-28</td>\n",
       "      <td>-0.014074</td>\n",
       "      <td>3.424833</td>\n",
       "      <td>-0.179759</td>\n",
       "    </tr>\n",
       "    <tr>\n",
       "      <td>2013-03-31</td>\n",
       "      <td>0.102178</td>\n",
       "      <td>3.429375</td>\n",
       "      <td>0.144447</td>\n",
       "    </tr>\n",
       "    <tr>\n",
       "      <td>2013-04-30</td>\n",
       "      <td>0.110900</td>\n",
       "      <td>3.431208</td>\n",
       "      <td>0.079891</td>\n",
       "    </tr>\n",
       "    <tr>\n",
       "      <td>2013-05-31</td>\n",
       "      <td>0.124016</td>\n",
       "      <td>3.432958</td>\n",
       "      <td>0.163026</td>\n",
       "    </tr>\n",
       "    <tr>\n",
       "      <td>2013-06-30</td>\n",
       "      <td>0.042236</td>\n",
       "      <td>3.435708</td>\n",
       "      <td>0.011056</td>\n",
       "    </tr>\n",
       "    <tr>\n",
       "      <td>2013-07-31</td>\n",
       "      <td>NaN</td>\n",
       "      <td>NaN</td>\n",
       "      <td>0.020421</td>\n",
       "    </tr>\n",
       "    <tr>\n",
       "      <td>2013-08-31</td>\n",
       "      <td>NaN</td>\n",
       "      <td>NaN</td>\n",
       "      <td>0.003845</td>\n",
       "    </tr>\n",
       "    <tr>\n",
       "      <td>2013-09-30</td>\n",
       "      <td>NaN</td>\n",
       "      <td>NaN</td>\n",
       "      <td>-0.119166</td>\n",
       "    </tr>\n",
       "    <tr>\n",
       "      <td>2013-10-31</td>\n",
       "      <td>NaN</td>\n",
       "      <td>NaN</td>\n",
       "      <td>-0.024403</td>\n",
       "    </tr>\n",
       "    <tr>\n",
       "      <td>2013-11-30</td>\n",
       "      <td>NaN</td>\n",
       "      <td>NaN</td>\n",
       "      <td>-0.117646</td>\n",
       "    </tr>\n",
       "    <tr>\n",
       "      <td>2013-12-31</td>\n",
       "      <td>NaN</td>\n",
       "      <td>NaN</td>\n",
       "      <td>-0.008984</td>\n",
       "    </tr>\n",
       "  </tbody>\n",
       "</table>\n",
       "</div>"
      ],
      "text/plain": [
       "               resid     trend  seasonal\n",
       "2013-01-31  0.008687  3.426042  0.027271\n",
       "2013-02-28 -0.014074  3.424833 -0.179759\n",
       "2013-03-31  0.102178  3.429375  0.144447\n",
       "2013-04-30  0.110900  3.431208  0.079891\n",
       "2013-05-31  0.124016  3.432958  0.163026\n",
       "2013-06-30  0.042236  3.435708  0.011056\n",
       "2013-07-31       NaN       NaN  0.020421\n",
       "2013-08-31       NaN       NaN  0.003845\n",
       "2013-09-30       NaN       NaN -0.119166\n",
       "2013-10-31       NaN       NaN -0.024403\n",
       "2013-11-30       NaN       NaN -0.117646\n",
       "2013-12-31       NaN       NaN -0.008984"
      ]
     },
     "execution_count": 14,
     "metadata": {},
     "output_type": "execute_result"
    },
    {
     "data": {
      "image/png": "[encoded data removed]",
      "text/plain": [
       "<Figure size 432x288 with 4 Axes>"
      ]
     },
     "metadata": {
      "needs_background": "light"
     },
     "output_type": "display_data"
    }
   ],
   "source": [
    "decomp = decomp_ts(milk, model='additive')\n",
    "print(decomp[:12])\n",
    "decomp[-12:]"
   ]
  },
  {
   "cell_type": "markdown",
   "metadata": {},
   "source": [
    "After decomposing the time series into three components, we examine the seasonal component. The sinoidal pattern of the seasonal component reveals a clear seasonal fluctuation in milk production. This is not surprising dairy production is an agricultural industry."
   ]
  },
  {
   "cell_type": "markdown",
   "metadata": {},
   "source": [
    "### Perform STL Decomposition of the Time Series"
   ]
  },
  {
   "cell_type": "markdown",
   "metadata": {},
   "source": [
    "We performed STL decomposition above to determine whether the data has a seasonal component. In our case, the **additive values of the model** (vs the multiplicative values) were sufficient to reveal the underlying seasonal pattern of the data."
   ]
  },
  {
   "cell_type": "markdown",
   "metadata": {},
   "source": [
    "Examining the residuals reveals that they are **not stationary** but fluctuate erratically from month to month:"
   ]
  },
  {
   "cell_type": "code",
   "execution_count": 17,
   "metadata": {},
   "outputs": [
    {
     "data": {
      "text/plain": [
       "array([        nan,         nan,         nan,         nan,         nan,\n",
       "               nan,  0.05312018,  0.0351549 ,  0.06504147,  0.02744425,\n",
       "        0.02806231, -0.02059973, -0.03952103,  0.05555073, -0.09386362,\n",
       "       -0.0463914 , -0.06869232, -0.01801408,  0.00474518, -0.0358451 ,\n",
       "        0.08699981,  0.05327758,  0.07172897,  0.0042336 , -0.08268769,\n",
       "       -0.0430326 , -0.04911362,  0.00177527, -0.03248399,  0.00823592,\n",
       "        0.06024518,  0.0477799 ,  0.06129147,  0.06206925,  0.06852064,\n",
       "       -0.0008914 ,  0.00393731, -0.04186593, -0.09607195, -0.05897473,\n",
       "       -0.02544232,  0.00748592, -0.01717149, -0.04951177, -0.03020853,\n",
       "        0.03127758,  0.02418731, -0.00468306,  0.00193731, -0.00719927,\n",
       "        0.00096971,  0.0116086 , -0.00840066, -0.03413908, -0.05871316,\n",
       "        0.0255299 ,  0.04483314,  0.02581925,  0.04372897,  0.0222336 ,\n",
       "        0.03552064,  0.07592573, -0.07186362, -0.02193306, -0.04619232,\n",
       "       -0.02259742,  0.07378684, -0.01313677,  0.02520814,  0.01227758,\n",
       "        0.00156231,  0.00165027,  0.00743731, -0.01461593, -0.06811362,\n",
       "       -0.0351414 , -0.03177566,  0.00827758,  0.02337018,  0.03194657,\n",
       "        0.03229147,  0.02006925,  0.01222897, -0.0220164 , -0.03302103,\n",
       "       -0.04544927, -0.03182195, -0.02743306,  0.01814101,  0.05177758,\n",
       "        0.04953684,  0.06282157,  0.00379147,  0.01177758, -0.01972936,\n",
       "       -0.00130806,  0.00606231, -0.00311593,  0.01026138, -0.00105806,\n",
       "       -0.02406732,  0.00794425, -0.00754649,  0.01048823, -0.00975019,\n",
       "       -0.01588908, -0.02660436, -0.00784973, -0.01002103,  0.0519674 ,\n",
       "       -0.03678029, -0.0170164 , -0.03656732, -0.01809742,  0.01532851,\n",
       "        0.02682157,  0.04816647,  0.04448592,  0.00689564,  0.0157336 ,\n",
       "       -0.04102103, -0.06936593, -0.02332195, -0.00409973,  0.00993268,\n",
       "        0.04431925, -0.03154649,  0.0011549 ,  0.03466647, -0.00655575,\n",
       "       -0.02014603, -0.00759973,  0.01731231,  0.01988407,  0.07342805,\n",
       "        0.01319194, -0.00256732, -0.03597242, -0.13958816,  0.0371549 ,\n",
       "        0.00545814, -0.02034742, -0.02785436,  0.01494194,  0.03139564,\n",
       "       -0.00107427,  0.06651138,  0.0148586 , -0.05544232, -0.05355575,\n",
       "        0.03420351,  0.0441549 , -0.04787519,  0.01406925, -0.00285436,\n",
       "        0.02790027,  0.02285397,  0.0717174 ,  0.05701138, -0.00118306,\n",
       "       -0.01510899, -0.02838908, -0.03537982, -0.0292201 , -0.01470853,\n",
       "        0.01048592,  0.03610397,  0.0649836 ,  0.05331231, -0.04024093,\n",
       "        0.01655305,  0.02515027,  0.03593268, -0.02718075, -0.06062982,\n",
       "       -0.04451177, -0.09241686, -0.04809742, -0.03014603,  0.00819194,\n",
       "        0.04497897, -0.0419076 ,  0.00992805,  0.00931694,  0.02884934,\n",
       "        0.02090258,  0.01432851,  0.02707157,  0.03554147, -0.01543075,\n",
       "       -0.01127103, -0.02922473, -0.05293769, -0.08469927,  0.01513638,\n",
       "        0.00452527,  0.07076601,  0.05015258,  0.04995351,  0.00969657,\n",
       "       -0.08058353, -0.07297242, -0.07231269, -0.03134973,  0.05443731,\n",
       "        0.16025907,  0.14763638,  0.05056694,  0.08776601,  0.02527758,\n",
       "        0.00062018, -0.15888677, -0.13908353, -0.10509742, -0.05343769,\n",
       "       -0.00568306,  0.00868731, -0.01407427,  0.10217805,  0.11090027,\n",
       "        0.12401601,  0.04223592,         nan,         nan,         nan,\n",
       "               nan,         nan,         nan])"
      ]
     },
     "execution_count": 17,
     "metadata": {},
     "output_type": "execute_result"
    }
   ],
   "source": [
    "decomp['resid'].values"
   ]
  },
  {
   "cell_type": "markdown",
   "metadata": {},
   "source": [
    "### Find a Best Fit Model Using ARIMA"
   ]
  },
  {
   "cell_type": "markdown",
   "metadata": {},
   "source": [
    "We now use the auto_arima function from the pmdarima package to find a best fit model:"
   ]
  },
  {
   "cell_type": "code",
   "execution_count": null,
   "metadata": {},
   "outputs": [],
   "source": []
  },
  {
   "cell_type": "markdown",
   "metadata": {},
   "source": [
    "1. Is this time series stationary?\n",
    "2. Is there a significant seasonal component?\n",
    "3. Perform STL decomposition of the time series. Should this decomposition be performed with the\n",
    "additive or multiplicative (log of values) model? Are the residuals stationary?\n",
    "4. Use the auto_arima function from the pmdarima package to find a best model fit, excluding the last\n",
    "12 months of observations from the training data, and setting d=1 and D=1 and limit p, q, P and Q to\n",
    "3 with starting values of 1. Which model coefficients are statistically significant?\n",
    "5. Then forecast the last 12 months and report both numeric values and plot the prediction vs. the\n",
    "actual values. Would you say the predictions are close to the actual observations?\n",
    "6. Are the residuals approximately Normally distributed?\n",
    "7. What is the RMSE? Is this value small relative to the forecasted values?"
   ]
  },
  {
   "cell_type": "code",
   "execution_count": null,
   "metadata": {},
   "outputs": [],
   "source": []
  }
 ],
 "metadata": {
  "kernelspec": {
   "display_name": "Python 3",
   "language": "python",
   "name": "python3"
  },
  "language_info": {
   "codemirror_mode": {
    "name": "ipython",
    "version": 3
   },
   "file_extension": ".py",
   "mimetype": "text/x-python",
   "name": "python",
   "nbconvert_exporter": "python",
   "pygments_lexer": "ipython3",
   "version": "3.7.4"
  }
 },
 "nbformat": 4,
 "nbformat_minor": 2
}
