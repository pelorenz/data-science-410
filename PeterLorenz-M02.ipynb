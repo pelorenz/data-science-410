{
 "cells": [
  {
   "cell_type": "markdown",
   "metadata": {},
   "source": [
    "# Milestone 2"
   ]
  },
  {
   "cell_type": "markdown",
   "metadata": {},
   "source": [
    "### Recap: Statement of Problem"
   ]
  },
  {
   "cell_type": "markdown",
   "metadata": {},
   "source": [
    "A restauranteur is planning to open a new restaurant specializing in vegan cuisine and would like to predict the success of new recipes created by the restaurant's chefs before they are served to the public. The restauranteur has hired a team of data scientists to develop a model to predict the success of new recipes based on ratings and reviews of existing recipes. The data scientists have obtained a data set from food.com (via kaggle.com) with recipes that have been rated and reviewed by the site's users. They now must determine the feasibility of developing a working model to predict the rating of a given recipe based on other attributes supplied in the data set. The initial goal is to develop a model that can predict a recipe's rating based attributes such as nutritional content, ingredients, visual characteristics, and a range of descriptive tags of recipes. A longer range goal is to perform sentiment analysis on the reviews. When the model is developed, the restaurant's chefs hope to be able to tweak the recipes they create to achieve higher ratings with the restaurant's guests and visiting food critics."
   ]
  },
  {
   "cell_type": "markdown",
   "metadata": {},
   "source": [
    "### Preparation"
   ]
  },
  {
   "cell_type": "markdown",
   "metadata": {},
   "source": [
    "Import required libraries:"
   ]
  },
  {
   "cell_type": "code",
   "execution_count": 47,
   "metadata": {},
   "outputs": [],
   "source": [
    "# Import required libraries\n",
    "import matplotlib.pyplot as plt\n",
    "import numpy as np\n",
    "import numpy.random as nr\n",
    "import pandas as pd\n",
    "import seaborn as sns\n",
    "import scipy.stats as ss\n",
    "import sys\n",
    "\n",
    "from sklearn.preprocessing import scale\n",
    "from scipy.stats import kstest"
   ]
  },
  {
   "cell_type": "markdown",
   "metadata": {},
   "source": [
    "Define global options:"
   ]
  },
  {
   "cell_type": "code",
   "execution_count": 48,
   "metadata": {},
   "outputs": [],
   "source": [
    "# Display plots inline\n",
    "%matplotlib inline\n",
    "\n",
    "# Display all outputs from cell\n",
    "from IPython.core.interactiveshell import InteractiveShell\n",
    "InteractiveShell.ast_node_interactivity = \"all\"\n",
    "\n",
    "# Display full array\n",
    "np.set_printoptions(threshold=sys.maxsize)"
   ]
  },
  {
   "cell_type": "markdown",
   "metadata": {},
   "source": [
    "Declare functions:"
   ]
  },
  {
   "cell_type": "code",
   "execution_count": 30,
   "metadata": {},
   "outputs": [],
   "source": [
    "# The following functions are from DataScience410/Lecture4/HypothesisTesting_Distributions.ipynb\n",
    "\n",
    "# Perform a Q-Q plot\n",
    "def qq_plot(vec1, vec2):\n",
    "    plt.figure(figsize=(6, 6)).gca() # define axis\n",
    "    ax1 = plt.subplot(221) ## setup the left subplot\n",
    "    ss.probplot(vec1, plot = ax1) ## Plot the left subplot\n",
    "    ax1 = plt.subplot(222) ## Set up the right subplot\n",
    "    ss.probplot(vec2, plot = ax1) ## Plot the right subplot\n",
    "\n",
    "# Perform a cumulative distribution plot\n",
    "def plot_cums(dist1, dist2):\n",
    "    ## sort the first data sample:\n",
    "    data_sorted = np.sort(dist1)\n",
    "    # calculate the proportional values of samples\n",
    "    p = 1. * np.arange(len(dist1)) / (len(dist1) - 1)\n",
    "\n",
    "    # Now plot as line and scatter plot. \n",
    "    plt.plot(data_sorted, p)\n",
    "    plt.scatter(data_sorted, p, color = 'red')\n",
    "    \n",
    "    # sort the seond data sample:\n",
    "    data_sorted = np.sort(dist2)\n",
    "    \n",
    "    # And the second plot\n",
    "    plt.plot(data_sorted, p, color = 'yellow')\n",
    "    plt.scatter(data_sorted, p, color = 'green')\n",
    "\n",
    "# Perform a Kolmogorov-Smirnov Test\n",
    "def ks_test(dat, dist = 'norm'):\n",
    "    ks_statisic, pvalue = kstest(dat, dist)\n",
    "    print('KS-statistic = ' + str(ks_statisic))\n",
    "    print('P-value = ' + str(pvalue))"
   ]
  },
  {
   "cell_type": "markdown",
   "metadata": {},
   "source": [
    "### Load the Data Set"
   ]
  },
  {
   "cell_type": "markdown",
   "metadata": {},
   "source": [
    "Original source of the data set is https://www.kaggle.com/shuyangli94/food-com-recipes-and-user-interactions/version/2."
   ]
  },
  {
   "cell_type": "markdown",
   "metadata": {},
   "source": [
    "I have extracted vegan recipes from the original data set and cleaned the data in various ways as part of my milestone project for DATASCI 400 CS as well as the present milestone project:\n",
    "- Removed recipes that are not vegan based on a string-based list of tags in the kaggle.com data set\n",
    "- Removed recipes that contain non-vegan ingredients that were mis-tagged as vegan in the kaggle.com data set (e.g. chicken, eggs, dairy products, etc.)\n",
    "- Removed desserts, breads, and other recipes that are not main courses, sides, soups, salads, and appetizer\n",
    "- Removed recipes that are incomplete for serving in a restaurant, such as spice rubs, marinades\n",
    "- Removed recipes with incomplete nutritional data\n",
    "- Removed recipes with an insufficient number of user reviews (less than three)\n",
    "- Added missing variables that are listed on the web site but not in the data set, for example, serving size and number of servings. These variables are crucial to make use of the nutritional information for comparisons but are missing in the kaggle.com data set. I have re-added these fields to the data set by scraping food.com web side and parsing the HTML for the proper fields.\n",
    "- Created dichotomous variables for categorical data parsed from string-based lists in the kaggle.com data set"
   ]
  },
  {
   "cell_type": "markdown",
   "metadata": {},
   "source": [
    "The new data set is https://raw.githubusercontent.com/pelorenz/vegan_recipes/master/vegan_recipes_v2.data"
   ]
  },
  {
   "cell_type": "code",
   "execution_count": 9,
   "metadata": {},
   "outputs": [],
   "source": [
    "# Internet location of the data set\n",
    "url = 'https://raw.githubusercontent.com/pelorenz/vegan_recipes/master/vegan_recipes_v2.data'\n",
    "\n",
    "# Download the data into a dataframe object\n",
    "recipes = pd.read_table(url)"
   ]
  },
  {
   "cell_type": "markdown",
   "metadata": {},
   "source": [
    "### Summary Statistics"
   ]
  },
  {
   "cell_type": "markdown",
   "metadata": {},
   "source": [
    "An overview of summary statistics for numeric attributes:"
   ]
  },
  {
   "cell_type": "code",
   "execution_count": 10,
   "metadata": {},
   "outputs": [
    {
     "data": {
      "text/html": [
       "<div>\n",
       "<style scoped>\n",
       "    .dataframe tbody tr th:only-of-type {\n",
       "        vertical-align: middle;\n",
       "    }\n",
       "\n",
       "    .dataframe tbody tr th {\n",
       "        vertical-align: top;\n",
       "    }\n",
       "\n",
       "    .dataframe thead th {\n",
       "        text-align: right;\n",
       "    }\n",
       "</style>\n",
       "<table border=\"1\" class=\"dataframe\">\n",
       "  <thead>\n",
       "    <tr style=\"text-align: right;\">\n",
       "      <th></th>\n",
       "      <th>count</th>\n",
       "      <th>mean</th>\n",
       "      <th>std</th>\n",
       "      <th>min</th>\n",
       "      <th>25%</th>\n",
       "      <th>50%</th>\n",
       "      <th>75%</th>\n",
       "      <th>max</th>\n",
       "    </tr>\n",
       "  </thead>\n",
       "  <tbody>\n",
       "    <tr>\n",
       "      <td>n_ingredients</td>\n",
       "      <td>2968.0000</td>\n",
       "      <td>9.2426</td>\n",
       "      <td>3.7581</td>\n",
       "      <td>2.0000</td>\n",
       "      <td>7.0000</td>\n",
       "      <td>9.0000</td>\n",
       "      <td>12.0000</td>\n",
       "      <td>25.0000</td>\n",
       "    </tr>\n",
       "    <tr>\n",
       "      <td>serving_size_g</td>\n",
       "      <td>2968.0000</td>\n",
       "      <td>347.8851</td>\n",
       "      <td>806.7239</td>\n",
       "      <td>2.0000</td>\n",
       "      <td>124.0000</td>\n",
       "      <td>202.0000</td>\n",
       "      <td>326.2500</td>\n",
       "      <td>19215.0000</td>\n",
       "    </tr>\n",
       "    <tr>\n",
       "      <td>n_servings</td>\n",
       "      <td>2968.0000</td>\n",
       "      <td>5.0313</td>\n",
       "      <td>5.7899</td>\n",
       "      <td>1.0000</td>\n",
       "      <td>4.0000</td>\n",
       "      <td>4.0000</td>\n",
       "      <td>6.0000</td>\n",
       "      <td>192.0000</td>\n",
       "    </tr>\n",
       "    <tr>\n",
       "      <td>calories</td>\n",
       "      <td>2968.0000</td>\n",
       "      <td>263.9339</td>\n",
       "      <td>290.5454</td>\n",
       "      <td>0.1000</td>\n",
       "      <td>111.8000</td>\n",
       "      <td>195.6000</td>\n",
       "      <td>315.1000</td>\n",
       "      <td>4055.1000</td>\n",
       "    </tr>\n",
       "    <tr>\n",
       "      <td>calories_per_g</td>\n",
       "      <td>2968.0000</td>\n",
       "      <td>1.3029</td>\n",
       "      <td>1.3942</td>\n",
       "      <td>0.0009</td>\n",
       "      <td>0.5716</td>\n",
       "      <td>0.9560</td>\n",
       "      <td>1.5477</td>\n",
       "      <td>26.1984</td>\n",
       "    </tr>\n",
       "    <tr>\n",
       "      <td>total_fat_pdv</td>\n",
       "      <td>2968.0000</td>\n",
       "      <td>16.9869</td>\n",
       "      <td>35.0557</td>\n",
       "      <td>0.0000</td>\n",
       "      <td>3.0000</td>\n",
       "      <td>9.0000</td>\n",
       "      <td>20.0000</td>\n",
       "      <td>704.0000</td>\n",
       "    </tr>\n",
       "    <tr>\n",
       "      <td>total_fat_g</td>\n",
       "      <td>2968.0000</td>\n",
       "      <td>11.0415</td>\n",
       "      <td>22.7862</td>\n",
       "      <td>0.0000</td>\n",
       "      <td>1.9500</td>\n",
       "      <td>5.8500</td>\n",
       "      <td>13.0000</td>\n",
       "      <td>457.6000</td>\n",
       "    </tr>\n",
       "    <tr>\n",
       "      <td>total_fat_pct</td>\n",
       "      <td>2968.0000</td>\n",
       "      <td>0.0633</td>\n",
       "      <td>0.1336</td>\n",
       "      <td>0.0000</td>\n",
       "      <td>0.0078</td>\n",
       "      <td>0.0285</td>\n",
       "      <td>0.0679</td>\n",
       "      <td>2.8238</td>\n",
       "    </tr>\n",
       "    <tr>\n",
       "      <td>sugar_pdv</td>\n",
       "      <td>2968.0000</td>\n",
       "      <td>35.9693</td>\n",
       "      <td>101.5755</td>\n",
       "      <td>0.0000</td>\n",
       "      <td>7.0000</td>\n",
       "      <td>16.0000</td>\n",
       "      <td>33.0000</td>\n",
       "      <td>3162.0000</td>\n",
       "    </tr>\n",
       "    <tr>\n",
       "      <td>sugar_g</td>\n",
       "      <td>2968.0000</td>\n",
       "      <td>17.9847</td>\n",
       "      <td>50.7877</td>\n",
       "      <td>0.0000</td>\n",
       "      <td>3.5000</td>\n",
       "      <td>8.0000</td>\n",
       "      <td>16.5000</td>\n",
       "      <td>1581.0000</td>\n",
       "    </tr>\n",
       "    <tr>\n",
       "      <td>sugar_pct</td>\n",
       "      <td>2968.0000</td>\n",
       "      <td>0.0687</td>\n",
       "      <td>0.1118</td>\n",
       "      <td>0.0000</td>\n",
       "      <td>0.0199</td>\n",
       "      <td>0.0390</td>\n",
       "      <td>0.0705</td>\n",
       "      <td>1.8101</td>\n",
       "    </tr>\n",
       "    <tr>\n",
       "      <td>sodium_pdv</td>\n",
       "      <td>2968.0000</td>\n",
       "      <td>22.7379</td>\n",
       "      <td>100.5615</td>\n",
       "      <td>0.0000</td>\n",
       "      <td>1.0000</td>\n",
       "      <td>10.0000</td>\n",
       "      <td>24.0000</td>\n",
       "      <td>4774.0000</td>\n",
       "    </tr>\n",
       "    <tr>\n",
       "      <td>sodium_g</td>\n",
       "      <td>2968.0000</td>\n",
       "      <td>0.5457</td>\n",
       "      <td>2.4135</td>\n",
       "      <td>0.0000</td>\n",
       "      <td>0.0240</td>\n",
       "      <td>0.2400</td>\n",
       "      <td>0.5760</td>\n",
       "      <td>114.5760</td>\n",
       "    </tr>\n",
       "    <tr>\n",
       "      <td>sodium_pct</td>\n",
       "      <td>2968.0000</td>\n",
       "      <td>0.0024</td>\n",
       "      <td>0.0054</td>\n",
       "      <td>0.0000</td>\n",
       "      <td>0.0001</td>\n",
       "      <td>0.0011</td>\n",
       "      <td>0.0028</td>\n",
       "      <td>0.1241</td>\n",
       "    </tr>\n",
       "    <tr>\n",
       "      <td>protein_pdv</td>\n",
       "      <td>2968.0000</td>\n",
       "      <td>14.7507</td>\n",
       "      <td>16.8890</td>\n",
       "      <td>0.0000</td>\n",
       "      <td>5.0000</td>\n",
       "      <td>10.0000</td>\n",
       "      <td>20.0000</td>\n",
       "      <td>294.0000</td>\n",
       "    </tr>\n",
       "    <tr>\n",
       "      <td>protein_g</td>\n",
       "      <td>2968.0000</td>\n",
       "      <td>7.3753</td>\n",
       "      <td>8.4445</td>\n",
       "      <td>0.0000</td>\n",
       "      <td>2.5000</td>\n",
       "      <td>5.0000</td>\n",
       "      <td>10.0000</td>\n",
       "      <td>147.0000</td>\n",
       "    </tr>\n",
       "    <tr>\n",
       "      <td>protein_pct</td>\n",
       "      <td>2968.0000</td>\n",
       "      <td>0.0345</td>\n",
       "      <td>0.0384</td>\n",
       "      <td>0.0000</td>\n",
       "      <td>0.0121</td>\n",
       "      <td>0.0236</td>\n",
       "      <td>0.0446</td>\n",
       "      <td>0.6131</td>\n",
       "    </tr>\n",
       "    <tr>\n",
       "      <td>saturated_fat_pdv</td>\n",
       "      <td>2968.0000</td>\n",
       "      <td>8.8939</td>\n",
       "      <td>19.1461</td>\n",
       "      <td>0.0000</td>\n",
       "      <td>1.0000</td>\n",
       "      <td>4.0000</td>\n",
       "      <td>9.0000</td>\n",
       "      <td>316.0000</td>\n",
       "    </tr>\n",
       "    <tr>\n",
       "      <td>saturated_fat_g</td>\n",
       "      <td>2968.0000</td>\n",
       "      <td>1.7788</td>\n",
       "      <td>3.8292</td>\n",
       "      <td>0.0000</td>\n",
       "      <td>0.2000</td>\n",
       "      <td>0.8000</td>\n",
       "      <td>1.8000</td>\n",
       "      <td>63.2000</td>\n",
       "    </tr>\n",
       "    <tr>\n",
       "      <td>saturated_fat_pct</td>\n",
       "      <td>2968.0000</td>\n",
       "      <td>0.0095</td>\n",
       "      <td>0.0195</td>\n",
       "      <td>0.0000</td>\n",
       "      <td>0.0010</td>\n",
       "      <td>0.0038</td>\n",
       "      <td>0.0095</td>\n",
       "      <td>0.2828</td>\n",
       "    </tr>\n",
       "    <tr>\n",
       "      <td>carbohydrates_pdv</td>\n",
       "      <td>2968.0000</td>\n",
       "      <td>11.3427</td>\n",
       "      <td>14.3894</td>\n",
       "      <td>0.0000</td>\n",
       "      <td>3.0000</td>\n",
       "      <td>8.0000</td>\n",
       "      <td>15.0000</td>\n",
       "      <td>270.0000</td>\n",
       "    </tr>\n",
       "    <tr>\n",
       "      <td>carbohydrates_g</td>\n",
       "      <td>2968.0000</td>\n",
       "      <td>34.0280</td>\n",
       "      <td>43.1682</td>\n",
       "      <td>0.0000</td>\n",
       "      <td>9.0000</td>\n",
       "      <td>24.0000</td>\n",
       "      <td>45.0000</td>\n",
       "      <td>810.0000</td>\n",
       "    </tr>\n",
       "    <tr>\n",
       "      <td>carbohydrates_pct</td>\n",
       "      <td>2968.0000</td>\n",
       "      <td>0.1433</td>\n",
       "      <td>0.1318</td>\n",
       "      <td>0.0000</td>\n",
       "      <td>0.0537</td>\n",
       "      <td>0.1091</td>\n",
       "      <td>0.1875</td>\n",
       "      <td>1.1053</td>\n",
       "    </tr>\n",
       "    <tr>\n",
       "      <td>num_reviews</td>\n",
       "      <td>2968.0000</td>\n",
       "      <td>8.7274</td>\n",
       "      <td>13.5547</td>\n",
       "      <td>3.0000</td>\n",
       "      <td>3.0000</td>\n",
       "      <td>5.0000</td>\n",
       "      <td>9.0000</td>\n",
       "      <td>357.0000</td>\n",
       "    </tr>\n",
       "    <tr>\n",
       "      <td>mean_rating</td>\n",
       "      <td>2968.0000</td>\n",
       "      <td>4.4190</td>\n",
       "      <td>0.6054</td>\n",
       "      <td>0.7500</td>\n",
       "      <td>4.2000</td>\n",
       "      <td>4.6000</td>\n",
       "      <td>4.8425</td>\n",
       "      <td>5.0000</td>\n",
       "    </tr>\n",
       "  </tbody>\n",
       "</table>\n",
       "</div>"
      ],
      "text/plain": [
       "                      count     mean      std    min      25%      50%  \\\n",
       "n_ingredients     2968.0000   9.2426   3.7581 2.0000   7.0000   9.0000   \n",
       "serving_size_g    2968.0000 347.8851 806.7239 2.0000 124.0000 202.0000   \n",
       "n_servings        2968.0000   5.0313   5.7899 1.0000   4.0000   4.0000   \n",
       "calories          2968.0000 263.9339 290.5454 0.1000 111.8000 195.6000   \n",
       "calories_per_g    2968.0000   1.3029   1.3942 0.0009   0.5716   0.9560   \n",
       "total_fat_pdv     2968.0000  16.9869  35.0557 0.0000   3.0000   9.0000   \n",
       "total_fat_g       2968.0000  11.0415  22.7862 0.0000   1.9500   5.8500   \n",
       "total_fat_pct     2968.0000   0.0633   0.1336 0.0000   0.0078   0.0285   \n",
       "sugar_pdv         2968.0000  35.9693 101.5755 0.0000   7.0000  16.0000   \n",
       "sugar_g           2968.0000  17.9847  50.7877 0.0000   3.5000   8.0000   \n",
       "sugar_pct         2968.0000   0.0687   0.1118 0.0000   0.0199   0.0390   \n",
       "sodium_pdv        2968.0000  22.7379 100.5615 0.0000   1.0000  10.0000   \n",
       "sodium_g          2968.0000   0.5457   2.4135 0.0000   0.0240   0.2400   \n",
       "sodium_pct        2968.0000   0.0024   0.0054 0.0000   0.0001   0.0011   \n",
       "protein_pdv       2968.0000  14.7507  16.8890 0.0000   5.0000  10.0000   \n",
       "protein_g         2968.0000   7.3753   8.4445 0.0000   2.5000   5.0000   \n",
       "protein_pct       2968.0000   0.0345   0.0384 0.0000   0.0121   0.0236   \n",
       "saturated_fat_pdv 2968.0000   8.8939  19.1461 0.0000   1.0000   4.0000   \n",
       "saturated_fat_g   2968.0000   1.7788   3.8292 0.0000   0.2000   0.8000   \n",
       "saturated_fat_pct 2968.0000   0.0095   0.0195 0.0000   0.0010   0.0038   \n",
       "carbohydrates_pdv 2968.0000  11.3427  14.3894 0.0000   3.0000   8.0000   \n",
       "carbohydrates_g   2968.0000  34.0280  43.1682 0.0000   9.0000  24.0000   \n",
       "carbohydrates_pct 2968.0000   0.1433   0.1318 0.0000   0.0537   0.1091   \n",
       "num_reviews       2968.0000   8.7274  13.5547 3.0000   3.0000   5.0000   \n",
       "mean_rating       2968.0000   4.4190   0.6054 0.7500   4.2000   4.6000   \n",
       "\n",
       "                       75%        max  \n",
       "n_ingredients      12.0000    25.0000  \n",
       "serving_size_g    326.2500 19215.0000  \n",
       "n_servings          6.0000   192.0000  \n",
       "calories          315.1000  4055.1000  \n",
       "calories_per_g      1.5477    26.1984  \n",
       "total_fat_pdv      20.0000   704.0000  \n",
       "total_fat_g        13.0000   457.6000  \n",
       "total_fat_pct       0.0679     2.8238  \n",
       "sugar_pdv          33.0000  3162.0000  \n",
       "sugar_g            16.5000  1581.0000  \n",
       "sugar_pct           0.0705     1.8101  \n",
       "sodium_pdv         24.0000  4774.0000  \n",
       "sodium_g            0.5760   114.5760  \n",
       "sodium_pct          0.0028     0.1241  \n",
       "protein_pdv        20.0000   294.0000  \n",
       "protein_g          10.0000   147.0000  \n",
       "protein_pct         0.0446     0.6131  \n",
       "saturated_fat_pdv   9.0000   316.0000  \n",
       "saturated_fat_g     1.8000    63.2000  \n",
       "saturated_fat_pct   0.0095     0.2828  \n",
       "carbohydrates_pdv  15.0000   270.0000  \n",
       "carbohydrates_g    45.0000   810.0000  \n",
       "carbohydrates_pct   0.1875     1.1053  \n",
       "num_reviews         9.0000   357.0000  \n",
       "mean_rating         4.8425     5.0000  "
      ]
     },
     "execution_count": 10,
     "metadata": {},
     "output_type": "execute_result"
    }
   ],
   "source": [
    "pd.options.display.float_format = '{:.4f}'.format\n",
    "recipes[['n_ingredients', 'serving_size_g', 'n_servings', 'calories', 'calories_per_g', \n",
    "         'total_fat_pdv', 'total_fat_g', 'total_fat_pct', 'sugar_pdv', 'sugar_g', \n",
    "         'sugar_pct', 'sodium_pdv', 'sodium_g', 'sodium_pct', 'protein_pdv', 'protein_g', \n",
    "         'protein_pct', 'saturated_fat_pdv', 'saturated_fat_g', 'saturated_fat_pct', \n",
    "         'carbohydrates_pdv', 'carbohydrates_g', 'carbohydrates_pct', 'num_reviews', \n",
    "         'mean_rating']].describe().T"
   ]
  },
  {
   "cell_type": "markdown",
   "metadata": {},
   "source": [
    "TODO: classical, bootstrap, and Bayesian methods, including for individual tests: Statistical analysis performed appropriately for each of the different methods."
   ]
  },
  {
   "cell_type": "markdown",
   "metadata": {},
   "source": [
    "TODO: explore the dataset supported by charts and summary statistics throughout"
   ]
  },
  {
   "cell_type": "markdown",
   "metadata": {},
   "source": [
    "### Identify Distributions"
   ]
  },
  {
   "cell_type": "markdown",
   "metadata": {},
   "source": [
    "We begin by identifying a likely distribution for several of the features."
   ]
  },
  {
   "cell_type": "markdown",
   "metadata": {},
   "source": [
    "#### Testing the Distribution of *mean_rating* and log(*mean_rating*)"
   ]
  },
  {
   "cell_type": "markdown",
   "metadata": {},
   "source": [
    "First, perform normality tests via graphical methods using a Q-Q plot and a comparison plot of cumulative distribution functions on price and log(price). Then perform a formal Kolmogorov-Smirnov Test."
   ]
  },
  {
   "cell_type": "markdown",
   "metadata": {},
   "source": [
    "##### Graphical Method 1: Q-Q Plot"
   ]
  },
  {
   "cell_type": "markdown",
   "metadata": {},
   "source": [
    "The Q-Q plot of *mean_rating*:"
   ]
  },
  {
   "cell_type": "code",
   "execution_count": 24,
   "metadata": {},
   "outputs": [
    {
     "data": {
      "text/plain": [
       "array([4.5 , 4.75, 3.75, ..., 4.75, 5.  , 5.  ])"
      ]
     },
     "execution_count": 24,
     "metadata": {},
     "output_type": "execute_result"
    },
    {
     "data": {
      "image/png": "[encoded data removed]",
      "text/plain": [
       "<Figure size 432x432 with 2 Axes>"
      ]
     },
     "metadata": {
      "needs_background": "light"
     },
     "output_type": "display_data"
    }
   ],
   "source": [
    "# generate a normal distribution for comparison\n",
    "nr.seed(1357)\n",
    "norm1 = nr.normal(size = len(mean_rating)).tolist()\n",
    "\n",
    "# get 'mean_rating' column as array excluding undefined, zero, and negative values\n",
    "mean_rating = np.array(recipes['mean_rating'].values)\n",
    "\n",
    "mean_rating\n",
    "\n",
    "# perform Q-Q plot of 'mean_rating'\n",
    "qq_plot(norm1, mean_rating)"
   ]
  },
  {
   "cell_type": "markdown",
   "metadata": {},
   "source": [
    "Clearly, we don't have a normal distribution for *mean_rating*."
   ]
  },
  {
   "cell_type": "markdown",
   "metadata": {},
   "source": [
    "The Q-Q plot of log(*mean_rating*):"
   ]
  },
  {
   "cell_type": "code",
   "execution_count": 22,
   "metadata": {},
   "outputs": [
    {
     "data": {
      "image/png": "[encoded data removed]",
      "text/plain": [
       "<Figure size 432x432 with 2 Axes>"
      ]
     },
     "metadata": {
      "needs_background": "light"
     },
     "output_type": "display_data"
    }
   ],
   "source": [
    "# compute log of 'mean_rating'\n",
    "log_mean_rating = np.log(mean_rating)\n",
    "\n",
    "# perform Q-Q plot of 'log_mean_rating'\n",
    "qq_plot(norm1, log_mean_rating)"
   ]
  },
  {
   "cell_type": "markdown",
   "metadata": {},
   "source": [
    "The distribution of log(*mean_rating*) is not normal either."
   ]
  },
  {
   "cell_type": "markdown",
   "metadata": {},
   "source": [
    "##### Graphical Method 2: Comparison of Cumulative Distribution Functions"
   ]
  },
  {
   "cell_type": "markdown",
   "metadata": {},
   "source": [
    "Perform a normality test using a comparison plot of cumulative distribution functions on *mean_rating*:"
   ]
  },
  {
   "cell_type": "code",
   "execution_count": 27,
   "metadata": {},
   "outputs": [
    {
     "data": {
      "image/png": "[encoded data removed]",
      "text/plain": [
       "<Figure size 432x288 with 1 Axes>"
      ]
     },
     "metadata": {
      "needs_background": "light"
     },
     "output_type": "display_data"
    }
   ],
   "source": [
    "# generate a normal distribution with same length as 'mean_rating' for comparison\n",
    "norm2 = nr.normal(size = len(mean_rating)).tolist()\n",
    "\n",
    "# scale arrays\n",
    "norm2_s = scale(norm2)\n",
    "mean_rating_s = scale(mean_rating)\n",
    "\n",
    "# plot comparison of cumulative distribution functions\n",
    "plot_cums(norm2_s, mean_rating_s)"
   ]
  },
  {
   "cell_type": "markdown",
   "metadata": {},
   "source": [
    "Perform a normality test using a comparison plot of cumulative distribution functions on log(*mean_rating*):"
   ]
  },
  {
   "cell_type": "code",
   "execution_count": 33,
   "metadata": {},
   "outputs": [
    {
     "data": {
      "image/png": "[encoded data removed]",
      "text/plain": [
       "<Figure size 432x288 with 1 Axes>"
      ]
     },
     "metadata": {
      "needs_background": "light"
     },
     "output_type": "display_data"
    }
   ],
   "source": [
    "log_mean_rating_s = scale(log_mean_rating)\n",
    "\n",
    "# plot comparison of cumulative distribution functions\n",
    "plot_cums(norm2_s, log_mean_rating_s)"
   ]
  },
  {
   "cell_type": "markdown",
   "metadata": {},
   "source": [
    "Neither *mean_rating* nor *log_mean_rating* fits the normal distribution according to comparison of its cumulative distribution function with that of normally-distributed data."
   ]
  },
  {
   "cell_type": "markdown",
   "metadata": {},
   "source": [
    "##### Formal Method: Kolmogorov-Smirnov Test"
   ]
  },
  {
   "cell_type": "markdown",
   "metadata": {},
   "source": [
    "Now perform a formal test of normality, the Kolmogorov-Smirnov test, against *mean_rating*:"
   ]
  },
  {
   "cell_type": "code",
   "execution_count": 31,
   "metadata": {},
   "outputs": [
    {
     "name": "stdout",
     "output_type": "stream",
     "text": [
      "KS-statistic = 0.1685709267124783\n",
      "P-value = 1.1091001847399089e-73\n"
     ]
    }
   ],
   "source": [
    "ks_test(mean_rating_s)"
   ]
  },
  {
   "cell_type": "markdown",
   "metadata": {},
   "source": [
    "The K-S statistic is not small and the p-value is minuscule. The chance that we can safely reject the null hypothesis (the distribution is not normal) is quite low. The distribution is apparently not normal."
   ]
  },
  {
   "cell_type": "markdown",
   "metadata": {},
   "source": [
    "Now perform a formal test of normality, the Kolmogorov-Smirnov test, against *log_mean_rating*:"
   ]
  },
  {
   "cell_type": "code",
   "execution_count": 34,
   "metadata": {},
   "outputs": [
    {
     "name": "stdout",
     "output_type": "stream",
     "text": [
      "KS-statistic = 0.2079344443657335\n",
      "P-value = 6.885581555278203e-112\n"
     ]
    }
   ],
   "source": [
    "ks_test(log_mean_rating_s)"
   ]
  },
  {
   "cell_type": "markdown",
   "metadata": {},
   "source": [
    "Again, the K-S statistic is large and the p-value is minuscule, suggesting that the null hypothesis is correct, that the distribution is not normal."
   ]
  },
  {
   "cell_type": "markdown",
   "metadata": {},
   "source": [
    "### Hypothesis Testing"
   ]
  },
  {
   "cell_type": "markdown",
   "metadata": {},
   "source": [
    "We shall test the significance of *mean_rating* by the variables TODO."
   ]
  },
  {
   "cell_type": "markdown",
   "metadata": {},
   "source": [
    "#### High-carb, Medium-Carb, Low-Carb"
   ]
  },
  {
   "cell_type": "markdown",
   "metadata": {},
   "source": [
    "We generate a categorical variable *carb_level* by binning the numeric variable *carbohydrates_pct*, which represents the percent of carbohydrates per recipe by mass relative to the mass of a serving:"
   ]
  },
  {
   "cell_type": "code",
   "execution_count": 50,
   "metadata": {},
   "outputs": [],
   "source": [
    "# Use percentiles to bin into 3 categories\n",
    "carb_pct = np.array(recipes['carbohydrates_pct'].values)\n",
    "low_cutoff = np.percentile(carb_pct, 33)\n",
    "mid_cutoff = np.percentile(carb_pct, 67)\n",
    "\n",
    "carb_level = np.array([None] * len(carb_pct))\n",
    "carb_level[carb_pct <= low_cutoff] = 'low-carb'\n",
    "carb_level[carb_pct > low_cutoff] = 'medium-carb'\n",
    "carb_level[carb_pct > mid_cutoff] = 'high-carb'"
   ]
  },
  {
   "cell_type": "markdown",
   "metadata": {},
   "source": [
    "TODO: Hypothesis testing performed appropriate to the question being addressed."
   ]
  },
  {
   "cell_type": "markdown",
   "metadata": {},
   "source": [
    "TODO: compute basic summary statistics by both classical, bootstrap, and Bayesian methods."
   ]
  },
  {
   "cell_type": "markdown",
   "metadata": {},
   "source": [
    "TODO: use confidence intervals in performing hypothesis tests to determine if the differences in pairs and multiple populations are significant, i.e. compute confidence intervals for the above summary statistics by classical, bootstrap, and Bayesian methods."
   ]
  },
  {
   "cell_type": "markdown",
   "metadata": {},
   "source": [
    "### Conclusion"
   ]
  },
  {
   "cell_type": "markdown",
   "metadata": {},
   "source": [
    "TODO"
   ]
  }
 ],
 "metadata": {
  "kernelspec": {
   "display_name": "Python 3",
   "language": "python",
   "name": "python3"
  },
  "language_info": {
   "codemirror_mode": {
    "name": "ipython",
    "version": 3
   },
   "file_extension": ".py",
   "mimetype": "text/x-python",
   "name": "python",
   "nbconvert_exporter": "python",
   "pygments_lexer": "ipython3",
   "version": "3.7.4"
  }
 },
 "nbformat": 4,
 "nbformat_minor": 2
}
