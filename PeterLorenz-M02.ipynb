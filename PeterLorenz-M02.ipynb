{
 "cells": [
  {
   "cell_type": "markdown",
   "metadata": {},
   "source": [
    "# Milestone 2"
   ]
  },
  {
   "cell_type": "markdown",
   "metadata": {},
   "source": [
    "### Recap: Statement of Problem"
   ]
  },
  {
   "cell_type": "markdown",
   "metadata": {},
   "source": [
    "A restauranteur is planning to open a new restaurant specializing in vegan cuisine and would like to predict the success of new recipes created by the restaurant's chefs before they are served to the public. The restauranteur has hired a team of data scientists to develop a model to predict the success of new recipes based on ratings and reviews of existing recipes. The data scientists have obtained a data set from food.com (via kaggle.com) with recipes that have been rated and reviewed by the site's users. They now must determine the feasibility of developing a working model to predict the rating of a given recipe based on other attributes supplied in the data set. The initial goal is to develop a model that can predict a recipe's rating based attributes such as nutritional content, ingredients, visual characteristics, and a range of descriptive tags of recipes. A longer range goal is to perform sentiment analysis on the reviews. When the model is developed, the restaurant's chefs hope to be able to tweak the recipes they create to achieve higher ratings with the restaurant's guests and visiting food critics."
   ]
  },
  {
   "cell_type": "markdown",
   "metadata": {},
   "source": [
    "In this milestone we want to test whether certain categorical variables representing components of the recipes such as carbohydrate, fat, and sodium content have a meaningful effect on user ratings."
   ]
  },
  {
   "cell_type": "markdown",
   "metadata": {},
   "source": [
    "### Preparation"
   ]
  },
  {
   "cell_type": "markdown",
   "metadata": {},
   "source": [
    "Import required libraries:"
   ]
  },
  {
   "cell_type": "code",
   "execution_count": 50,
   "metadata": {},
   "outputs": [],
   "source": [
    "# Import required libraries\n",
    "import matplotlib.pyplot as plt\n",
    "import numpy as np\n",
    "import numpy.random as nr\n",
    "import pandas as pd\n",
    "import seaborn as sns\n",
    "import scipy\n",
    "import scipy.stats as ss\n",
    "import statsmodels.api as sm\n",
    "import statsmodels.stats.weightstats as ws\n",
    "import sys\n",
    "\n",
    "from matplotlib import pyplot\n",
    "from statsmodels.stats.multicomp import pairwise_tukeyhsd\n",
    "from sklearn.preprocessing import PowerTransformer\n",
    "from sklearn.preprocessing import scale\n",
    "from scipy.stats import kstest\n",
    "from statistics import mean"
   ]
  },
  {
   "cell_type": "markdown",
   "metadata": {},
   "source": [
    "Define global options:"
   ]
  },
  {
   "cell_type": "code",
   "execution_count": 30,
   "metadata": {},
   "outputs": [],
   "source": [
    "# Display plots inline\n",
    "%matplotlib inline\n",
    "\n",
    "# Display all outputs from cell\n",
    "from IPython.core.interactiveshell import InteractiveShell\n",
    "InteractiveShell.ast_node_interactivity = \"all\"\n",
    "\n",
    "# Display full array\n",
    "np.set_printoptions(threshold=sys.maxsize)"
   ]
  },
  {
   "cell_type": "markdown",
   "metadata": {},
   "source": [
    "Declare functions:"
   ]
  },
  {
   "cell_type": "code",
   "execution_count": 48,
   "metadata": {},
   "outputs": [],
   "source": [
    "# The following functions are from DataScience410/Lecture4/HypothesisTesting_TestsOnMeans\n",
    "\n",
    "# Perform a two-sided t-test on sample means with summary statistics\n",
    "def t_test(a, b, alpha, alternative='two-sided', usevar = 'unequal'):\n",
    "    '''Function to compute a two sample t-test on means'''\n",
    "    \n",
    "    ## Compute the difference in means for reporting.\n",
    "    diff = a.mean() - b.mean()\n",
    "\n",
    "    ## Compute the t-test\n",
    "    t, p, df = ws.ttest_ind(a, b, usevar=usevar)\n",
    "    \n",
    "    ## Find the confidence interval\n",
    "    means = ws.CompareMeans(ws.DescrStatsW(a), ws.DescrStatsW(b))\n",
    "    confint = means.tconfint_diff(alpha=alpha, alternative=alternative, usevar=usevar) \n",
    "\n",
    "    index = ['DegFreedom', 'Difference', 'Statistic', 'PValue', 'Low95CI', 'High95CI']\n",
    "    return pd.Series([df, diff, t, p, confint[0], confint[1]], index = index) \n",
    "\n",
    "# Compare differences of mean and distribution via histogram\n",
    "def plot_t(a, b, t_test, cols=['pop_A', 'pop_B'], nbins = 20):\n",
    "    minx = min([min(a), min(b)])\n",
    "    maxx = max([max(a), max(b)])\n",
    "    stepx = (maxx - minx)/(nbins + 1)\n",
    "    bins = [minx + i * stepx for i in range(nbins + 1)]\n",
    "    plt.subplot(2, 1, 1) # The first plot\n",
    "    hist_mean_ci(a, t_test, bins)\n",
    "    plt.title('Histogram of ' + cols[0] + ' and ' + cols[1])\n",
    "    plt.subplot(2, 1, 2) # The next plot\n",
    "    hist_plot(b, bins)\n",
    "\n",
    "# Plot a histogram of frequency vs. value\n",
    "def hist_plot(vec, bins):\n",
    "    plt.hist(vec, bins = bins)\n",
    "    plt.axvline(mean(vec), color = 'red')\n",
    "    plt.ylabel('Frequency')\n",
    "    plt.xlabel('Value')\n",
    "\n",
    "# Plot histograms of means with confidence bounds shown\n",
    "def hist_mean_ci(vec, t_test, bins):\n",
    "    upper = mean(vec) + t_test[5] - t_test[1]\n",
    "    lower = mean(vec) + t_test[4] - t_test[1]\n",
    "    plt.hist(vec, bins = bins)\n",
    "    plt.axvline(mean(vec), color = 'red')\n",
    "    plt.axvline(upper, color = 'red', linestyle='--')\n",
    "    plt.axvline(lower, color = 'red', linestyle='--')\n",
    "    plt.ylabel('Frequency')\n",
    "    plt.xlabel('Value')\n",
    "\n",
    "# The following functions are from DataScience410/Lecture4/HypothesisTesting_Distributions.ipynb\n",
    "\n",
    "# Perform a Q-Q plot\n",
    "def qq_plot(vec1, vec2):\n",
    "    plt.figure(figsize=(6, 6)).gca() # define axis\n",
    "    ax1 = plt.subplot(221) ## setup the left subplot\n",
    "    ss.probplot(vec1, plot = ax1) ## Plot the left subplot\n",
    "    ax1 = plt.subplot(222) ## Set up the right subplot\n",
    "    ss.probplot(vec2, plot = ax1) ## Plot the right subplot\n",
    "\n",
    "# Perform a cumulative distribution plot\n",
    "def plot_cums(dist1, dist2):\n",
    "    ## sort the first data sample:\n",
    "    data_sorted = np.sort(dist1)\n",
    "    # calculate the proportional values of samples\n",
    "    p = 1. * np.arange(len(dist1)) / (len(dist1) - 1)\n",
    "\n",
    "    # Now plot as line and scatter plot. \n",
    "    plt.plot(data_sorted, p)\n",
    "    plt.scatter(data_sorted, p, color = 'red')\n",
    "    \n",
    "    # sort the seond data sample:\n",
    "    data_sorted = np.sort(dist2)\n",
    "    \n",
    "    # And the second plot\n",
    "    plt.plot(data_sorted, p, color = 'yellow')\n",
    "    plt.scatter(data_sorted, p, color = 'green')\n",
    "\n",
    "# Perform a Kolmogorov-Smirnov Test\n",
    "def ks_test(dat, dist = 'norm'):\n",
    "    ks_statisic, pvalue = kstest(dat, dist)\n",
    "    print('KS-statistic = ' + str(ks_statisic))\n",
    "    print('P-value = ' + str(pvalue))\n",
    "\n",
    "# The following functions are from DataScience410/Lecture5/Bootstrap.ipynb\n",
    "\n",
    "# Plot histograms of two samples with means and confidence intervals\n",
    "def plot_hist(x, xmin, xmax, p=5, nbins=20):\n",
    "    # Plot the distribution and mark the mean\n",
    "    pyplot.hist(x, bins=nbins, alpha=.5)\n",
    "    x_mean = x.mean() \n",
    "    pyplot.axvline(x_mean)\n",
    "    print('Point estimate of the mean = %6.2f' %x_mean)\n",
    "    # 95% confidence interval  \n",
    "    upper_ci = np.percentile(x, 100-p/2.)\n",
    "    lower_ci = np.percentile(x, p/2.)\n",
    "    pyplot.axvline(upper_ci, color='red', linewidth=3)\n",
    "    pyplot.axvline(lower_ci, color='red', linewidth=3)\n",
    "    print('The lower and upper confidence intervals = %6.2f %6.2f \\n' %(lower_ci,upper_ci))\n",
    "    pyplot.xlim( xmin, xmax )\n",
    "\n",
    "# Create distribution plots of two samples\n",
    "def plot_dists(a, b, nbins, a_label='pop_A', b_label='pop_B', p=5):\n",
    "    # Create a single sequence of bins to be shared across both\n",
    "    # distribution plots for visualization consistency.\n",
    "    combined = pd.concat([a, b])\n",
    "    xmin = combined.min()\n",
    "    xmax = combined.max()\n",
    "    breaks = np.linspace(\n",
    "        xmin, xmax, \n",
    "        num=nbins+1)\n",
    "\n",
    "    pyplot.subplot(2, 1, 1)\n",
    "    plot_hist(a, xmin, xmax)\n",
    "    pyplot.title(a_label)\n",
    "    \n",
    "    pyplot.subplot(2, 1, 2)\n",
    "    plot_hist(b, xmin = xmin, xmax = xmax)\n",
    "    pyplot.title(b_label)\n",
    "    \n",
    "    pyplot.tight_layout()\n",
    "\n",
    "# The following functions are from DataScience410/Lecture5/IntroductionToBayes.ipynb\n",
    "\n",
    "# Compute posterior distribution\n",
    "def posterior(prior, like):\n",
    "    post = prior * like # compute the product of the probabilities\n",
    "    return post / sum(post) # normalize the distribution to sum to unity\n",
    "\n",
    "# Plot the posterior distribution\n",
    "def plot_ci(p, post, num_samples, lower_q, upper_q):\n",
    "    ## This function computes a credible interval using an assumption\n",
    "    ## of symetry in the bulk of the distribution to keep the \n",
    "    ## calculation simple. \n",
    "    ## Compute a large sample by resampling with replacement\n",
    "    samples = nr.choice(p, size=num_samples, replace=True, p=post)\n",
    "    ci = scipy.percentile(samples, [lower_q*100, upper_q*100]) # compute the quantiles\n",
    "    \n",
    "    interval = upper_q - lower_q\n",
    "    plt.title('Posterior density with %.3f credible interval' % interval)\n",
    "    plt.plot(p, post, color='blue')\n",
    "    plt.xlabel('Parameter value')\n",
    "    plt.ylabel('Density')\n",
    "    plt.axvline(x=ci[0], color='red')\n",
    "    plt.axvline(x=ci[1], color='red')\n",
    "\n",
    "    print('The %.3f credible interval is %.3f to %.3f' \n",
    "          % (interval, ci[0], ci[1]))\n",
    "\n",
    "# Compare groups via Bayesian model\n",
    "def comp_like(p, x): \n",
    "    variance = np.std(x)**2 # sigmasqr\n",
    "    x_mean = np.asarray(x).mean()  # xbar\n",
    "    print('Mean = %.3f, Standard deviation = %.3f' % (x_mean, np.std(x)))\n",
    "    n = len(x)\n",
    "    l = np.exp(-n * np.square(x_mean - p) / (2 * variance))\n",
    "    return l / l.sum()"
   ]
  },
  {
   "cell_type": "markdown",
   "metadata": {},
   "source": [
    "### Load the Data Set"
   ]
  },
  {
   "cell_type": "markdown",
   "metadata": {},
   "source": [
    "Original source of the data set is https://www.kaggle.com/shuyangli94/food-com-recipes-and-user-interactions/version/2."
   ]
  },
  {
   "cell_type": "markdown",
   "metadata": {},
   "source": [
    "I have extracted vegan recipes from the original data set and cleaned the data in various ways as part of my milestone project for DATASCI 400 CS as well as the present milestone project:\n",
    "- Removed recipes that are not vegan based on a string-based list of tags in the kaggle.com data set\n",
    "- Removed recipes that contain non-vegan ingredients that were mis-tagged as vegan in the kaggle.com data set (e.g. chicken, eggs, dairy products, etc.)\n",
    "- Removed desserts, breads, and other recipes that are not main courses, sides, soups, salads, and appetizer\n",
    "- Removed recipes that are incomplete for serving in a restaurant, such as spice rubs, marinades\n",
    "- Removed recipes with incomplete nutritional data\n",
    "- Removed recipes with an insufficient number of user reviews (less than three)\n",
    "- Added missing variables that are listed on the web site but not in the data set, for example, serving size and number of servings. These variables are crucial to make use of the nutritional information for comparisons but are missing in the kaggle.com data set. I have re-added these fields to the data set by scraping food.com web side and parsing the HTML for the proper fields.\n",
    "- Created dichotomous variables for categorical data parsed from string-based lists in the kaggle.com data set"
   ]
  },
  {
   "cell_type": "markdown",
   "metadata": {},
   "source": [
    "The new data set is https://raw.githubusercontent.com/pelorenz/vegan_recipes/master/vegan_recipes_v2.data"
   ]
  },
  {
   "cell_type": "code",
   "execution_count": 32,
   "metadata": {},
   "outputs": [],
   "source": [
    "# Internet location of the data set\n",
    "url = 'https://raw.githubusercontent.com/pelorenz/vegan_recipes/master/vegan_recipes_v2.data'\n",
    "\n",
    "# Download the data into a dataframe object\n",
    "recipes = pd.read_table(url)"
   ]
  },
  {
   "cell_type": "markdown",
   "metadata": {},
   "source": [
    "### Summary Statistics"
   ]
  },
  {
   "cell_type": "markdown",
   "metadata": {},
   "source": [
    "An overview of summary statistics for numeric attributes:"
   ]
  },
  {
   "cell_type": "code",
   "execution_count": 33,
   "metadata": {},
   "outputs": [
    {
     "data": {
      "text/html": [
       "<div>\n",
       "<style scoped>\n",
       "    .dataframe tbody tr th:only-of-type {\n",
       "        vertical-align: middle;\n",
       "    }\n",
       "\n",
       "    .dataframe tbody tr th {\n",
       "        vertical-align: top;\n",
       "    }\n",
       "\n",
       "    .dataframe thead th {\n",
       "        text-align: right;\n",
       "    }\n",
       "</style>\n",
       "<table border=\"1\" class=\"dataframe\">\n",
       "  <thead>\n",
       "    <tr style=\"text-align: right;\">\n",
       "      <th></th>\n",
       "      <th>count</th>\n",
       "      <th>mean</th>\n",
       "      <th>std</th>\n",
       "      <th>min</th>\n",
       "      <th>25%</th>\n",
       "      <th>50%</th>\n",
       "      <th>75%</th>\n",
       "      <th>max</th>\n",
       "    </tr>\n",
       "  </thead>\n",
       "  <tbody>\n",
       "    <tr>\n",
       "      <td>n_ingredients</td>\n",
       "      <td>2968.0000</td>\n",
       "      <td>9.2426</td>\n",
       "      <td>3.7581</td>\n",
       "      <td>2.0000</td>\n",
       "      <td>7.0000</td>\n",
       "      <td>9.0000</td>\n",
       "      <td>12.0000</td>\n",
       "      <td>25.0000</td>\n",
       "    </tr>\n",
       "    <tr>\n",
       "      <td>serving_size_g</td>\n",
       "      <td>2968.0000</td>\n",
       "      <td>347.8851</td>\n",
       "      <td>806.7239</td>\n",
       "      <td>2.0000</td>\n",
       "      <td>124.0000</td>\n",
       "      <td>202.0000</td>\n",
       "      <td>326.2500</td>\n",
       "      <td>19215.0000</td>\n",
       "    </tr>\n",
       "    <tr>\n",
       "      <td>n_servings</td>\n",
       "      <td>2968.0000</td>\n",
       "      <td>5.0313</td>\n",
       "      <td>5.7899</td>\n",
       "      <td>1.0000</td>\n",
       "      <td>4.0000</td>\n",
       "      <td>4.0000</td>\n",
       "      <td>6.0000</td>\n",
       "      <td>192.0000</td>\n",
       "    </tr>\n",
       "    <tr>\n",
       "      <td>calories</td>\n",
       "      <td>2968.0000</td>\n",
       "      <td>263.9339</td>\n",
       "      <td>290.5454</td>\n",
       "      <td>0.1000</td>\n",
       "      <td>111.8000</td>\n",
       "      <td>195.6000</td>\n",
       "      <td>315.1000</td>\n",
       "      <td>4055.1000</td>\n",
       "    </tr>\n",
       "    <tr>\n",
       "      <td>calories_per_g</td>\n",
       "      <td>2968.0000</td>\n",
       "      <td>1.3029</td>\n",
       "      <td>1.3942</td>\n",
       "      <td>0.0009</td>\n",
       "      <td>0.5716</td>\n",
       "      <td>0.9560</td>\n",
       "      <td>1.5477</td>\n",
       "      <td>26.1984</td>\n",
       "    </tr>\n",
       "    <tr>\n",
       "      <td>total_fat_pdv</td>\n",
       "      <td>2968.0000</td>\n",
       "      <td>16.9869</td>\n",
       "      <td>35.0557</td>\n",
       "      <td>0.0000</td>\n",
       "      <td>3.0000</td>\n",
       "      <td>9.0000</td>\n",
       "      <td>20.0000</td>\n",
       "      <td>704.0000</td>\n",
       "    </tr>\n",
       "    <tr>\n",
       "      <td>total_fat_g</td>\n",
       "      <td>2968.0000</td>\n",
       "      <td>11.0415</td>\n",
       "      <td>22.7862</td>\n",
       "      <td>0.0000</td>\n",
       "      <td>1.9500</td>\n",
       "      <td>5.8500</td>\n",
       "      <td>13.0000</td>\n",
       "      <td>457.6000</td>\n",
       "    </tr>\n",
       "    <tr>\n",
       "      <td>total_fat_pct</td>\n",
       "      <td>2968.0000</td>\n",
       "      <td>0.0633</td>\n",
       "      <td>0.1336</td>\n",
       "      <td>0.0000</td>\n",
       "      <td>0.0078</td>\n",
       "      <td>0.0285</td>\n",
       "      <td>0.0679</td>\n",
       "      <td>2.8238</td>\n",
       "    </tr>\n",
       "    <tr>\n",
       "      <td>sugar_pdv</td>\n",
       "      <td>2968.0000</td>\n",
       "      <td>35.9693</td>\n",
       "      <td>101.5755</td>\n",
       "      <td>0.0000</td>\n",
       "      <td>7.0000</td>\n",
       "      <td>16.0000</td>\n",
       "      <td>33.0000</td>\n",
       "      <td>3162.0000</td>\n",
       "    </tr>\n",
       "    <tr>\n",
       "      <td>sugar_g</td>\n",
       "      <td>2968.0000</td>\n",
       "      <td>17.9847</td>\n",
       "      <td>50.7877</td>\n",
       "      <td>0.0000</td>\n",
       "      <td>3.5000</td>\n",
       "      <td>8.0000</td>\n",
       "      <td>16.5000</td>\n",
       "      <td>1581.0000</td>\n",
       "    </tr>\n",
       "    <tr>\n",
       "      <td>sugar_pct</td>\n",
       "      <td>2968.0000</td>\n",
       "      <td>0.0687</td>\n",
       "      <td>0.1118</td>\n",
       "      <td>0.0000</td>\n",
       "      <td>0.0199</td>\n",
       "      <td>0.0390</td>\n",
       "      <td>0.0705</td>\n",
       "      <td>1.8101</td>\n",
       "    </tr>\n",
       "    <tr>\n",
       "      <td>sodium_pdv</td>\n",
       "      <td>2968.0000</td>\n",
       "      <td>22.7379</td>\n",
       "      <td>100.5615</td>\n",
       "      <td>0.0000</td>\n",
       "      <td>1.0000</td>\n",
       "      <td>10.0000</td>\n",
       "      <td>24.0000</td>\n",
       "      <td>4774.0000</td>\n",
       "    </tr>\n",
       "    <tr>\n",
       "      <td>sodium_g</td>\n",
       "      <td>2968.0000</td>\n",
       "      <td>0.5457</td>\n",
       "      <td>2.4135</td>\n",
       "      <td>0.0000</td>\n",
       "      <td>0.0240</td>\n",
       "      <td>0.2400</td>\n",
       "      <td>0.5760</td>\n",
       "      <td>114.5760</td>\n",
       "    </tr>\n",
       "    <tr>\n",
       "      <td>sodium_pct</td>\n",
       "      <td>2968.0000</td>\n",
       "      <td>0.0024</td>\n",
       "      <td>0.0054</td>\n",
       "      <td>0.0000</td>\n",
       "      <td>0.0001</td>\n",
       "      <td>0.0011</td>\n",
       "      <td>0.0028</td>\n",
       "      <td>0.1241</td>\n",
       "    </tr>\n",
       "    <tr>\n",
       "      <td>protein_pdv</td>\n",
       "      <td>2968.0000</td>\n",
       "      <td>14.7507</td>\n",
       "      <td>16.8890</td>\n",
       "      <td>0.0000</td>\n",
       "      <td>5.0000</td>\n",
       "      <td>10.0000</td>\n",
       "      <td>20.0000</td>\n",
       "      <td>294.0000</td>\n",
       "    </tr>\n",
       "    <tr>\n",
       "      <td>protein_g</td>\n",
       "      <td>2968.0000</td>\n",
       "      <td>7.3753</td>\n",
       "      <td>8.4445</td>\n",
       "      <td>0.0000</td>\n",
       "      <td>2.5000</td>\n",
       "      <td>5.0000</td>\n",
       "      <td>10.0000</td>\n",
       "      <td>147.0000</td>\n",
       "    </tr>\n",
       "    <tr>\n",
       "      <td>protein_pct</td>\n",
       "      <td>2968.0000</td>\n",
       "      <td>0.0345</td>\n",
       "      <td>0.0384</td>\n",
       "      <td>0.0000</td>\n",
       "      <td>0.0121</td>\n",
       "      <td>0.0236</td>\n",
       "      <td>0.0446</td>\n",
       "      <td>0.6131</td>\n",
       "    </tr>\n",
       "    <tr>\n",
       "      <td>saturated_fat_pdv</td>\n",
       "      <td>2968.0000</td>\n",
       "      <td>8.8939</td>\n",
       "      <td>19.1461</td>\n",
       "      <td>0.0000</td>\n",
       "      <td>1.0000</td>\n",
       "      <td>4.0000</td>\n",
       "      <td>9.0000</td>\n",
       "      <td>316.0000</td>\n",
       "    </tr>\n",
       "    <tr>\n",
       "      <td>saturated_fat_g</td>\n",
       "      <td>2968.0000</td>\n",
       "      <td>1.7788</td>\n",
       "      <td>3.8292</td>\n",
       "      <td>0.0000</td>\n",
       "      <td>0.2000</td>\n",
       "      <td>0.8000</td>\n",
       "      <td>1.8000</td>\n",
       "      <td>63.2000</td>\n",
       "    </tr>\n",
       "    <tr>\n",
       "      <td>saturated_fat_pct</td>\n",
       "      <td>2968.0000</td>\n",
       "      <td>0.0095</td>\n",
       "      <td>0.0195</td>\n",
       "      <td>0.0000</td>\n",
       "      <td>0.0010</td>\n",
       "      <td>0.0038</td>\n",
       "      <td>0.0095</td>\n",
       "      <td>0.2828</td>\n",
       "    </tr>\n",
       "    <tr>\n",
       "      <td>carbohydrates_pdv</td>\n",
       "      <td>2968.0000</td>\n",
       "      <td>11.3427</td>\n",
       "      <td>14.3894</td>\n",
       "      <td>0.0000</td>\n",
       "      <td>3.0000</td>\n",
       "      <td>8.0000</td>\n",
       "      <td>15.0000</td>\n",
       "      <td>270.0000</td>\n",
       "    </tr>\n",
       "    <tr>\n",
       "      <td>carbohydrates_g</td>\n",
       "      <td>2968.0000</td>\n",
       "      <td>34.0280</td>\n",
       "      <td>43.1682</td>\n",
       "      <td>0.0000</td>\n",
       "      <td>9.0000</td>\n",
       "      <td>24.0000</td>\n",
       "      <td>45.0000</td>\n",
       "      <td>810.0000</td>\n",
       "    </tr>\n",
       "    <tr>\n",
       "      <td>carbohydrates_pct</td>\n",
       "      <td>2968.0000</td>\n",
       "      <td>0.1433</td>\n",
       "      <td>0.1318</td>\n",
       "      <td>0.0000</td>\n",
       "      <td>0.0537</td>\n",
       "      <td>0.1091</td>\n",
       "      <td>0.1875</td>\n",
       "      <td>1.1053</td>\n",
       "    </tr>\n",
       "    <tr>\n",
       "      <td>num_reviews</td>\n",
       "      <td>2968.0000</td>\n",
       "      <td>8.7274</td>\n",
       "      <td>13.5547</td>\n",
       "      <td>3.0000</td>\n",
       "      <td>3.0000</td>\n",
       "      <td>5.0000</td>\n",
       "      <td>9.0000</td>\n",
       "      <td>357.0000</td>\n",
       "    </tr>\n",
       "    <tr>\n",
       "      <td>mean_rating</td>\n",
       "      <td>2968.0000</td>\n",
       "      <td>4.4190</td>\n",
       "      <td>0.6054</td>\n",
       "      <td>0.7500</td>\n",
       "      <td>4.2000</td>\n",
       "      <td>4.6000</td>\n",
       "      <td>4.8425</td>\n",
       "      <td>5.0000</td>\n",
       "    </tr>\n",
       "  </tbody>\n",
       "</table>\n",
       "</div>"
      ],
      "text/plain": [
       "                      count     mean      std    min      25%      50%  \\\n",
       "n_ingredients     2968.0000   9.2426   3.7581 2.0000   7.0000   9.0000   \n",
       "serving_size_g    2968.0000 347.8851 806.7239 2.0000 124.0000 202.0000   \n",
       "n_servings        2968.0000   5.0313   5.7899 1.0000   4.0000   4.0000   \n",
       "calories          2968.0000 263.9339 290.5454 0.1000 111.8000 195.6000   \n",
       "calories_per_g    2968.0000   1.3029   1.3942 0.0009   0.5716   0.9560   \n",
       "total_fat_pdv     2968.0000  16.9869  35.0557 0.0000   3.0000   9.0000   \n",
       "total_fat_g       2968.0000  11.0415  22.7862 0.0000   1.9500   5.8500   \n",
       "total_fat_pct     2968.0000   0.0633   0.1336 0.0000   0.0078   0.0285   \n",
       "sugar_pdv         2968.0000  35.9693 101.5755 0.0000   7.0000  16.0000   \n",
       "sugar_g           2968.0000  17.9847  50.7877 0.0000   3.5000   8.0000   \n",
       "sugar_pct         2968.0000   0.0687   0.1118 0.0000   0.0199   0.0390   \n",
       "sodium_pdv        2968.0000  22.7379 100.5615 0.0000   1.0000  10.0000   \n",
       "sodium_g          2968.0000   0.5457   2.4135 0.0000   0.0240   0.2400   \n",
       "sodium_pct        2968.0000   0.0024   0.0054 0.0000   0.0001   0.0011   \n",
       "protein_pdv       2968.0000  14.7507  16.8890 0.0000   5.0000  10.0000   \n",
       "protein_g         2968.0000   7.3753   8.4445 0.0000   2.5000   5.0000   \n",
       "protein_pct       2968.0000   0.0345   0.0384 0.0000   0.0121   0.0236   \n",
       "saturated_fat_pdv 2968.0000   8.8939  19.1461 0.0000   1.0000   4.0000   \n",
       "saturated_fat_g   2968.0000   1.7788   3.8292 0.0000   0.2000   0.8000   \n",
       "saturated_fat_pct 2968.0000   0.0095   0.0195 0.0000   0.0010   0.0038   \n",
       "carbohydrates_pdv 2968.0000  11.3427  14.3894 0.0000   3.0000   8.0000   \n",
       "carbohydrates_g   2968.0000  34.0280  43.1682 0.0000   9.0000  24.0000   \n",
       "carbohydrates_pct 2968.0000   0.1433   0.1318 0.0000   0.0537   0.1091   \n",
       "num_reviews       2968.0000   8.7274  13.5547 3.0000   3.0000   5.0000   \n",
       "mean_rating       2968.0000   4.4190   0.6054 0.7500   4.2000   4.6000   \n",
       "\n",
       "                       75%        max  \n",
       "n_ingredients      12.0000    25.0000  \n",
       "serving_size_g    326.2500 19215.0000  \n",
       "n_servings          6.0000   192.0000  \n",
       "calories          315.1000  4055.1000  \n",
       "calories_per_g      1.5477    26.1984  \n",
       "total_fat_pdv      20.0000   704.0000  \n",
       "total_fat_g        13.0000   457.6000  \n",
       "total_fat_pct       0.0679     2.8238  \n",
       "sugar_pdv          33.0000  3162.0000  \n",
       "sugar_g            16.5000  1581.0000  \n",
       "sugar_pct           0.0705     1.8101  \n",
       "sodium_pdv         24.0000  4774.0000  \n",
       "sodium_g            0.5760   114.5760  \n",
       "sodium_pct          0.0028     0.1241  \n",
       "protein_pdv        20.0000   294.0000  \n",
       "protein_g          10.0000   147.0000  \n",
       "protein_pct         0.0446     0.6131  \n",
       "saturated_fat_pdv   9.0000   316.0000  \n",
       "saturated_fat_g     1.8000    63.2000  \n",
       "saturated_fat_pct   0.0095     0.2828  \n",
       "carbohydrates_pdv  15.0000   270.0000  \n",
       "carbohydrates_g    45.0000   810.0000  \n",
       "carbohydrates_pct   0.1875     1.1053  \n",
       "num_reviews         9.0000   357.0000  \n",
       "mean_rating         4.8425     5.0000  "
      ]
     },
     "execution_count": 33,
     "metadata": {},
     "output_type": "execute_result"
    }
   ],
   "source": [
    "pd.options.display.float_format = '{:.4f}'.format\n",
    "recipes[['n_ingredients', 'serving_size_g', 'n_servings', 'calories', 'calories_per_g', \n",
    "         'total_fat_pdv', 'total_fat_g', 'total_fat_pct', 'sugar_pdv', 'sugar_g', \n",
    "         'sugar_pct', 'sodium_pdv', 'sodium_g', 'sodium_pct', 'protein_pdv', 'protein_g', \n",
    "         'protein_pct', 'saturated_fat_pdv', 'saturated_fat_g', 'saturated_fat_pct', \n",
    "         'carbohydrates_pdv', 'carbohydrates_g', 'carbohydrates_pct', 'num_reviews', \n",
    "         'mean_rating']].describe().T"
   ]
  },
  {
   "cell_type": "markdown",
   "metadata": {},
   "source": [
    "TODO: classical, bootstrap, and Bayesian methods, including for individual tests: Statistical analysis performed appropriately for each of the different methods."
   ]
  },
  {
   "cell_type": "markdown",
   "metadata": {},
   "source": [
    "TODO: explore the dataset supported by charts and summary statistics throughout"
   ]
  },
  {
   "cell_type": "markdown",
   "metadata": {},
   "source": [
    "### Identify the Distribution of User Ratings"
   ]
  },
  {
   "cell_type": "markdown",
   "metadata": {},
   "source": [
    "We begin by identifying a likely distribution for several of the features."
   ]
  },
  {
   "cell_type": "markdown",
   "metadata": {},
   "source": [
    "#### Testing the Distribution of *mean_rating* and log(*mean_rating*)"
   ]
  },
  {
   "cell_type": "markdown",
   "metadata": {},
   "source": [
    "First, perform normality tests via graphical methods using a Q-Q plot and a comparison plot of cumulative distribution functions on price and log(price). Then perform a formal Kolmogorov-Smirnov Test."
   ]
  },
  {
   "cell_type": "markdown",
   "metadata": {},
   "source": [
    "##### Graphical Method 1: Q-Q Plot"
   ]
  },
  {
   "cell_type": "markdown",
   "metadata": {},
   "source": [
    "The Q-Q plot of *mean_rating*:"
   ]
  },
  {
   "cell_type": "code",
   "execution_count": 34,
   "metadata": {
    "scrolled": false
   },
   "outputs": [
    {
     "data": {
      "image/png": "[encoded data removed]",
      "text/plain": [
       "<Figure size 432x432 with 2 Axes>"
      ]
     },
     "metadata": {
      "needs_background": "light"
     },
     "output_type": "display_data"
    }
   ],
   "source": [
    "mean_rating = recipes.mean_rating\n",
    "\n",
    "# generate a normal distribution for comparison\n",
    "nr.seed(1357)\n",
    "norm1 = nr.normal(size = len(mean_rating)).tolist()\n",
    "\n",
    "# get 'mean_rating' column as array excluding undefined, zero, and negative values\n",
    "mean_rating = np.array(recipes['mean_rating'].values)\n",
    "\n",
    "# perform Q-Q plot of 'mean_rating'\n",
    "qq_plot(norm1, mean_rating)"
   ]
  },
  {
   "cell_type": "markdown",
   "metadata": {},
   "source": [
    "Clearly, we don't have a normal distribution for *mean_rating*."
   ]
  },
  {
   "cell_type": "markdown",
   "metadata": {},
   "source": [
    "The Q-Q plot of log(*mean_rating*):"
   ]
  },
  {
   "cell_type": "code",
   "execution_count": 35,
   "metadata": {},
   "outputs": [
    {
     "data": {
      "image/png": "[encoded data removed]",
      "text/plain": [
       "<Figure size 432x432 with 2 Axes>"
      ]
     },
     "metadata": {
      "needs_background": "light"
     },
     "output_type": "display_data"
    }
   ],
   "source": [
    "# compute log of 'mean_rating'\n",
    "log_mean_rating = np.log(mean_rating)\n",
    "\n",
    "# perform Q-Q plot of 'log_mean_rating'\n",
    "qq_plot(norm1, log_mean_rating)"
   ]
  },
  {
   "cell_type": "markdown",
   "metadata": {},
   "source": [
    "The distribution of log(*mean_rating*) is not normal either."
   ]
  },
  {
   "cell_type": "markdown",
   "metadata": {},
   "source": [
    "##### Graphical Method 2: Comparison of Cumulative Distribution Functions"
   ]
  },
  {
   "cell_type": "markdown",
   "metadata": {},
   "source": [
    "Perform a normality test using a comparison plot of cumulative distribution functions on *mean_rating*:"
   ]
  },
  {
   "cell_type": "code",
   "execution_count": 36,
   "metadata": {},
   "outputs": [
    {
     "data": {
      "image/png": "[encoded data removed]",
      "text/plain": [
       "<Figure size 432x288 with 1 Axes>"
      ]
     },
     "metadata": {
      "needs_background": "light"
     },
     "output_type": "display_data"
    }
   ],
   "source": [
    "# generate a normal distribution with same length as 'mean_rating' for comparison\n",
    "norm2 = nr.normal(size = len(mean_rating)).tolist()\n",
    "\n",
    "# scale arrays\n",
    "norm2_s = scale(norm2)\n",
    "mean_rating_s = scale(mean_rating)\n",
    "\n",
    "# plot comparison of cumulative distribution functions\n",
    "plot_cums(norm2_s, mean_rating_s)"
   ]
  },
  {
   "cell_type": "markdown",
   "metadata": {},
   "source": [
    "Perform a normality test using a comparison plot of cumulative distribution functions on log(*mean_rating*):"
   ]
  },
  {
   "cell_type": "code",
   "execution_count": 37,
   "metadata": {},
   "outputs": [
    {
     "data": {
      "image/png": "[encoded data removed]",
      "text/plain": [
       "<Figure size 432x288 with 1 Axes>"
      ]
     },
     "metadata": {
      "needs_background": "light"
     },
     "output_type": "display_data"
    }
   ],
   "source": [
    "log_mean_rating_s = scale(log_mean_rating)\n",
    "\n",
    "# plot comparison of cumulative distribution functions\n",
    "plot_cums(norm2_s, log_mean_rating_s)"
   ]
  },
  {
   "cell_type": "markdown",
   "metadata": {},
   "source": [
    "Neither *mean_rating* nor *log_mean_rating* fits the normal distribution according to comparison of its cumulative distribution function with that of normally-distributed data."
   ]
  },
  {
   "cell_type": "markdown",
   "metadata": {},
   "source": [
    "##### Formal Method: Kolmogorov-Smirnov Test"
   ]
  },
  {
   "cell_type": "markdown",
   "metadata": {},
   "source": [
    "Now perform a formal test of normality, the Kolmogorov-Smirnov test, against *mean_rating*:"
   ]
  },
  {
   "cell_type": "code",
   "execution_count": 38,
   "metadata": {},
   "outputs": [
    {
     "name": "stdout",
     "output_type": "stream",
     "text": [
      "KS-statistic = 0.1685709267124783\n",
      "P-value = 1.1091001847399089e-73\n"
     ]
    }
   ],
   "source": [
    "ks_test(mean_rating_s)"
   ]
  },
  {
   "cell_type": "markdown",
   "metadata": {},
   "source": [
    "The K-S statistic is not small and the p-value is minuscule. The chance that we can safely reject the null hypothesis (the distribution is not normal) is quite low. The distribution is apparently not normal."
   ]
  },
  {
   "cell_type": "markdown",
   "metadata": {},
   "source": [
    "Now perform a formal test of normality, the Kolmogorov-Smirnov test, against *log_mean_rating*:"
   ]
  },
  {
   "cell_type": "code",
   "execution_count": 39,
   "metadata": {},
   "outputs": [
    {
     "name": "stdout",
     "output_type": "stream",
     "text": [
      "KS-statistic = 0.2079344443657335\n",
      "P-value = 6.885581555278203e-112\n"
     ]
    }
   ],
   "source": [
    "ks_test(log_mean_rating_s)"
   ]
  },
  {
   "cell_type": "markdown",
   "metadata": {},
   "source": [
    "Again, the K-S statistic is large and the p-value is minuscule, suggesting that the null hypothesis is correct, that the distribution is not normal."
   ]
  },
  {
   "cell_type": "markdown",
   "metadata": {},
   "source": [
    "### Create Categorical Variables"
   ]
  },
  {
   "cell_type": "markdown",
   "metadata": {},
   "source": [
    "We create categorical variables for recipe components that may contribute to users' perception of the recipes and, hence, their ratings, in particular, the carbohydrate, fat, and sodium component of the recipes. We construct these variables by taking tertiles of the respective percentage content in grams of each component and defining categories according to these bins. We then consider whether there is any meaningful effect on user ratings between the bins."
   ]
  },
  {
   "cell_type": "markdown",
   "metadata": {},
   "source": [
    "#### The Carbohydrate Element: High-Carb, Medium-Carb, Low-Carb"
   ]
  },
  {
   "cell_type": "markdown",
   "metadata": {},
   "source": [
    "We create three categories for carbohydrate content: high_carb, medium_carb, and low_carb:"
   ]
  },
  {
   "cell_type": "code",
   "execution_count": 40,
   "metadata": {},
   "outputs": [],
   "source": [
    "# Use percentiles to bin into 3 categories\n",
    "carb_pct = np.array(recipes['carbohydrates_pct'].values)\n",
    "low_cutoff = np.percentile(carb_pct, 33)\n",
    "mid_cutoff = np.percentile(carb_pct, 67)\n",
    "\n",
    "# Set carb_level category by position in tertiles\n",
    "carb_level = np.array([None] * len(carb_pct))\n",
    "carb_level[carb_pct <= low_cutoff] = 'low_carb'\n",
    "carb_level[carb_pct > low_cutoff] = 'medium_carb'\n",
    "carb_level[carb_pct > mid_cutoff] = 'high_carb'\n",
    "recipes['carb_level'] = carb_level"
   ]
  },
  {
   "cell_type": "markdown",
   "metadata": {},
   "source": [
    "#### The Fat Element: High-Fat, Medium-Fat, Low-Fat"
   ]
  },
  {
   "cell_type": "markdown",
   "metadata": {},
   "source": [
    "We create three categories for fat content: high_fat, medium_fat, and low_fat:"
   ]
  },
  {
   "cell_type": "code",
   "execution_count": 41,
   "metadata": {},
   "outputs": [],
   "source": [
    "# Use percentiles to bin into 3 categories\n",
    "fat_pct = np.array(recipes['total_fat_pct'].values)\n",
    "low_cutoff = np.percentile(fat_pct, 33)\n",
    "mid_cutoff = np.percentile(fat_pct, 67)\n",
    "\n",
    "# Set fat_level category by position in tertiles\n",
    "fat_level = np.array([None] * len(fat_pct))\n",
    "fat_level[fat_pct <= low_cutoff] = 'low_fat'\n",
    "fat_level[fat_pct > low_cutoff] = 'medium_fat'\n",
    "fat_level[fat_pct > mid_cutoff] = 'high_fat'\n",
    "recipes['fat_level'] = fat_level"
   ]
  },
  {
   "cell_type": "markdown",
   "metadata": {},
   "source": [
    "#### The Sodium Element: High-Sodium, Medium-Sodium, Low-Sodium"
   ]
  },
  {
   "cell_type": "markdown",
   "metadata": {},
   "source": [
    "We create three categories for sodium content: high_sodium, medium_sodium, and low_sodium:"
   ]
  },
  {
   "cell_type": "code",
   "execution_count": 42,
   "metadata": {},
   "outputs": [],
   "source": [
    "# Use percentiles to bin into 3 categories\n",
    "sodium_pct = np.array(recipes['sodium_pct'].values)\n",
    "low_cutoff = np.percentile(sodium_pct, 33)\n",
    "mid_cutoff = np.percentile(sodium_pct, 67)\n",
    "\n",
    "# Set sodium_level category by position in tertiles\n",
    "sodium_level = np.array([None] * len(sodium_pct))\n",
    "sodium_level[sodium_pct <= low_cutoff] = 'low_sodium'\n",
    "sodium_level[sodium_pct > low_cutoff] = 'medium_sodium'\n",
    "sodium_level[sodium_pct > mid_cutoff] = 'high_sodium'\n",
    "recipes['sodium_level'] = sodium_level"
   ]
  },
  {
   "cell_type": "markdown",
   "metadata": {},
   "source": [
    "### Hypothesis Testing of Low and High Groups Using Classical Methods"
   ]
  },
  {
   "cell_type": "markdown",
   "metadata": {},
   "source": [
    "Here we test for meaningful differences in mean_rating between low and high groups of the variables carb_level, fat_level, and sodium_level using classical methods."
   ]
  },
  {
   "cell_type": "markdown",
   "metadata": {},
   "source": [
    "#### Apply Classical Method to Carb Level"
   ]
  },
  {
   "cell_type": "markdown",
   "metadata": {},
   "source": [
    "Test for a meaningful difference in user ratings between recipes with low vs. high carbs using a t-test and comparative histograms:"
   ]
  },
  {
   "cell_type": "code",
   "execution_count": 55,
   "metadata": {
    "scrolled": false
   },
   "outputs": [
    {
     "name": "stdout",
     "output_type": "stream",
     "text": [
      "DegFreedom   1964.9826\n",
      "Difference      0.0342\n",
      "Statistic       1.2092\n",
      "PValue          0.2267\n",
      "Low95CI        -0.0213\n",
      "High95CI        0.0898\n",
      "dtype: float64\n"
     ]
    },
    {
     "data": {
      "image/png": "[encoded data removed]",
      "text/plain": [
       "<Figure size 432x288 with 2 Axes>"
      ]
     },
     "metadata": {
      "needs_background": "light"
     },
     "output_type": "display_data"
    }
   ],
   "source": [
    "# Extract groups\n",
    "low_carb = np.array(recipes.loc[recipes.loc[:, 'carb_level'] == 'low_carb', 'mean_rating'])\n",
    "high_carb = np.array(recipes.loc[recipes.loc[:, 'carb_level'] == 'high_carb', 'mean_rating'])\n",
    "\n",
    "# perform t-test\n",
    "test_carb_level = t_test(low_carb, high_carb, alpha = 0.05)\n",
    "print(test_carb_level)\n",
    "\n",
    "# produce comparative plots\n",
    "plot_t(low_carb, high_carb, test_carb_level, cols=['low_carb', 'high_carb'])"
   ]
  },
  {
   "cell_type": "markdown",
   "metadata": {},
   "source": [
    "There does not appear to be a meaningful difference in user rating between low-carb and high-carb recipes. The difference in means is quite small suggesting that no real meaningful difference exists between groups. Meanwhile the t-statistic is low and the p-value is higher than we would expect if there were a meaningful difference. Note also that the 95% confidence interval straddles 0, indicating that the possibility that there is no difference lies within the confidence interval."
   ]
  },
  {
   "cell_type": "markdown",
   "metadata": {},
   "source": [
    "#### Apply Classical Method to Fat Level"
   ]
  },
  {
   "cell_type": "markdown",
   "metadata": {},
   "source": [
    "Test for a meaningful difference in user ratings between recipes with low vs. high fat using a t-test and comparative histograms:"
   ]
  },
  {
   "cell_type": "code",
   "execution_count": 54,
   "metadata": {},
   "outputs": [
    {
     "name": "stdout",
     "output_type": "stream",
     "text": [
      "DegFreedom   1904.0336\n",
      "Difference     -0.1328\n",
      "Statistic      -4.8461\n",
      "PValue          0.0000\n",
      "Low95CI        -0.1866\n",
      "High95CI       -0.0791\n",
      "dtype: float64\n"
     ]
    },
    {
     "data": {
      "image/png": "[encoded data removed]",
      "text/plain": [
       "<Figure size 432x288 with 2 Axes>"
      ]
     },
     "metadata": {
      "needs_background": "light"
     },
     "output_type": "display_data"
    }
   ],
   "source": [
    "# Extract groups\n",
    "low_fat = np.array(recipes.loc[recipes.loc[:, 'fat_level'] == 'low_fat', 'mean_rating'])\n",
    "high_fat = np.array(recipes.loc[recipes.loc[:, 'fat_level'] == 'high_fat', 'mean_rating'])\n",
    "\n",
    "# perform t-test\n",
    "test_fat_level = t_test(low_fat, high_fat, alpha = 0.05)\n",
    "print(test_fat_level)\n",
    "\n",
    "# produce comparative plots\n",
    "plot_t(low_fat, high_fat, test_fat_level, cols=['low_fat', 'high_fat'])"
   ]
  },
  {
   "cell_type": "markdown",
   "metadata": {},
   "source": [
    "There appears to be a meaningful difference in user rating between low-fat and high-fat recipes. While the means appear numerically close at first glance, the p-value is extremely low and the 95% confidence interval does not straddle 0. The histograms show that the mean user rating of high-fat recipes lies outside the confidence interval of the mean of low-fat recipes."
   ]
  },
  {
   "cell_type": "markdown",
   "metadata": {},
   "source": [
    "#### Apply Classical Method to Sodium Level"
   ]
  },
  {
   "cell_type": "markdown",
   "metadata": {},
   "source": [
    "Test for a meaningful difference in user ratings between recipes with low vs. high sodium using a t-test and comparative histograms:"
   ]
  },
  {
   "cell_type": "code",
   "execution_count": 58,
   "metadata": {},
   "outputs": [
    {
     "name": "stdout",
     "output_type": "stream",
     "text": [
      "DegFreedom   1938.9581\n",
      "Difference      0.0697\n",
      "Statistic       2.5091\n",
      "PValue          0.0122\n",
      "Low95CI         0.0152\n",
      "High95CI        0.1242\n",
      "dtype: float64\n"
     ]
    },
    {
     "data": {
      "image/png": "[encoded data removed]",
      "text/plain": [
       "<Figure size 432x288 with 2 Axes>"
      ]
     },
     "metadata": {
      "needs_background": "light"
     },
     "output_type": "display_data"
    }
   ],
   "source": [
    "# Extract groups\n",
    "low_sodium = np.array(recipes.loc[recipes.loc[:, 'sodium_level'] == 'low_sodium', 'mean_rating'])\n",
    "high_sodium = np.array(recipes.loc[recipes.loc[:, 'sodium_level'] == 'high_sodium', 'mean_rating'])\n",
    "\n",
    "# perform t-test\n",
    "test_sodium_level = t_test(low_sodium, high_sodium, alpha = 0.05)\n",
    "print(test_sodium_level)\n",
    "\n",
    "# produce comparative plots\n",
    "plot_t(low_sodium, high_sodium, test_sodium_level, cols=['low_sodium', 'high_sodium'])"
   ]
  },
  {
   "cell_type": "markdown",
   "metadata": {},
   "source": [
    "There appears to be a meaningful difference in user rating between low-sodium and high-sodium recipes. While the means appear numerically close at first glance, the p-value is low and the 95% confidence interval does not straddle 0. The histograms show that the mean user rating of high-fat recipes lies slightly outside the confidence interval of the mean of low-fat recipes."
   ]
  },
  {
   "cell_type": "markdown",
   "metadata": {},
   "source": [
    "### Hypothesis Testing of Low and High Groups Using Bootstrap Sampling"
   ]
  },
  {
   "cell_type": "markdown",
   "metadata": {},
   "source": [
    "Here we test for meaningful differences in *mean_rating* between low and high groups of the variables *carb_level*, *fat_level*, and *sodium_level* using bootstrap sampling."
   ]
  },
  {
   "cell_type": "markdown",
   "metadata": {},
   "source": [
    "#### Apply Bootstrap Sampling to Carb Level"
   ]
  },
  {
   "cell_type": "markdown",
   "metadata": {},
   "source": [
    "Test for a meaningful difference in user ratings between recipes with low vs. high carbs using bootstrap sampling."
   ]
  },
  {
   "cell_type": "code",
   "execution_count": null,
   "metadata": {},
   "outputs": [],
   "source": [
    "# Extract groups\n",
    "low_carb = recipes[recipes.carb_level == 'low_carb']\n",
    "high_carb = recipes[recipes.carb_level == 'high_carb']\n",
    "\n",
    "len(low_carb), len(high_carb)"
   ]
  },
  {
   "cell_type": "markdown",
   "metadata": {},
   "source": [
    "Plot histograms of the two samples with means and confidence intervals:"
   ]
  },
  {
   "cell_type": "code",
   "execution_count": null,
   "metadata": {},
   "outputs": [],
   "source": [
    "plot_dists(low_carb.mean_rating, high_carb.mean_rating, 20, a_label='low-carb', b_label='high-carb')"
   ]
  },
  {
   "cell_type": "markdown",
   "metadata": {},
   "source": [
    "The histograms suggest that there is no meaningful difference between low-carb and high-carb recipes in terms of user ratings. To confirm, we apply bootstrap sampling to compute the difference in means:"
   ]
  },
  {
   "cell_type": "code",
   "execution_count": null,
   "metadata": {},
   "outputs": [],
   "source": [
    "# Apply bootstrap sampling to compute the difference in means\n",
    "diffs = []\n",
    "n_replicas=1000\n",
    "for i in range(n_replicas):\n",
    "    sample = recipes.sample(frac=1.0, replace=True)\n",
    "    low_carb_sample_mean = sample[sample.carb_level == 'low_carb'].mean_rating.mean()\n",
    "    high_carb_sample_mean = sample[sample.carb_level == 'high_carb'].mean_rating.mean()\n",
    "    diffs.append(low_carb_sample_mean - high_carb_sample_mean)\n",
    "diffs = pd.Series(diffs)\n",
    "\n",
    "plot_hist(diffs, diffs.min(), diffs.max())"
   ]
  },
  {
   "cell_type": "markdown",
   "metadata": {},
   "source": [
    "The values of the distribution of the difference are not far from zero, suggesting that we cannot infor that the means of the two populations are meaningfully different. At the same time, the confidence interval straddles zero, the point of no difference between means."
   ]
  },
  {
   "cell_type": "markdown",
   "metadata": {},
   "source": [
    "#### Apply Bootstrap Sampling to Fat Level"
   ]
  },
  {
   "cell_type": "markdown",
   "metadata": {},
   "source": [
    "Test for a meaningful difference in user ratings between recipes with low vs. high fat using bootstrap sampling."
   ]
  },
  {
   "cell_type": "code",
   "execution_count": null,
   "metadata": {},
   "outputs": [],
   "source": [
    "# Extract groups\n",
    "low_fat = recipes[recipes.fat_level == 'low_fat']\n",
    "high_fat = recipes[recipes.fat_level == 'high_fat']\n",
    "\n",
    "len(low_fat), len(high_fat)"
   ]
  },
  {
   "cell_type": "markdown",
   "metadata": {},
   "source": [
    "Plot histograms of the two samples with means and confidence intervals:"
   ]
  },
  {
   "cell_type": "code",
   "execution_count": null,
   "metadata": {},
   "outputs": [],
   "source": [
    "plot_dists(low_fat.mean_rating, high_fat.mean_rating, 20, a_label='low-fat', b_label='high-fat')"
   ]
  },
  {
   "cell_type": "markdown",
   "metadata": {},
   "source": [
    "While the histograms suggest at first glance that there is little difference between low-fat and high-fat recipes in terms of user ratings, appearances may be deceiving due to the non-normality of the *mean_ratings* column (see above). Because ratings skew towards the high end (ratings tend to be favorable), it is possible that small differences in ratings reflect meaningful differences in user perception. To confirm, we apply bootstrap sampling to compute the difference in means:"
   ]
  },
  {
   "cell_type": "code",
   "execution_count": null,
   "metadata": {},
   "outputs": [],
   "source": [
    "# Apply bootstrap sampling to compute the difference in means\n",
    "diffs = []\n",
    "n_replicas=1000\n",
    "for i in range(n_replicas):\n",
    "    sample = recipes.sample(frac=1.0, replace=True)\n",
    "    low_fat_sample_mean = sample[sample.fat_level == 'low_fat'].mean_rating.mean()\n",
    "    high_fat_sample_mean = sample[sample.fat_level == 'high_fat'].mean_rating.mean()\n",
    "    diffs.append(high_fat_sample_mean - low_fat_sample_mean)\n",
    "diffs = pd.Series(diffs)\n",
    "\n",
    "plot_hist(diffs, diffs.min(), diffs.max())"
   ]
  },
  {
   "cell_type": "markdown",
   "metadata": {},
   "source": [
    "The values of the distribution of the difference in means is not far from zero, yet the fact that the confidence interval does not straddle zero (no difference) suggests that there may be a meaningful difference between the low-fat and high-fat groups. If this is the case, the proximity of the difference in means is a side effect of the non-normal distribution in which ratings tend to skew towards the high end of favorability due to the social dynamics of the web-based community that supplies the ratings data."
   ]
  },
  {
   "cell_type": "markdown",
   "metadata": {},
   "source": [
    "#### Apply Bootstrap Sampling to Sodium Level"
   ]
  },
  {
   "cell_type": "markdown",
   "metadata": {},
   "source": [
    "Test for a meaningful difference in user ratings between recipes with low vs. high sodium using bootstrap sampling."
   ]
  },
  {
   "cell_type": "code",
   "execution_count": null,
   "metadata": {},
   "outputs": [],
   "source": [
    "# Extract groups\n",
    "low_sodium = recipes[recipes.sodium_level == 'low_sodium']\n",
    "high_sodium = recipes[recipes.sodium_level == 'high_sodium']\n",
    "\n",
    "len(low_sodium), len(high_sodium)"
   ]
  },
  {
   "cell_type": "markdown",
   "metadata": {},
   "source": [
    "Plot histograms of the two samples with means and confidence intervals:"
   ]
  },
  {
   "cell_type": "code",
   "execution_count": null,
   "metadata": {},
   "outputs": [],
   "source": [
    "plot_dists(low_sodium.mean_rating, high_sodium.mean_rating, 20, a_label='low-sodium', b_label='high-sodium')"
   ]
  },
  {
   "cell_type": "markdown",
   "metadata": {},
   "source": [
    "While the histograms suggest at first glance that there is little difference between low-sodium and high-sodium recipes in terms of user ratings, appearances may be deceiving due to the non-normality of the *mean_ratings* column (see above). Because ratings skew towards the high end (ratings tend to be favorable), it is possible that small differences in ratings reflect meaningful differences in user perception. To confirm, we apply bootstrap sampling to compute the difference in means:"
   ]
  },
  {
   "cell_type": "code",
   "execution_count": null,
   "metadata": {},
   "outputs": [],
   "source": [
    "# Apply bootstrap sampling to compute the difference in means\n",
    "diffs = []\n",
    "n_replicas=1000\n",
    "for i in range(n_replicas):\n",
    "    sample = recipes.sample(frac=1.0, replace=True)\n",
    "    low_sodium_sample_mean = sample[sample.sodium_level == 'low_sodium'].mean_rating.mean()\n",
    "    high_sodium_sample_mean = sample[sample.sodium_level == 'high_sodium'].mean_rating.mean()\n",
    "    diffs.append(low_sodium_sample_mean - high_sodium_sample_mean)\n",
    "diffs = pd.Series(diffs)\n",
    "\n",
    "plot_hist(diffs, diffs.min(), diffs.max())"
   ]
  },
  {
   "cell_type": "markdown",
   "metadata": {},
   "source": [
    "Again, the values of the distribution of the difference in means is not far from zero, yet the fact that the confidence interval does not straddle zero (no difference) suggests that there may be a meaningful difference between the low-sodium and high-sodium groups. As noted above, if this is the case, the proximity of the difference in means is a side effect of the non-normal distribution in which ratings tend to skew towards the high end of favorability due to the social dynamics of the web-based community that supplies the ratings data."
   ]
  },
  {
   "cell_type": "markdown",
   "metadata": {},
   "source": [
    "### Hypothesis Testing of Low and High Groups Using Bayesian Models"
   ]
  },
  {
   "cell_type": "markdown",
   "metadata": {},
   "source": [
    "Here we test for meaningful differences in *mean_rating* between low and high groups of the variables *carb_level*, *fat_level*, and *sodium_level* using Bayesian models."
   ]
  },
  {
   "cell_type": "markdown",
   "metadata": {},
   "source": [
    "#### Apply Bayesian Models to Carb Level"
   ]
  },
  {
   "cell_type": "markdown",
   "metadata": {},
   "source": [
    "Test for a meaningful difference in user ratings between recipes with low vs. high carbs using Bayesian models."
   ]
  },
  {
   "cell_type": "code",
   "execution_count": null,
   "metadata": {},
   "outputs": [],
   "source": [
    "# Extract groups\n",
    "num_samples = 100\n",
    "low_carb = recipes[recipes.carb_level == 'low_carb'].sample(n=num_samples)\n",
    "high_carb = recipes[recipes.carb_level == 'high_carb'].sample(n=num_samples)"
   ]
  },
  {
   "cell_type": "markdown",
   "metadata": {},
   "source": [
    "Plot histogram of user ratings of the two groups:"
   ]
  },
  {
   "cell_type": "code",
   "execution_count": null,
   "metadata": {},
   "outputs": [],
   "source": [
    "plt.title('Histograms of user ratings of recipes')\n",
    "low_carb.mean_rating.hist(label='low-carb', bins=10, alpha=.7)\n",
    "high_carb.mean_rating.hist(label='high-carb', bins=10, alpha=.7)\n",
    "plt.xlabel('Mean Rating')\n",
    "plt.legend()\n",
    "\n",
    "mean_low_carb_rating = low_carb.mean_rating.mean()\n",
    "mean_high_carb_rating = high_carb.mean_rating.mean()\n",
    "print('Mean of low-carb user ratings: %.2f' % mean_low_carb_rating)\n",
    "print('Mean of high-carb user ratings: %.2f' % mean_high_carb_rating)"
   ]
  },
  {
   "cell_type": "markdown",
   "metadata": {},
   "source": [
    "The histogram reveals some potentially interesting differences in the distribution of user ratings between the two groups. Particularly striking is the spike in low-carb recipes with the highest rating. To determine whether these differences are significant, we turn to a comparison of means and confidence intervals."
   ]
  },
  {
   "cell_type": "markdown",
   "metadata": {},
   "source": [
    "Estimate the posterior distribution of the mean user rating for low-carb recipes:"
   ]
  },
  {
   "cell_type": "code",
   "execution_count": null,
   "metadata": {},
   "outputs": [],
   "source": [
    "N = len(low_carb)\n",
    "p = np.linspace(0.75, 5, num=N)\n",
    "\n",
    "pp_low_carb = ss.norm.pdf(p, loc=low_carb.mean_rating.mean(), scale=5)\n",
    "pp_low_carb = pp_low_carb / pp_low_carb.sum() # normalize\n",
    "\n",
    "like_low_carb = comp_like(p, low_carb.mean_rating)\n",
    "post_low_carb = posterior(pp_low_carb, like_low_carb)\n",
    "\n",
    "plt.plot(p, pp_low_carb, label='prior')\n",
    "plt.plot(p, like_low_carb, label='likelihood', alpha=.3, linewidth=10)\n",
    "plt.plot(p, post_low_carb, label='posterior')\n",
    "_=plt.legend()"
   ]
  },
  {
   "cell_type": "markdown",
   "metadata": {},
   "source": [
    "Estimate the posterior distribution of the mean user rating for high-carb recipes:"
   ]
  },
  {
   "cell_type": "code",
   "execution_count": null,
   "metadata": {},
   "outputs": [],
   "source": [
    "pp_high_carb = ss.norm.pdf(p, loc=high_carb.mean_rating.mean(), scale=5)\n",
    "pp_high_carb = pp_high_carb / pp_high_carb.sum() # normalize\n",
    "\n",
    "like_high_carb = comp_like(p, high_carb.mean_rating)\n",
    "post_high_carb = posterior(pp_high_carb, like_high_carb)\n",
    "\n",
    "plt.plot(p, pp_high_carb, label='prior')\n",
    "plt.plot(p, like_high_carb, label='likelihood', alpha=.3, linewidth=10)\n",
    "plt.plot(p, post_high_carb, label='posterior')\n",
    "plt.legend()"
   ]
  },
  {
   "cell_type": "markdown",
   "metadata": {},
   "source": [
    "Now compare the posterior distribution of the mean user rating of low-carb recipes to the distribution of the mean user rating of high-carb recipes. Compute the mean user rating and confidence interval for the low-carb group:"
   ]
  },
  {
   "cell_type": "code",
   "execution_count": null,
   "metadata": {},
   "outputs": [],
   "source": [
    "num_samples = 100000\n",
    "plot_ci(p, post_low_carb, num_samples, lower_q=.025, upper_q=.975)"
   ]
  },
  {
   "cell_type": "markdown",
   "metadata": {},
   "source": [
    "Compute the mean user rating and confidence interval for the high-carb group:"
   ]
  },
  {
   "cell_type": "code",
   "execution_count": null,
   "metadata": {},
   "outputs": [],
   "source": [
    "plot_ci(p, post_high_carb, num_samples, lower_q=.025, upper_q=.975)"
   ]
  },
  {
   "cell_type": "markdown",
   "metadata": {},
   "source": [
    "The confidence intervals between the groups overlap suggesting that there is no meaningful difference in user ratings of recipes based on carb content."
   ]
  },
  {
   "cell_type": "markdown",
   "metadata": {},
   "source": [
    "#### Apply Bayesian Models to Fat Level"
   ]
  },
  {
   "cell_type": "markdown",
   "metadata": {},
   "source": [
    "Test for a meaningful difference in user ratings between recipes with low vs. high fat using Bayesian models."
   ]
  },
  {
   "cell_type": "code",
   "execution_count": null,
   "metadata": {},
   "outputs": [],
   "source": [
    "# Extract groups\n",
    "num_samples = 100\n",
    "low_fat = recipes[recipes.fat_level == 'low_fat'].sample(n=num_samples)\n",
    "high_fat = recipes[recipes.fat_level == 'high_fat'].sample(n=num_samples)"
   ]
  },
  {
   "cell_type": "markdown",
   "metadata": {},
   "source": [
    "Plot histogram of user ratings of the two groups:"
   ]
  },
  {
   "cell_type": "code",
   "execution_count": null,
   "metadata": {},
   "outputs": [],
   "source": [
    "plt.title('Histograms of user ratings of recipes')\n",
    "low_fat.mean_rating.hist(label='low-fat', bins=10, alpha=.7)\n",
    "high_fat.mean_rating.hist(label='high-fat', bins=10, alpha=.7)\n",
    "plt.xlabel('Mean Rating')\n",
    "plt.legend()\n",
    "mean_low_fat_rating = low_fat.mean_rating.mean()\n",
    "mean_high_fat_rating = high_fat.mean_rating.mean()\n",
    "print('Mean of low-fat user ratings: %.2f' % mean_low_fat_rating)\n",
    "print('Mean of high-fat user ratings: %.2f' % mean_high_fat_rating)"
   ]
  },
  {
   "cell_type": "markdown",
   "metadata": {},
   "source": [
    "The histogram suggests that recipes with higher fat lean towards the high end of the ratings scale in comparison with lower fat recipes. To determine whether this is significant, we turn to a comparison of means and confidence intervals."
   ]
  },
  {
   "cell_type": "markdown",
   "metadata": {},
   "source": [
    "Estimate the posterior distribution of the mean user rating for low-fat recipes:"
   ]
  },
  {
   "cell_type": "code",
   "execution_count": null,
   "metadata": {},
   "outputs": [],
   "source": [
    "N = len(low_fat)\n",
    "p = np.linspace(0.75, 5, num=N)\n",
    "\n",
    "pp_low_fat = ss.norm.pdf(p, loc=low_fat.mean_rating.mean(), scale=5)\n",
    "pp_low_fat = pp_low_fat / pp_low_fat.sum() # normalize\n",
    "\n",
    "like_low_fat = comp_like(p, low_fat.mean_rating)\n",
    "post_low_fat = posterior(pp_low_fat, like_low_fat)\n",
    "\n",
    "plt.plot(p, pp_low_fat, label='prior')\n",
    "plt.plot(p, like_low_fat, label='likelihood', alpha=.3, linewidth=10)\n",
    "plt.plot(p, post_low_fat, label='posterior')\n",
    "_=plt.legend()"
   ]
  },
  {
   "cell_type": "markdown",
   "metadata": {},
   "source": [
    "Estimate the posterior distribution of the mean user rating for high-fat recipes:"
   ]
  },
  {
   "cell_type": "code",
   "execution_count": null,
   "metadata": {},
   "outputs": [],
   "source": [
    "pp_high_fat = ss.norm.pdf(p, loc=high_fat.mean_rating.mean(), scale=5)\n",
    "pp_high_fat = pp_high_fat / pp_high_fat.sum() # normalize\n",
    "\n",
    "like_high_fat = comp_like(p, high_fat.mean_rating)\n",
    "post_high_fat = posterior(pp_high_fat, like_high_fat)\n",
    "\n",
    "plt.plot(p, pp_high_fat, label='prior')\n",
    "plt.plot(p, like_high_fat, label='likelihood', alpha=.3, linewidth=10)\n",
    "plt.plot(p, post_high_fat, label='posterior')\n",
    "plt.legend()"
   ]
  },
  {
   "cell_type": "markdown",
   "metadata": {},
   "source": [
    "Now compare the posterior distribution of the mean user rating of low-fat recipes to the distribution of the mean user rating of high-fat recipes. Compute the mean user rating and confidence interval for the low-fat group:"
   ]
  },
  {
   "cell_type": "code",
   "execution_count": null,
   "metadata": {},
   "outputs": [],
   "source": [
    "num_samples = 100000\n",
    "\n",
    "plot_ci(p, post_low_fat, num_samples, lower_q=.025, upper_q=.975)"
   ]
  },
  {
   "cell_type": "markdown",
   "metadata": {},
   "source": [
    "Compute the mean user rating and confidence interval for the high-fat group:"
   ]
  },
  {
   "cell_type": "code",
   "execution_count": null,
   "metadata": {},
   "outputs": [],
   "source": [
    "plot_ci(p, post_high_fat, num_samples, lower_q=.025, upper_q=.975)"
   ]
  },
  {
   "cell_type": "markdown",
   "metadata": {},
   "source": [
    "According to our Bayesian model, the difference in mean user rating between low-fat recipes and high-fat recipes is likely to be meaningful because the credible intervals of the means do not overlap."
   ]
  },
  {
   "cell_type": "markdown",
   "metadata": {},
   "source": [
    "#### Apply Bayesian Models to Sodium Level"
   ]
  },
  {
   "cell_type": "markdown",
   "metadata": {},
   "source": [
    "Test for a meaningful difference in user ratings between recipes with low vs. high sodium using Bayesian models."
   ]
  },
  {
   "cell_type": "code",
   "execution_count": null,
   "metadata": {},
   "outputs": [],
   "source": [
    "# Extract groups\n",
    "num_samples = 100\n",
    "low_sodium = recipes[recipes.sodium_level == 'low_sodium'].sample(n=num_samples)\n",
    "high_sodium = recipes[recipes.sodium_level == 'high_sodium'].sample(n=num_samples)"
   ]
  },
  {
   "cell_type": "markdown",
   "metadata": {},
   "source": [
    "Plot histogram of user ratings of the two groups:"
   ]
  },
  {
   "cell_type": "code",
   "execution_count": null,
   "metadata": {},
   "outputs": [],
   "source": [
    "plt.title('Histograms of user ratings of recipes')\n",
    "low_sodium.mean_rating.hist(label='low-sodium', bins=10, alpha=.7)\n",
    "high_sodium.mean_rating.hist(label='high-sodium', bins=10, alpha=.7)\n",
    "plt.xlabel('Mean Rating')\n",
    "plt.legend()\n",
    "\n",
    "mean_low_sodium_rating = low_sodium.mean_rating.mean()\n",
    "mean_high_sodium_rating = high_sodium.mean_rating.mean()\n",
    "print('Mean of low-sodium user ratings: %.2f' % mean_low_sodium_rating)\n",
    "print('Mean of high-sodium user ratings: %.2f' % mean_high_sodium_rating)"
   ]
  },
  {
   "cell_type": "markdown",
   "metadata": {},
   "source": [
    "The histogram reveals an apparently negligible difference in distribution of user ratings between the two groups."
   ]
  },
  {
   "cell_type": "markdown",
   "metadata": {},
   "source": [
    "Estimate the posterior distribution of the mean user rating for low-sodium recipes:"
   ]
  },
  {
   "cell_type": "code",
   "execution_count": null,
   "metadata": {},
   "outputs": [],
   "source": [
    "N = len(low_sodium)\n",
    "p = np.linspace(0.75, 5, num=N)\n",
    "\n",
    "pp_low_sodium = ss.norm.pdf(p, loc=low_sodium.mean_rating.mean(), scale=5)\n",
    "pp_low_sodium = pp_low_sodium / pp_low_sodium.sum() # normalize\n",
    "\n",
    "like_low_sodium = comp_like(p, low_sodium.mean_rating)\n",
    "post_low_sodium = posterior(pp_low_sodium, like_low_sodium)\n",
    "\n",
    "plt.plot(p, pp_low_sodium, label='prior')\n",
    "plt.plot(p, like_low_sodium, label='likelihood', alpha=.3, linewidth=10)\n",
    "plt.plot(p, post_low_sodium, label='posterior')\n",
    "_=plt.legend()"
   ]
  },
  {
   "cell_type": "markdown",
   "metadata": {},
   "source": [
    "Estimate the posterior distribution of the mean user rating for high-sodium recipes:"
   ]
  },
  {
   "cell_type": "code",
   "execution_count": null,
   "metadata": {},
   "outputs": [],
   "source": [
    "pp_high_sodium = ss.norm.pdf(p, loc=high_sodium.mean_rating.mean(), scale=5)\n",
    "pp_high_sodium = pp_high_sodium / pp_high_sodium.sum() # normalize\n",
    "\n",
    "like_high_sodium = comp_like(p, high_sodium.mean_rating)\n",
    "post_high_sodium = posterior(pp_high_sodium, like_high_sodium)\n",
    "\n",
    "plt.plot(p, pp_high_sodium, label='prior')\n",
    "plt.plot(p, like_high_sodium, label='likelihood', alpha=.3, linewidth=10)\n",
    "plt.plot(p, post_high_sodium, label='posterior')\n",
    "plt.legend()"
   ]
  },
  {
   "cell_type": "markdown",
   "metadata": {},
   "source": [
    "Now compare the posterior distribution of the mean user rating of low-sodium recipes to the distribution of the mean user rating of high-sodium recipes. Compute the mean user rating and confidence interval for the low-sodium group:"
   ]
  },
  {
   "cell_type": "code",
   "execution_count": null,
   "metadata": {},
   "outputs": [],
   "source": [
    "num_samples = 100000\n",
    "\n",
    "plot_ci(p, post_low_sodium, num_samples, lower_q=.025, upper_q=.975)"
   ]
  },
  {
   "cell_type": "markdown",
   "metadata": {},
   "source": [
    "Compute the mean user rating and confidence interval for the high-sodium group:"
   ]
  },
  {
   "cell_type": "code",
   "execution_count": null,
   "metadata": {},
   "outputs": [],
   "source": [
    "plot_ci(p, post_high_sodium, num_samples, lower_q=.025, upper_q=.975)"
   ]
  },
  {
   "cell_type": "markdown",
   "metadata": {},
   "source": [
    "According to our Bayesian model, the difference in mean user rating between low-sodium recipes and high-sodium recipes is not meaningful because the credible intervals of the means overlap."
   ]
  },
  {
   "cell_type": "markdown",
   "metadata": {},
   "source": [
    "### Hypothesis Testing of Three Groups: ANOVA and Tukey's HSD Test"
   ]
  },
  {
   "cell_type": "markdown",
   "metadata": {},
   "source": [
    "#### High-Carb, Medium-Carb, Low-Carb"
   ]
  },
  {
   "cell_type": "markdown",
   "metadata": {},
   "source": [
    "We now test whether high-carb vs. low-carb recipes have a meaningful difference in ratings. We use the categorical variable *carb_level* created by binning the numeric variable *carbohydrates_pct*, which represents the percent of carbohydrates per recipe by mass relative to the mass of a serving:"
   ]
  },
  {
   "cell_type": "markdown",
   "metadata": {},
   "source": [
    "##### Apply ANOVA and Tukey's HSD Test to Mean Rating by Carb Level"
   ]
  },
  {
   "cell_type": "markdown",
   "metadata": {},
   "source": [
    "We now apply ANOVA and Tukey's HSD test to categories of carb level by mean rating:"
   ]
  },
  {
   "cell_type": "code",
   "execution_count": null,
   "metadata": {},
   "outputs": [],
   "source": [
    "# extract groups\n",
    "low_carb = np.array(recipes.loc[recipes.loc[:, 'carb_level'] == 'low_carb', 'mean_rating'])\n",
    "medium_carb = np.array(recipes.loc[recipes.loc[:, 'carb_level'] == 'medium_carb', 'mean_rating'])\n",
    "high_carb = np.array(recipes.loc[recipes.loc[:, 'carb_level'] == 'high_carb', 'mean_rating'])\n",
    "\n",
    "# prepare dataframe\n",
    "df = pd.DataFrame({'vals': low_carb.tolist() + medium_carb.tolist() + high_carb.tolist(),\n",
    "                   'group': ['low_carb'] * len(low_carb) + ['medium_carb'] * len(medium_carb) +\n",
    "                  ['high_carb'] * len(high_carb)})\n",
    "Tukey_HSD = pairwise_tukeyhsd(df.vals, df.group)\n",
    "print(Tukey_HSD)"
   ]
  },
  {
   "cell_type": "markdown",
   "metadata": {},
   "source": [
    "We can visualize the groups graphically:"
   ]
  },
  {
   "cell_type": "code",
   "execution_count": null,
   "metadata": {},
   "outputs": [],
   "source": [
    "_ = Tukey_HSD.plot_simultaneous()"
   ]
  },
  {
   "cell_type": "markdown",
   "metadata": {},
   "source": [
    "The test indicates that there is no clear meaningful difference in mean user rating between the categories of recipes based on level of carbohydrates (reject null hypothesis == False). In the case of all three relationships the test recommends that we do not reject the null hypothesis. The confidence interval straddles zero (no difference) between each of the respective pairs of categories, suggesting that we can have no confidence in any difference between the groups. Meanwhile, the p-values are quite high for each of the three relationships. Finally, we observe significant overlap in the simultaneous plot between all three categories. While we might expect high-carb recipes to be more popular than recipes with fewer carbs, this is not the case based on analysis of our data."
   ]
  },
  {
   "cell_type": "markdown",
   "metadata": {},
   "source": [
    "#### High-Fat, Medium-Fat, Low-Fat"
   ]
  },
  {
   "cell_type": "markdown",
   "metadata": {},
   "source": [
    "Our next test is whether high-fat vs. low-fat recipes have a meaningful difference in ratings. We use the categorical variable *fat_level* created by binning the numeric variable *total_fat_pct*, which represents the percent of fat per recipe by mass relative to the mass of a serving:"
   ]
  },
  {
   "cell_type": "markdown",
   "metadata": {},
   "source": [
    "##### Apply ANOVA and Tukey's HSD Test to Mean Rating by Total Fat Level"
   ]
  },
  {
   "cell_type": "markdown",
   "metadata": {},
   "source": [
    "We now apply ANOVA and Tukey's HSD test to categories of total fat level by mean rating:"
   ]
  },
  {
   "cell_type": "code",
   "execution_count": null,
   "metadata": {},
   "outputs": [],
   "source": [
    "# extract groups\n",
    "low_fat = np.array(recipes.loc[recipes.loc[:, 'fat_level'] == 'low_fat', 'mean_rating'])\n",
    "medium_fat = np.array(recipes.loc[recipes.loc[:, 'fat_level'] == 'medium_fat', 'mean_rating'])\n",
    "high_fat = np.array(recipes.loc[recipes.loc[:, 'fat_level'] == 'high_fat', 'mean_rating'])\n",
    "\n",
    "# prepare dataframe\n",
    "df = pd.DataFrame({'vals': low_fat.tolist() + medium_fat.tolist() + high_fat.tolist(),\n",
    "                   'group': ['low_fat'] * len(low_fat) + ['medium_fat'] * len(medium_fat) +\n",
    "                  ['high_fat'] * len(high_fat)})\n",
    "Tukey_HSD = pairwise_tukeyhsd(df.vals, df.group)\n",
    "print(Tukey_HSD)"
   ]
  },
  {
   "cell_type": "markdown",
   "metadata": {},
   "source": [
    "We can visualize the groups graphically:"
   ]
  },
  {
   "cell_type": "code",
   "execution_count": null,
   "metadata": {},
   "outputs": [],
   "source": [
    "_ = Tukey_HSD.plot_simultaneous()"
   ]
  },
  {
   "cell_type": "markdown",
   "metadata": {},
   "source": [
    "The test indicates that there is no clear meaningful difference in mean user rating between recipes with medium and high fat, but a potentially meaningful difference between recipes with low fat and recipes with medium or high fat. Between medium-fat and high-fat recipes the confidence interval straddles zero, suggesting that there is no meaningful difference between medium-fat and high-fat recipes in terms of user ratings. On the other hand, the respective confidence intervals between these two categories and low-fat recipes do not straddle zero, suggesting that there is a meaningful difference in user ratings between low-fat recipes and recipes with higher fat content, with users preferring the latter. Similarly, the p-value between medium- and high-fat recipes is high, but low between these categores and low-fat recipes. Finally, we observe significant overlap between medium- and high-fat recipes, but no overlap between these categories and low-fat recipes in the simultaneous plot between all three categories. So there is a meaningful difference in user ratings between low-fat recipes, which users tend to prefer less, and recipes with higher fat."
   ]
  },
  {
   "cell_type": "markdown",
   "metadata": {},
   "source": [
    "#### High-Sodium, Medium-Sodium, Low-Sodium"
   ]
  },
  {
   "cell_type": "markdown",
   "metadata": {},
   "source": [
    "Our next test is whether high-sodium vs. low-sodium recipes have a meaningful difference in ratings. We use the categorical variable *sodium_level* created by binning the numeric variable *total_sodium_pct*, which represents the percent of sodium per recipe by mass relative to the mass of a serving:"
   ]
  },
  {
   "cell_type": "markdown",
   "metadata": {},
   "source": [
    "##### Apply ANOVA and Tukey's HSD Test to Mean Rating by Sodium Level"
   ]
  },
  {
   "cell_type": "markdown",
   "metadata": {},
   "source": [
    "We now apply ANOVA and Tukey's HSD test to categories of sodium level by mean rating:"
   ]
  },
  {
   "cell_type": "code",
   "execution_count": null,
   "metadata": {},
   "outputs": [],
   "source": [
    "# extract groups\n",
    "low_sodium = np.array(recipes.loc[recipes.loc[:, 'sodium_level'] == 'low_sodium', 'mean_rating'])\n",
    "medium_sodium = np.array(recipes.loc[recipes.loc[:, 'sodium_level'] == 'medium_sodium', 'mean_rating'])\n",
    "high_sodium = np.array(recipes.loc[recipes.loc[:, 'sodium_level'] == 'high_sodium', 'mean_rating'])\n",
    "\n",
    "# prepare dataframe\n",
    "df = pd.DataFrame({'vals': low_sodium.tolist() + medium_sodium.tolist() + high_sodium.tolist(),\n",
    "                   'group': ['low_sodium'] * len(low_sodium) + ['medium_sodium'] * len(medium_sodium) +\n",
    "                  ['high_sodium'] * len(high_sodium)})\n",
    "Tukey_HSD = pairwise_tukeyhsd(df.vals, df.group)\n",
    "print(Tukey_HSD)"
   ]
  },
  {
   "cell_type": "markdown",
   "metadata": {},
   "source": [
    "We can visualize the groups graphically:"
   ]
  },
  {
   "cell_type": "code",
   "execution_count": null,
   "metadata": {},
   "outputs": [],
   "source": [
    "_ = Tukey_HSD.plot_simultaneous()"
   ]
  },
  {
   "cell_type": "markdown",
   "metadata": {},
   "source": [
    "The test indicates that there is no clear meaningful difference in mean user rating between recipes with low and medium sodium, but a potentially meaningful difference between recipes with high sodium and recipes with low or medium fat. Between low-sodium and medium-sodium recipes the confidence interval straddles zero, suggesting that there is no meaningful difference between low-sodium and medium-sodium recipes in terms of user ratings. On the other hand, the respective confidence intervals between these two categories and high-sodium recipes do not straddle zero, suggesting that there is a meaningful difference in user ratings between high-sodium recipes and recipes with lower sodium content, with users preferring the latter. Similarly, the p-value between low- and medium-sodium recipes is high, but low between these categores and high-sodium recipes. Finally, we observe significant overlap between low- and medium-sodium recipes, but no overlap between these categories and high-sodium recipes in the simultaneous plot between all three categories. So there is a meaningful difference in user ratings between high-sodium recipes and recipes with lower sodium, which (surprisingly) users tend to prefer more."
   ]
  },
  {
   "cell_type": "markdown",
   "metadata": {},
   "source": [
    "TODO: Hypothesis testing performed appropriate to the question being addressed."
   ]
  },
  {
   "cell_type": "markdown",
   "metadata": {},
   "source": [
    "TODO: compute basic summary statistics by both classical, bootstrap, and Bayesian methods."
   ]
  },
  {
   "cell_type": "markdown",
   "metadata": {},
   "source": [
    "TODO: use confidence intervals in performing hypothesis tests to determine if the differences in pairs and multiple populations are significant, i.e. compute confidence intervals for the above summary statistics by classical, bootstrap, and Bayesian methods."
   ]
  },
  {
   "cell_type": "markdown",
   "metadata": {},
   "source": [
    "### Conclusion"
   ]
  },
  {
   "cell_type": "markdown",
   "metadata": {},
   "source": [
    "TODO"
   ]
  }
 ],
 "metadata": {
  "kernelspec": {
   "display_name": "Python 3",
   "language": "python",
   "name": "python3"
  },
  "language_info": {
   "codemirror_mode": {
    "name": "ipython",
    "version": 3
   },
   "file_extension": ".py",
   "mimetype": "text/x-python",
   "name": "python",
   "nbconvert_exporter": "python",
   "pygments_lexer": "ipython3",
   "version": "3.7.4"
  }
 },
 "nbformat": 4,
 "nbformat_minor": 2
}
