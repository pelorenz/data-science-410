{
 "cells": [
  {
   "cell_type": "markdown",
   "metadata": {},
   "source": [
    "# Assignment 7: Regression and Regularization"
   ]
  },
  {
   "cell_type": "markdown",
   "metadata": {},
   "source": [
    "In assignment 7 we identify the principal components in a dataset that tracked patients with Parkinson's Disease."
   ]
  },
  {
   "cell_type": "markdown",
   "metadata": {},
   "source": [
    "### Preparation"
   ]
  },
  {
   "cell_type": "markdown",
   "metadata": {},
   "source": [
    "Import required libraries:"
   ]
  },
  {
   "cell_type": "code",
   "execution_count": 134,
   "metadata": {},
   "outputs": [],
   "source": [
    "# Import required libraries\n",
    "import matplotlib.pyplot as plt\n",
    "import numpy as np\n",
    "import pandas as pd\n",
    "import scipy.stats as ss\n",
    "import seaborn as sns"
   ]
  },
  {
   "cell_type": "markdown",
   "metadata": {},
   "source": [
    "Define global options:"
   ]
  },
  {
   "cell_type": "code",
   "execution_count": 21,
   "metadata": {},
   "outputs": [],
   "source": [
    "# Display plots inline\n",
    "%matplotlib inline\n",
    "\n",
    "# Display all outputs from cell\n",
    "from IPython.core.interactiveshell import InteractiveShell\n",
    "InteractiveShell.ast_node_interactivity = \"all\""
   ]
  },
  {
   "cell_type": "markdown",
   "metadata": {},
   "source": [
    "Declare functions:"
   ]
  },
  {
   "cell_type": "code",
   "execution_count": 136,
   "metadata": {},
   "outputs": [],
   "source": [
    "# Perform scaling of column\n",
    "def scale(col):\n",
    "    mean_col = np.mean(col)\n",
    "    sd_col = np.std(col)\n",
    "    std = (col - mean_col) / sd_col\n",
    "    return std\n",
    "\n",
    "# Create inverse singular value matrix for singular values greater than cutoff\n",
    "def set_D(s, cutoff=0.01):\n",
    "    d = []\n",
    "    for sv in s:\n",
    "        if(sv > cutoff * s[0]): d.append(1.0/sv)\n",
    "        else: d.append(0.0)\n",
    "    return np.diag(d)\n",
    "\n",
    "# Plot residual distribution\n",
    "def plot_resid_dist(resids):\n",
    "    fig, ax = plt.subplots(nrows=1, ncols=2, figsize=(10, 4))\n",
    "    ## Plot a histogram\n",
    "    sns.distplot(resids, bins=20, ax=ax[0])\n",
    "    ax[0].set_title('Histogram of residuals')\n",
    "    ax[0].set_xlabel('Residual values')\n",
    "    ## Plot the Q-Q Normal plot\n",
    "    ss.probplot(resids, plot = ax[1])\n",
    "    ax[1].set_title('Q-Q Normal plot of residuals')\n",
    "    plt.show()\n",
    "\n",
    "# Plot residuals\n",
    "def residual_plot(df):\n",
    "    RMSE = np.std(df.resids)\n",
    "    sns.scatterplot(x='predicted', y='resids', data=df)\n",
    "    plt.axhline(0.0, color='red', linewidth=1.0)\n",
    "    plt.axhline(2.0*RMSE, color='red', linestyle='dashed', linewidth=1.0)\n",
    "    plt.axhline(-2.0*RMSE, color='red', linestyle='dashed', linewidth=1.0)\n",
    "    plt.title('PLot of residuals vs. predicted')\n",
    "    plt.xlabel('Predicted values')\n",
    "    plt.ylabel('Residuals')\n",
    "    plt.show()  "
   ]
  },
  {
   "cell_type": "markdown",
   "metadata": {},
   "source": [
    "### Load the Data Set"
   ]
  },
  {
   "cell_type": "markdown",
   "metadata": {},
   "source": [
    "We begin by loading the data set containing our dataset of patients with Parkinson's Disease:"
   ]
  },
  {
   "cell_type": "code",
   "execution_count": 58,
   "metadata": {},
   "outputs": [
    {
     "data": {
      "text/html": [
       "<div>\n",
       "<style scoped>\n",
       "    .dataframe tbody tr th:only-of-type {\n",
       "        vertical-align: middle;\n",
       "    }\n",
       "\n",
       "    .dataframe tbody tr th {\n",
       "        vertical-align: top;\n",
       "    }\n",
       "\n",
       "    .dataframe thead th {\n",
       "        text-align: right;\n",
       "    }\n",
       "</style>\n",
       "<table border=\"1\" class=\"dataframe\">\n",
       "  <thead>\n",
       "    <tr style=\"text-align: right;\">\n",
       "      <th></th>\n",
       "      <th>subject#</th>\n",
       "      <th>age</th>\n",
       "      <th>sex</th>\n",
       "      <th>test_time</th>\n",
       "      <th>motor_UPDRS</th>\n",
       "      <th>total_UPDRS</th>\n",
       "      <th>Jitter(%)</th>\n",
       "      <th>Jitter(Abs)</th>\n",
       "      <th>Jitter:RAP</th>\n",
       "      <th>Jitter:PPQ5</th>\n",
       "      <th>...</th>\n",
       "      <th>Shimmer(dB)</th>\n",
       "      <th>Shimmer:APQ3</th>\n",
       "      <th>Shimmer:APQ5</th>\n",
       "      <th>Shimmer:APQ11</th>\n",
       "      <th>Shimmer:DDA</th>\n",
       "      <th>NHR</th>\n",
       "      <th>HNR</th>\n",
       "      <th>RPDE</th>\n",
       "      <th>DFA</th>\n",
       "      <th>PPE</th>\n",
       "    </tr>\n",
       "  </thead>\n",
       "  <tbody>\n",
       "    <tr>\n",
       "      <td>0</td>\n",
       "      <td>1</td>\n",
       "      <td>72</td>\n",
       "      <td>0</td>\n",
       "      <td>5.6431</td>\n",
       "      <td>28.199</td>\n",
       "      <td>34.398</td>\n",
       "      <td>0.00662</td>\n",
       "      <td>0.000034</td>\n",
       "      <td>0.00401</td>\n",
       "      <td>0.00317</td>\n",
       "      <td>...</td>\n",
       "      <td>0.230</td>\n",
       "      <td>0.01438</td>\n",
       "      <td>0.01309</td>\n",
       "      <td>0.01662</td>\n",
       "      <td>0.04314</td>\n",
       "      <td>0.014290</td>\n",
       "      <td>21.640</td>\n",
       "      <td>0.41888</td>\n",
       "      <td>0.54842</td>\n",
       "      <td>0.16006</td>\n",
       "    </tr>\n",
       "    <tr>\n",
       "      <td>1</td>\n",
       "      <td>1</td>\n",
       "      <td>72</td>\n",
       "      <td>0</td>\n",
       "      <td>12.6660</td>\n",
       "      <td>28.447</td>\n",
       "      <td>34.894</td>\n",
       "      <td>0.00300</td>\n",
       "      <td>0.000017</td>\n",
       "      <td>0.00132</td>\n",
       "      <td>0.00150</td>\n",
       "      <td>...</td>\n",
       "      <td>0.179</td>\n",
       "      <td>0.00994</td>\n",
       "      <td>0.01072</td>\n",
       "      <td>0.01689</td>\n",
       "      <td>0.02982</td>\n",
       "      <td>0.011112</td>\n",
       "      <td>27.183</td>\n",
       "      <td>0.43493</td>\n",
       "      <td>0.56477</td>\n",
       "      <td>0.10810</td>\n",
       "    </tr>\n",
       "    <tr>\n",
       "      <td>2</td>\n",
       "      <td>1</td>\n",
       "      <td>72</td>\n",
       "      <td>0</td>\n",
       "      <td>19.6810</td>\n",
       "      <td>28.695</td>\n",
       "      <td>35.389</td>\n",
       "      <td>0.00481</td>\n",
       "      <td>0.000025</td>\n",
       "      <td>0.00205</td>\n",
       "      <td>0.00208</td>\n",
       "      <td>...</td>\n",
       "      <td>0.181</td>\n",
       "      <td>0.00734</td>\n",
       "      <td>0.00844</td>\n",
       "      <td>0.01458</td>\n",
       "      <td>0.02202</td>\n",
       "      <td>0.020220</td>\n",
       "      <td>23.047</td>\n",
       "      <td>0.46222</td>\n",
       "      <td>0.54405</td>\n",
       "      <td>0.21014</td>\n",
       "    </tr>\n",
       "    <tr>\n",
       "      <td>3</td>\n",
       "      <td>1</td>\n",
       "      <td>72</td>\n",
       "      <td>0</td>\n",
       "      <td>25.6470</td>\n",
       "      <td>28.905</td>\n",
       "      <td>35.810</td>\n",
       "      <td>0.00528</td>\n",
       "      <td>0.000027</td>\n",
       "      <td>0.00191</td>\n",
       "      <td>0.00264</td>\n",
       "      <td>...</td>\n",
       "      <td>0.327</td>\n",
       "      <td>0.01106</td>\n",
       "      <td>0.01265</td>\n",
       "      <td>0.01963</td>\n",
       "      <td>0.03317</td>\n",
       "      <td>0.027837</td>\n",
       "      <td>24.445</td>\n",
       "      <td>0.48730</td>\n",
       "      <td>0.57794</td>\n",
       "      <td>0.33277</td>\n",
       "    </tr>\n",
       "    <tr>\n",
       "      <td>4</td>\n",
       "      <td>1</td>\n",
       "      <td>72</td>\n",
       "      <td>0</td>\n",
       "      <td>33.6420</td>\n",
       "      <td>29.187</td>\n",
       "      <td>36.375</td>\n",
       "      <td>0.00335</td>\n",
       "      <td>0.000020</td>\n",
       "      <td>0.00093</td>\n",
       "      <td>0.00130</td>\n",
       "      <td>...</td>\n",
       "      <td>0.176</td>\n",
       "      <td>0.00679</td>\n",
       "      <td>0.00929</td>\n",
       "      <td>0.01819</td>\n",
       "      <td>0.02036</td>\n",
       "      <td>0.011625</td>\n",
       "      <td>26.126</td>\n",
       "      <td>0.47188</td>\n",
       "      <td>0.56122</td>\n",
       "      <td>0.19361</td>\n",
       "    </tr>\n",
       "    <tr>\n",
       "      <td>...</td>\n",
       "      <td>...</td>\n",
       "      <td>...</td>\n",
       "      <td>...</td>\n",
       "      <td>...</td>\n",
       "      <td>...</td>\n",
       "      <td>...</td>\n",
       "      <td>...</td>\n",
       "      <td>...</td>\n",
       "      <td>...</td>\n",
       "      <td>...</td>\n",
       "      <td>...</td>\n",
       "      <td>...</td>\n",
       "      <td>...</td>\n",
       "      <td>...</td>\n",
       "      <td>...</td>\n",
       "      <td>...</td>\n",
       "      <td>...</td>\n",
       "      <td>...</td>\n",
       "      <td>...</td>\n",
       "      <td>...</td>\n",
       "      <td>...</td>\n",
       "    </tr>\n",
       "    <tr>\n",
       "      <td>5870</td>\n",
       "      <td>42</td>\n",
       "      <td>61</td>\n",
       "      <td>0</td>\n",
       "      <td>142.7900</td>\n",
       "      <td>22.485</td>\n",
       "      <td>33.485</td>\n",
       "      <td>0.00406</td>\n",
       "      <td>0.000031</td>\n",
       "      <td>0.00167</td>\n",
       "      <td>0.00168</td>\n",
       "      <td>...</td>\n",
       "      <td>0.160</td>\n",
       "      <td>0.00973</td>\n",
       "      <td>0.01133</td>\n",
       "      <td>0.01549</td>\n",
       "      <td>0.02920</td>\n",
       "      <td>0.025137</td>\n",
       "      <td>22.369</td>\n",
       "      <td>0.64215</td>\n",
       "      <td>0.55314</td>\n",
       "      <td>0.21367</td>\n",
       "    </tr>\n",
       "    <tr>\n",
       "      <td>5871</td>\n",
       "      <td>42</td>\n",
       "      <td>61</td>\n",
       "      <td>0</td>\n",
       "      <td>149.8400</td>\n",
       "      <td>21.988</td>\n",
       "      <td>32.988</td>\n",
       "      <td>0.00297</td>\n",
       "      <td>0.000025</td>\n",
       "      <td>0.00119</td>\n",
       "      <td>0.00147</td>\n",
       "      <td>...</td>\n",
       "      <td>0.215</td>\n",
       "      <td>0.01052</td>\n",
       "      <td>0.01277</td>\n",
       "      <td>0.01904</td>\n",
       "      <td>0.03157</td>\n",
       "      <td>0.011927</td>\n",
       "      <td>22.886</td>\n",
       "      <td>0.52598</td>\n",
       "      <td>0.56518</td>\n",
       "      <td>0.12621</td>\n",
       "    </tr>\n",
       "    <tr>\n",
       "      <td>5872</td>\n",
       "      <td>42</td>\n",
       "      <td>61</td>\n",
       "      <td>0</td>\n",
       "      <td>156.8200</td>\n",
       "      <td>21.495</td>\n",
       "      <td>32.495</td>\n",
       "      <td>0.00349</td>\n",
       "      <td>0.000025</td>\n",
       "      <td>0.00152</td>\n",
       "      <td>0.00187</td>\n",
       "      <td>...</td>\n",
       "      <td>0.244</td>\n",
       "      <td>0.01371</td>\n",
       "      <td>0.01456</td>\n",
       "      <td>0.01877</td>\n",
       "      <td>0.04112</td>\n",
       "      <td>0.017701</td>\n",
       "      <td>25.065</td>\n",
       "      <td>0.47792</td>\n",
       "      <td>0.57888</td>\n",
       "      <td>0.14157</td>\n",
       "    </tr>\n",
       "    <tr>\n",
       "      <td>5873</td>\n",
       "      <td>42</td>\n",
       "      <td>61</td>\n",
       "      <td>0</td>\n",
       "      <td>163.7300</td>\n",
       "      <td>21.007</td>\n",
       "      <td>32.007</td>\n",
       "      <td>0.00281</td>\n",
       "      <td>0.000020</td>\n",
       "      <td>0.00128</td>\n",
       "      <td>0.00151</td>\n",
       "      <td>...</td>\n",
       "      <td>0.131</td>\n",
       "      <td>0.00693</td>\n",
       "      <td>0.00870</td>\n",
       "      <td>0.01307</td>\n",
       "      <td>0.02078</td>\n",
       "      <td>0.007984</td>\n",
       "      <td>24.422</td>\n",
       "      <td>0.56865</td>\n",
       "      <td>0.56327</td>\n",
       "      <td>0.14204</td>\n",
       "    </tr>\n",
       "    <tr>\n",
       "      <td>5874</td>\n",
       "      <td>42</td>\n",
       "      <td>61</td>\n",
       "      <td>0</td>\n",
       "      <td>170.7300</td>\n",
       "      <td>20.513</td>\n",
       "      <td>31.513</td>\n",
       "      <td>0.00282</td>\n",
       "      <td>0.000021</td>\n",
       "      <td>0.00135</td>\n",
       "      <td>0.00166</td>\n",
       "      <td>...</td>\n",
       "      <td>0.171</td>\n",
       "      <td>0.00946</td>\n",
       "      <td>0.01154</td>\n",
       "      <td>0.01470</td>\n",
       "      <td>0.02839</td>\n",
       "      <td>0.008172</td>\n",
       "      <td>23.259</td>\n",
       "      <td>0.58608</td>\n",
       "      <td>0.57077</td>\n",
       "      <td>0.15336</td>\n",
       "    </tr>\n",
       "  </tbody>\n",
       "</table>\n",
       "<p>5875 rows × 22 columns</p>\n",
       "</div>"
      ],
      "text/plain": [
       "      subject#  age  sex  test_time  motor_UPDRS  total_UPDRS  Jitter(%)  \\\n",
       "0            1   72    0     5.6431       28.199       34.398    0.00662   \n",
       "1            1   72    0    12.6660       28.447       34.894    0.00300   \n",
       "2            1   72    0    19.6810       28.695       35.389    0.00481   \n",
       "3            1   72    0    25.6470       28.905       35.810    0.00528   \n",
       "4            1   72    0    33.6420       29.187       36.375    0.00335   \n",
       "...        ...  ...  ...        ...          ...          ...        ...   \n",
       "5870        42   61    0   142.7900       22.485       33.485    0.00406   \n",
       "5871        42   61    0   149.8400       21.988       32.988    0.00297   \n",
       "5872        42   61    0   156.8200       21.495       32.495    0.00349   \n",
       "5873        42   61    0   163.7300       21.007       32.007    0.00281   \n",
       "5874        42   61    0   170.7300       20.513       31.513    0.00282   \n",
       "\n",
       "      Jitter(Abs)  Jitter:RAP  Jitter:PPQ5  ...  Shimmer(dB)  Shimmer:APQ3  \\\n",
       "0        0.000034     0.00401      0.00317  ...        0.230       0.01438   \n",
       "1        0.000017     0.00132      0.00150  ...        0.179       0.00994   \n",
       "2        0.000025     0.00205      0.00208  ...        0.181       0.00734   \n",
       "3        0.000027     0.00191      0.00264  ...        0.327       0.01106   \n",
       "4        0.000020     0.00093      0.00130  ...        0.176       0.00679   \n",
       "...           ...         ...          ...  ...          ...           ...   \n",
       "5870     0.000031     0.00167      0.00168  ...        0.160       0.00973   \n",
       "5871     0.000025     0.00119      0.00147  ...        0.215       0.01052   \n",
       "5872     0.000025     0.00152      0.00187  ...        0.244       0.01371   \n",
       "5873     0.000020     0.00128      0.00151  ...        0.131       0.00693   \n",
       "5874     0.000021     0.00135      0.00166  ...        0.171       0.00946   \n",
       "\n",
       "      Shimmer:APQ5  Shimmer:APQ11  Shimmer:DDA       NHR     HNR     RPDE  \\\n",
       "0          0.01309        0.01662      0.04314  0.014290  21.640  0.41888   \n",
       "1          0.01072        0.01689      0.02982  0.011112  27.183  0.43493   \n",
       "2          0.00844        0.01458      0.02202  0.020220  23.047  0.46222   \n",
       "3          0.01265        0.01963      0.03317  0.027837  24.445  0.48730   \n",
       "4          0.00929        0.01819      0.02036  0.011625  26.126  0.47188   \n",
       "...            ...            ...          ...       ...     ...      ...   \n",
       "5870       0.01133        0.01549      0.02920  0.025137  22.369  0.64215   \n",
       "5871       0.01277        0.01904      0.03157  0.011927  22.886  0.52598   \n",
       "5872       0.01456        0.01877      0.04112  0.017701  25.065  0.47792   \n",
       "5873       0.00870        0.01307      0.02078  0.007984  24.422  0.56865   \n",
       "5874       0.01154        0.01470      0.02839  0.008172  23.259  0.58608   \n",
       "\n",
       "          DFA      PPE  \n",
       "0     0.54842  0.16006  \n",
       "1     0.56477  0.10810  \n",
       "2     0.54405  0.21014  \n",
       "3     0.57794  0.33277  \n",
       "4     0.56122  0.19361  \n",
       "...       ...      ...  \n",
       "5870  0.55314  0.21367  \n",
       "5871  0.56518  0.12621  \n",
       "5872  0.57888  0.14157  \n",
       "5873  0.56327  0.14204  \n",
       "5874  0.57077  0.15336  \n",
       "\n",
       "[5875 rows x 22 columns]"
      ]
     },
     "execution_count": 58,
     "metadata": {},
     "output_type": "execute_result"
    }
   ],
   "source": [
    "# Internet location of the data set\n",
    "url = 'https://archive.ics.uci.edu/ml/machine-learning-databases/parkinsons/telemonitoring/parkinsons_updrs.data'\n",
    "\n",
    "# Download the data into a dataframe object\n",
    "parkinsons_data = pd.read_csv(url)\n",
    "\n",
    "parkinsons_data"
   ]
  },
  {
   "cell_type": "markdown",
   "metadata": {},
   "source": [
    "### Create the Feature Matrix"
   ]
  },
  {
   "cell_type": "markdown",
   "metadata": {},
   "source": [
    "Create feature matrix for the features to examine, treating the *sex* column as *is_female*:"
   ]
  },
  {
   "cell_type": "code",
   "execution_count": 59,
   "metadata": {
    "scrolled": false
   },
   "outputs": [
    {
     "data": {
      "text/html": [
       "<div>\n",
       "<style scoped>\n",
       "    .dataframe tbody tr th:only-of-type {\n",
       "        vertical-align: middle;\n",
       "    }\n",
       "\n",
       "    .dataframe tbody tr th {\n",
       "        vertical-align: top;\n",
       "    }\n",
       "\n",
       "    .dataframe thead th {\n",
       "        text-align: right;\n",
       "    }\n",
       "</style>\n",
       "<table border=\"1\" class=\"dataframe\">\n",
       "  <thead>\n",
       "    <tr style=\"text-align: right;\">\n",
       "      <th></th>\n",
       "      <th>age</th>\n",
       "      <th>sex</th>\n",
       "      <th>motor_UPDRS</th>\n",
       "      <th>total_UPDRS</th>\n",
       "      <th>Jitter(%)</th>\n",
       "      <th>Jitter(Abs)</th>\n",
       "      <th>Jitter:RAP</th>\n",
       "      <th>Jitter:PPQ5</th>\n",
       "      <th>Jitter:DDP</th>\n",
       "      <th>Shimmer</th>\n",
       "      <th>Shimmer(dB)</th>\n",
       "      <th>Shimmer:APQ3</th>\n",
       "      <th>Shimmer:APQ5</th>\n",
       "      <th>Shimmer:APQ11</th>\n",
       "      <th>Shimmer:DDA</th>\n",
       "      <th>NHR</th>\n",
       "      <th>HNR</th>\n",
       "      <th>RPDE</th>\n",
       "      <th>DFA</th>\n",
       "      <th>PPE</th>\n",
       "    </tr>\n",
       "  </thead>\n",
       "  <tbody>\n",
       "    <tr>\n",
       "      <td>0</td>\n",
       "      <td>72</td>\n",
       "      <td>0</td>\n",
       "      <td>28.199</td>\n",
       "      <td>34.398</td>\n",
       "      <td>0.00662</td>\n",
       "      <td>0.000034</td>\n",
       "      <td>0.00401</td>\n",
       "      <td>0.00317</td>\n",
       "      <td>0.01204</td>\n",
       "      <td>0.02565</td>\n",
       "      <td>0.230</td>\n",
       "      <td>0.01438</td>\n",
       "      <td>0.01309</td>\n",
       "      <td>0.01662</td>\n",
       "      <td>0.04314</td>\n",
       "      <td>0.014290</td>\n",
       "      <td>21.640</td>\n",
       "      <td>0.41888</td>\n",
       "      <td>0.54842</td>\n",
       "      <td>0.16006</td>\n",
       "    </tr>\n",
       "    <tr>\n",
       "      <td>1</td>\n",
       "      <td>72</td>\n",
       "      <td>0</td>\n",
       "      <td>28.447</td>\n",
       "      <td>34.894</td>\n",
       "      <td>0.00300</td>\n",
       "      <td>0.000017</td>\n",
       "      <td>0.00132</td>\n",
       "      <td>0.00150</td>\n",
       "      <td>0.00395</td>\n",
       "      <td>0.02024</td>\n",
       "      <td>0.179</td>\n",
       "      <td>0.00994</td>\n",
       "      <td>0.01072</td>\n",
       "      <td>0.01689</td>\n",
       "      <td>0.02982</td>\n",
       "      <td>0.011112</td>\n",
       "      <td>27.183</td>\n",
       "      <td>0.43493</td>\n",
       "      <td>0.56477</td>\n",
       "      <td>0.10810</td>\n",
       "    </tr>\n",
       "    <tr>\n",
       "      <td>2</td>\n",
       "      <td>72</td>\n",
       "      <td>0</td>\n",
       "      <td>28.695</td>\n",
       "      <td>35.389</td>\n",
       "      <td>0.00481</td>\n",
       "      <td>0.000025</td>\n",
       "      <td>0.00205</td>\n",
       "      <td>0.00208</td>\n",
       "      <td>0.00616</td>\n",
       "      <td>0.01675</td>\n",
       "      <td>0.181</td>\n",
       "      <td>0.00734</td>\n",
       "      <td>0.00844</td>\n",
       "      <td>0.01458</td>\n",
       "      <td>0.02202</td>\n",
       "      <td>0.020220</td>\n",
       "      <td>23.047</td>\n",
       "      <td>0.46222</td>\n",
       "      <td>0.54405</td>\n",
       "      <td>0.21014</td>\n",
       "    </tr>\n",
       "    <tr>\n",
       "      <td>3</td>\n",
       "      <td>72</td>\n",
       "      <td>0</td>\n",
       "      <td>28.905</td>\n",
       "      <td>35.810</td>\n",
       "      <td>0.00528</td>\n",
       "      <td>0.000027</td>\n",
       "      <td>0.00191</td>\n",
       "      <td>0.00264</td>\n",
       "      <td>0.00573</td>\n",
       "      <td>0.02309</td>\n",
       "      <td>0.327</td>\n",
       "      <td>0.01106</td>\n",
       "      <td>0.01265</td>\n",
       "      <td>0.01963</td>\n",
       "      <td>0.03317</td>\n",
       "      <td>0.027837</td>\n",
       "      <td>24.445</td>\n",
       "      <td>0.48730</td>\n",
       "      <td>0.57794</td>\n",
       "      <td>0.33277</td>\n",
       "    </tr>\n",
       "    <tr>\n",
       "      <td>4</td>\n",
       "      <td>72</td>\n",
       "      <td>0</td>\n",
       "      <td>29.187</td>\n",
       "      <td>36.375</td>\n",
       "      <td>0.00335</td>\n",
       "      <td>0.000020</td>\n",
       "      <td>0.00093</td>\n",
       "      <td>0.00130</td>\n",
       "      <td>0.00278</td>\n",
       "      <td>0.01703</td>\n",
       "      <td>0.176</td>\n",
       "      <td>0.00679</td>\n",
       "      <td>0.00929</td>\n",
       "      <td>0.01819</td>\n",
       "      <td>0.02036</td>\n",
       "      <td>0.011625</td>\n",
       "      <td>26.126</td>\n",
       "      <td>0.47188</td>\n",
       "      <td>0.56122</td>\n",
       "      <td>0.19361</td>\n",
       "    </tr>\n",
       "    <tr>\n",
       "      <td>...</td>\n",
       "      <td>...</td>\n",
       "      <td>...</td>\n",
       "      <td>...</td>\n",
       "      <td>...</td>\n",
       "      <td>...</td>\n",
       "      <td>...</td>\n",
       "      <td>...</td>\n",
       "      <td>...</td>\n",
       "      <td>...</td>\n",
       "      <td>...</td>\n",
       "      <td>...</td>\n",
       "      <td>...</td>\n",
       "      <td>...</td>\n",
       "      <td>...</td>\n",
       "      <td>...</td>\n",
       "      <td>...</td>\n",
       "      <td>...</td>\n",
       "      <td>...</td>\n",
       "      <td>...</td>\n",
       "      <td>...</td>\n",
       "    </tr>\n",
       "    <tr>\n",
       "      <td>5870</td>\n",
       "      <td>61</td>\n",
       "      <td>0</td>\n",
       "      <td>22.485</td>\n",
       "      <td>33.485</td>\n",
       "      <td>0.00406</td>\n",
       "      <td>0.000031</td>\n",
       "      <td>0.00167</td>\n",
       "      <td>0.00168</td>\n",
       "      <td>0.00500</td>\n",
       "      <td>0.01896</td>\n",
       "      <td>0.160</td>\n",
       "      <td>0.00973</td>\n",
       "      <td>0.01133</td>\n",
       "      <td>0.01549</td>\n",
       "      <td>0.02920</td>\n",
       "      <td>0.025137</td>\n",
       "      <td>22.369</td>\n",
       "      <td>0.64215</td>\n",
       "      <td>0.55314</td>\n",
       "      <td>0.21367</td>\n",
       "    </tr>\n",
       "    <tr>\n",
       "      <td>5871</td>\n",
       "      <td>61</td>\n",
       "      <td>0</td>\n",
       "      <td>21.988</td>\n",
       "      <td>32.988</td>\n",
       "      <td>0.00297</td>\n",
       "      <td>0.000025</td>\n",
       "      <td>0.00119</td>\n",
       "      <td>0.00147</td>\n",
       "      <td>0.00358</td>\n",
       "      <td>0.02315</td>\n",
       "      <td>0.215</td>\n",
       "      <td>0.01052</td>\n",
       "      <td>0.01277</td>\n",
       "      <td>0.01904</td>\n",
       "      <td>0.03157</td>\n",
       "      <td>0.011927</td>\n",
       "      <td>22.886</td>\n",
       "      <td>0.52598</td>\n",
       "      <td>0.56518</td>\n",
       "      <td>0.12621</td>\n",
       "    </tr>\n",
       "    <tr>\n",
       "      <td>5872</td>\n",
       "      <td>61</td>\n",
       "      <td>0</td>\n",
       "      <td>21.495</td>\n",
       "      <td>32.495</td>\n",
       "      <td>0.00349</td>\n",
       "      <td>0.000025</td>\n",
       "      <td>0.00152</td>\n",
       "      <td>0.00187</td>\n",
       "      <td>0.00456</td>\n",
       "      <td>0.02499</td>\n",
       "      <td>0.244</td>\n",
       "      <td>0.01371</td>\n",
       "      <td>0.01456</td>\n",
       "      <td>0.01877</td>\n",
       "      <td>0.04112</td>\n",
       "      <td>0.017701</td>\n",
       "      <td>25.065</td>\n",
       "      <td>0.47792</td>\n",
       "      <td>0.57888</td>\n",
       "      <td>0.14157</td>\n",
       "    </tr>\n",
       "    <tr>\n",
       "      <td>5873</td>\n",
       "      <td>61</td>\n",
       "      <td>0</td>\n",
       "      <td>21.007</td>\n",
       "      <td>32.007</td>\n",
       "      <td>0.00281</td>\n",
       "      <td>0.000020</td>\n",
       "      <td>0.00128</td>\n",
       "      <td>0.00151</td>\n",
       "      <td>0.00383</td>\n",
       "      <td>0.01484</td>\n",
       "      <td>0.131</td>\n",
       "      <td>0.00693</td>\n",
       "      <td>0.00870</td>\n",
       "      <td>0.01307</td>\n",
       "      <td>0.02078</td>\n",
       "      <td>0.007984</td>\n",
       "      <td>24.422</td>\n",
       "      <td>0.56865</td>\n",
       "      <td>0.56327</td>\n",
       "      <td>0.14204</td>\n",
       "    </tr>\n",
       "    <tr>\n",
       "      <td>5874</td>\n",
       "      <td>61</td>\n",
       "      <td>0</td>\n",
       "      <td>20.513</td>\n",
       "      <td>31.513</td>\n",
       "      <td>0.00282</td>\n",
       "      <td>0.000021</td>\n",
       "      <td>0.00135</td>\n",
       "      <td>0.00166</td>\n",
       "      <td>0.00406</td>\n",
       "      <td>0.01907</td>\n",
       "      <td>0.171</td>\n",
       "      <td>0.00946</td>\n",
       "      <td>0.01154</td>\n",
       "      <td>0.01470</td>\n",
       "      <td>0.02839</td>\n",
       "      <td>0.008172</td>\n",
       "      <td>23.259</td>\n",
       "      <td>0.58608</td>\n",
       "      <td>0.57077</td>\n",
       "      <td>0.15336</td>\n",
       "    </tr>\n",
       "  </tbody>\n",
       "</table>\n",
       "<p>5875 rows × 20 columns</p>\n",
       "</div>"
      ],
      "text/plain": [
       "      age  sex  motor_UPDRS  total_UPDRS  Jitter(%)  Jitter(Abs)  Jitter:RAP  \\\n",
       "0      72    0       28.199       34.398    0.00662     0.000034     0.00401   \n",
       "1      72    0       28.447       34.894    0.00300     0.000017     0.00132   \n",
       "2      72    0       28.695       35.389    0.00481     0.000025     0.00205   \n",
       "3      72    0       28.905       35.810    0.00528     0.000027     0.00191   \n",
       "4      72    0       29.187       36.375    0.00335     0.000020     0.00093   \n",
       "...   ...  ...          ...          ...        ...          ...         ...   \n",
       "5870   61    0       22.485       33.485    0.00406     0.000031     0.00167   \n",
       "5871   61    0       21.988       32.988    0.00297     0.000025     0.00119   \n",
       "5872   61    0       21.495       32.495    0.00349     0.000025     0.00152   \n",
       "5873   61    0       21.007       32.007    0.00281     0.000020     0.00128   \n",
       "5874   61    0       20.513       31.513    0.00282     0.000021     0.00135   \n",
       "\n",
       "      Jitter:PPQ5  Jitter:DDP  Shimmer  Shimmer(dB)  Shimmer:APQ3  \\\n",
       "0         0.00317     0.01204  0.02565        0.230       0.01438   \n",
       "1         0.00150     0.00395  0.02024        0.179       0.00994   \n",
       "2         0.00208     0.00616  0.01675        0.181       0.00734   \n",
       "3         0.00264     0.00573  0.02309        0.327       0.01106   \n",
       "4         0.00130     0.00278  0.01703        0.176       0.00679   \n",
       "...           ...         ...      ...          ...           ...   \n",
       "5870      0.00168     0.00500  0.01896        0.160       0.00973   \n",
       "5871      0.00147     0.00358  0.02315        0.215       0.01052   \n",
       "5872      0.00187     0.00456  0.02499        0.244       0.01371   \n",
       "5873      0.00151     0.00383  0.01484        0.131       0.00693   \n",
       "5874      0.00166     0.00406  0.01907        0.171       0.00946   \n",
       "\n",
       "      Shimmer:APQ5  Shimmer:APQ11  Shimmer:DDA       NHR     HNR     RPDE  \\\n",
       "0          0.01309        0.01662      0.04314  0.014290  21.640  0.41888   \n",
       "1          0.01072        0.01689      0.02982  0.011112  27.183  0.43493   \n",
       "2          0.00844        0.01458      0.02202  0.020220  23.047  0.46222   \n",
       "3          0.01265        0.01963      0.03317  0.027837  24.445  0.48730   \n",
       "4          0.00929        0.01819      0.02036  0.011625  26.126  0.47188   \n",
       "...            ...            ...          ...       ...     ...      ...   \n",
       "5870       0.01133        0.01549      0.02920  0.025137  22.369  0.64215   \n",
       "5871       0.01277        0.01904      0.03157  0.011927  22.886  0.52598   \n",
       "5872       0.01456        0.01877      0.04112  0.017701  25.065  0.47792   \n",
       "5873       0.00870        0.01307      0.02078  0.007984  24.422  0.56865   \n",
       "5874       0.01154        0.01470      0.02839  0.008172  23.259  0.58608   \n",
       "\n",
       "          DFA      PPE  \n",
       "0     0.54842  0.16006  \n",
       "1     0.56477  0.10810  \n",
       "2     0.54405  0.21014  \n",
       "3     0.57794  0.33277  \n",
       "4     0.56122  0.19361  \n",
       "...       ...      ...  \n",
       "5870  0.55314  0.21367  \n",
       "5871  0.56518  0.12621  \n",
       "5872  0.57888  0.14157  \n",
       "5873  0.56327  0.14204  \n",
       "5874  0.57077  0.15336  \n",
       "\n",
       "[5875 rows x 20 columns]"
      ]
     },
     "execution_count": 59,
     "metadata": {},
     "output_type": "execute_result"
    }
   ],
   "source": [
    "# Extract features\n",
    "select_cols = ['age','sex','motor_UPDRS','total_UPDRS',\n",
    "               'Jitter(%)','Jitter(Abs)','Jitter:RAP','Jitter:PPQ5','Jitter:DDP',\n",
    "               'Shimmer','Shimmer(dB)','Shimmer:APQ3','Shimmer:APQ5','Shimmer:APQ11','Shimmer:DDA',\n",
    "               'NHR','HNR','RPDE','DFA','PPE']\n",
    "\n",
    "# Populate feature array, treat 'sex' column as 'is_female'\n",
    "X = parkinsons_data.loc[:,select_cols]\n",
    "\n",
    "# Display raw features\n",
    "X"
   ]
  },
  {
   "cell_type": "markdown",
   "metadata": {},
   "source": [
    "The result is the raw feature matrix with unscaled values."
   ]
  },
  {
   "cell_type": "markdown",
   "metadata": {},
   "source": [
    "### Scale the Feature Matrix"
   ]
  },
  {
   "cell_type": "markdown",
   "metadata": {},
   "source": [
    "First we scale the features to compare them by a common reference point:"
   ]
  },
  {
   "cell_type": "code",
   "execution_count": 125,
   "metadata": {},
   "outputs": [
    {
     "data": {
      "text/html": [
       "<div>\n",
       "<style scoped>\n",
       "    .dataframe tbody tr th:only-of-type {\n",
       "        vertical-align: middle;\n",
       "    }\n",
       "\n",
       "    .dataframe tbody tr th {\n",
       "        vertical-align: top;\n",
       "    }\n",
       "\n",
       "    .dataframe thead th {\n",
       "        text-align: right;\n",
       "    }\n",
       "</style>\n",
       "<table border=\"1\" class=\"dataframe\">\n",
       "  <thead>\n",
       "    <tr style=\"text-align: right;\">\n",
       "      <th></th>\n",
       "      <th>is_female</th>\n",
       "      <th>age</th>\n",
       "      <th>Jitter(%)</th>\n",
       "      <th>Jitter(Abs)</th>\n",
       "      <th>Jitter:RAP</th>\n",
       "      <th>Jitter:PPQ5</th>\n",
       "      <th>Jitter:DDP</th>\n",
       "      <th>Shimmer</th>\n",
       "      <th>Shimmer(dB)</th>\n",
       "      <th>Shimmer:APQ3</th>\n",
       "      <th>Shimmer:APQ5</th>\n",
       "      <th>Shimmer:APQ11</th>\n",
       "      <th>Shimmer:DDA</th>\n",
       "      <th>NHR</th>\n",
       "      <th>HNR</th>\n",
       "      <th>RPDE</th>\n",
       "      <th>DFA</th>\n",
       "      <th>PPE</th>\n",
       "    </tr>\n",
       "  </thead>\n",
       "  <tbody>\n",
       "    <tr>\n",
       "      <td>0</td>\n",
       "      <td>0</td>\n",
       "      <td>0.815695</td>\n",
       "      <td>0.082905</td>\n",
       "      <td>-0.284242</td>\n",
       "      <td>0.327453</td>\n",
       "      <td>-0.028637</td>\n",
       "      <td>0.328505</td>\n",
       "      <td>-0.324594</td>\n",
       "      <td>-0.351642</td>\n",
       "      <td>-0.209709</td>\n",
       "      <td>-0.423356</td>\n",
       "      <td>-0.543466</td>\n",
       "      <td>-0.209704</td>\n",
       "      <td>-0.298721</td>\n",
       "      <td>-0.009205</td>\n",
       "      <td>-1.214066</td>\n",
       "      <td>-1.478500</td>\n",
       "      <td>-0.650658</td>\n",
       "    </tr>\n",
       "    <tr>\n",
       "      <td>1</td>\n",
       "      <td>0</td>\n",
       "      <td>0.815695</td>\n",
       "      <td>-0.560793</td>\n",
       "      <td>-0.756723</td>\n",
       "      <td>-0.533746</td>\n",
       "      <td>-0.476212</td>\n",
       "      <td>-0.534825</td>\n",
       "      <td>-0.534016</td>\n",
       "      <td>-0.573156</td>\n",
       "      <td>-0.545158</td>\n",
       "      <td>-0.565592</td>\n",
       "      <td>-0.529955</td>\n",
       "      <td>-0.545153</td>\n",
       "      <td>-0.351965</td>\n",
       "      <td>1.282650</td>\n",
       "      <td>-1.055119</td>\n",
       "      <td>-1.247880</td>\n",
       "      <td>-1.218585</td>\n",
       "    </tr>\n",
       "    <tr>\n",
       "      <td>2</td>\n",
       "      <td>0</td>\n",
       "      <td>0.815695</td>\n",
       "      <td>-0.238944</td>\n",
       "      <td>-0.539382</td>\n",
       "      <td>-0.300038</td>\n",
       "      <td>-0.320767</td>\n",
       "      <td>-0.298983</td>\n",
       "      <td>-0.669115</td>\n",
       "      <td>-0.564469</td>\n",
       "      <td>-0.741592</td>\n",
       "      <td>-0.702426</td>\n",
       "      <td>-0.645545</td>\n",
       "      <td>-0.741587</td>\n",
       "      <td>-0.199370</td>\n",
       "      <td>0.318711</td>\n",
       "      <td>-0.784860</td>\n",
       "      <td>-1.540139</td>\n",
       "      <td>-0.103280</td>\n",
       "    </tr>\n",
       "    <tr>\n",
       "      <td>3</td>\n",
       "      <td>0</td>\n",
       "      <td>0.815695</td>\n",
       "      <td>-0.155370</td>\n",
       "      <td>-0.485186</td>\n",
       "      <td>-0.344859</td>\n",
       "      <td>-0.170682</td>\n",
       "      <td>-0.344871</td>\n",
       "      <td>-0.423692</td>\n",
       "      <td>0.069668</td>\n",
       "      <td>-0.460540</td>\n",
       "      <td>-0.449763</td>\n",
       "      <td>-0.392849</td>\n",
       "      <td>-0.460787</td>\n",
       "      <td>-0.071754</td>\n",
       "      <td>0.644530</td>\n",
       "      <td>-0.536487</td>\n",
       "      <td>-1.062115</td>\n",
       "      <td>1.237075</td>\n",
       "    </tr>\n",
       "    <tr>\n",
       "      <td>4</td>\n",
       "      <td>0</td>\n",
       "      <td>0.815695</td>\n",
       "      <td>-0.498557</td>\n",
       "      <td>-0.663894</td>\n",
       "      <td>-0.658604</td>\n",
       "      <td>-0.529814</td>\n",
       "      <td>-0.659682</td>\n",
       "      <td>-0.658276</td>\n",
       "      <td>-0.586186</td>\n",
       "      <td>-0.783145</td>\n",
       "      <td>-0.651413</td>\n",
       "      <td>-0.464905</td>\n",
       "      <td>-0.783392</td>\n",
       "      <td>-0.343370</td>\n",
       "      <td>1.036305</td>\n",
       "      <td>-0.689195</td>\n",
       "      <td>-1.297953</td>\n",
       "      <td>-0.283954</td>\n",
       "    </tr>\n",
       "    <tr>\n",
       "      <td>...</td>\n",
       "      <td>...</td>\n",
       "      <td>...</td>\n",
       "      <td>...</td>\n",
       "      <td>...</td>\n",
       "      <td>...</td>\n",
       "      <td>...</td>\n",
       "      <td>...</td>\n",
       "      <td>...</td>\n",
       "      <td>...</td>\n",
       "      <td>...</td>\n",
       "      <td>...</td>\n",
       "      <td>...</td>\n",
       "      <td>...</td>\n",
       "      <td>...</td>\n",
       "      <td>...</td>\n",
       "      <td>...</td>\n",
       "      <td>...</td>\n",
       "      <td>...</td>\n",
       "    </tr>\n",
       "    <tr>\n",
       "      <td>5870</td>\n",
       "      <td>0</td>\n",
       "      <td>-0.431361</td>\n",
       "      <td>-0.372307</td>\n",
       "      <td>-0.358449</td>\n",
       "      <td>-0.421694</td>\n",
       "      <td>-0.427970</td>\n",
       "      <td>-0.422773</td>\n",
       "      <td>-0.583565</td>\n",
       "      <td>-0.655681</td>\n",
       "      <td>-0.561024</td>\n",
       "      <td>-0.528983</td>\n",
       "      <td>-0.600010</td>\n",
       "      <td>-0.560767</td>\n",
       "      <td>-0.116990</td>\n",
       "      <td>0.160696</td>\n",
       "      <td>0.997028</td>\n",
       "      <td>-1.411923</td>\n",
       "      <td>-0.064697</td>\n",
       "    </tr>\n",
       "    <tr>\n",
       "      <td>5871</td>\n",
       "      <td>0</td>\n",
       "      <td>-0.431361</td>\n",
       "      <td>-0.566128</td>\n",
       "      <td>-0.537436</td>\n",
       "      <td>-0.575365</td>\n",
       "      <td>-0.484252</td>\n",
       "      <td>-0.574309</td>\n",
       "      <td>-0.421369</td>\n",
       "      <td>-0.416793</td>\n",
       "      <td>-0.501338</td>\n",
       "      <td>-0.442561</td>\n",
       "      <td>-0.422372</td>\n",
       "      <td>-0.501081</td>\n",
       "      <td>-0.338311</td>\n",
       "      <td>0.281189</td>\n",
       "      <td>-0.153430</td>\n",
       "      <td>-1.242097</td>\n",
       "      <td>-1.020641</td>\n",
       "    </tr>\n",
       "    <tr>\n",
       "      <td>5872</td>\n",
       "      <td>0</td>\n",
       "      <td>-0.431361</td>\n",
       "      <td>-0.473663</td>\n",
       "      <td>-0.537158</td>\n",
       "      <td>-0.469717</td>\n",
       "      <td>-0.377049</td>\n",
       "      <td>-0.469728</td>\n",
       "      <td>-0.350143</td>\n",
       "      <td>-0.290834</td>\n",
       "      <td>-0.260328</td>\n",
       "      <td>-0.335135</td>\n",
       "      <td>-0.435882</td>\n",
       "      <td>-0.260576</td>\n",
       "      <td>-0.241573</td>\n",
       "      <td>0.789028</td>\n",
       "      <td>-0.629379</td>\n",
       "      <td>-1.048856</td>\n",
       "      <td>-0.852755</td>\n",
       "    </tr>\n",
       "    <tr>\n",
       "      <td>5873</td>\n",
       "      <td>0</td>\n",
       "      <td>-0.431361</td>\n",
       "      <td>-0.594579</td>\n",
       "      <td>-0.658336</td>\n",
       "      <td>-0.546552</td>\n",
       "      <td>-0.473532</td>\n",
       "      <td>-0.547630</td>\n",
       "      <td>-0.743051</td>\n",
       "      <td>-0.781639</td>\n",
       "      <td>-0.772568</td>\n",
       "      <td>-0.686822</td>\n",
       "      <td>-0.721104</td>\n",
       "      <td>-0.772815</td>\n",
       "      <td>-0.404372</td>\n",
       "      <td>0.639170</td>\n",
       "      <td>0.269141</td>\n",
       "      <td>-1.269038</td>\n",
       "      <td>-0.847618</td>\n",
       "    </tr>\n",
       "    <tr>\n",
       "      <td>5874</td>\n",
       "      <td>0</td>\n",
       "      <td>-0.431361</td>\n",
       "      <td>-0.592801</td>\n",
       "      <td>-0.637213</td>\n",
       "      <td>-0.524142</td>\n",
       "      <td>-0.433331</td>\n",
       "      <td>-0.523086</td>\n",
       "      <td>-0.579307</td>\n",
       "      <td>-0.607903</td>\n",
       "      <td>-0.581423</td>\n",
       "      <td>-0.516380</td>\n",
       "      <td>-0.639540</td>\n",
       "      <td>-0.581166</td>\n",
       "      <td>-0.401222</td>\n",
       "      <td>0.368120</td>\n",
       "      <td>0.441754</td>\n",
       "      <td>-1.163249</td>\n",
       "      <td>-0.723890</td>\n",
       "    </tr>\n",
       "  </tbody>\n",
       "</table>\n",
       "<p>5875 rows × 18 columns</p>\n",
       "</div>"
      ],
      "text/plain": [
       "      is_female       age  Jitter(%)  Jitter(Abs)  Jitter:RAP  Jitter:PPQ5  \\\n",
       "0             0  0.815695   0.082905    -0.284242    0.327453    -0.028637   \n",
       "1             0  0.815695  -0.560793    -0.756723   -0.533746    -0.476212   \n",
       "2             0  0.815695  -0.238944    -0.539382   -0.300038    -0.320767   \n",
       "3             0  0.815695  -0.155370    -0.485186   -0.344859    -0.170682   \n",
       "4             0  0.815695  -0.498557    -0.663894   -0.658604    -0.529814   \n",
       "...         ...       ...        ...          ...         ...          ...   \n",
       "5870          0 -0.431361  -0.372307    -0.358449   -0.421694    -0.427970   \n",
       "5871          0 -0.431361  -0.566128    -0.537436   -0.575365    -0.484252   \n",
       "5872          0 -0.431361  -0.473663    -0.537158   -0.469717    -0.377049   \n",
       "5873          0 -0.431361  -0.594579    -0.658336   -0.546552    -0.473532   \n",
       "5874          0 -0.431361  -0.592801    -0.637213   -0.524142    -0.433331   \n",
       "\n",
       "      Jitter:DDP   Shimmer  Shimmer(dB)  Shimmer:APQ3  Shimmer:APQ5  \\\n",
       "0       0.328505 -0.324594    -0.351642     -0.209709     -0.423356   \n",
       "1      -0.534825 -0.534016    -0.573156     -0.545158     -0.565592   \n",
       "2      -0.298983 -0.669115    -0.564469     -0.741592     -0.702426   \n",
       "3      -0.344871 -0.423692     0.069668     -0.460540     -0.449763   \n",
       "4      -0.659682 -0.658276    -0.586186     -0.783145     -0.651413   \n",
       "...          ...       ...          ...           ...           ...   \n",
       "5870   -0.422773 -0.583565    -0.655681     -0.561024     -0.528983   \n",
       "5871   -0.574309 -0.421369    -0.416793     -0.501338     -0.442561   \n",
       "5872   -0.469728 -0.350143    -0.290834     -0.260328     -0.335135   \n",
       "5873   -0.547630 -0.743051    -0.781639     -0.772568     -0.686822   \n",
       "5874   -0.523086 -0.579307    -0.607903     -0.581423     -0.516380   \n",
       "\n",
       "      Shimmer:APQ11  Shimmer:DDA       NHR       HNR      RPDE       DFA  \\\n",
       "0         -0.543466    -0.209704 -0.298721 -0.009205 -1.214066 -1.478500   \n",
       "1         -0.529955    -0.545153 -0.351965  1.282650 -1.055119 -1.247880   \n",
       "2         -0.645545    -0.741587 -0.199370  0.318711 -0.784860 -1.540139   \n",
       "3         -0.392849    -0.460787 -0.071754  0.644530 -0.536487 -1.062115   \n",
       "4         -0.464905    -0.783392 -0.343370  1.036305 -0.689195 -1.297953   \n",
       "...             ...          ...       ...       ...       ...       ...   \n",
       "5870      -0.600010    -0.560767 -0.116990  0.160696  0.997028 -1.411923   \n",
       "5871      -0.422372    -0.501081 -0.338311  0.281189 -0.153430 -1.242097   \n",
       "5872      -0.435882    -0.260576 -0.241573  0.789028 -0.629379 -1.048856   \n",
       "5873      -0.721104    -0.772815 -0.404372  0.639170  0.269141 -1.269038   \n",
       "5874      -0.639540    -0.581166 -0.401222  0.368120  0.441754 -1.163249   \n",
       "\n",
       "           PPE  \n",
       "0    -0.650658  \n",
       "1    -1.218585  \n",
       "2    -0.103280  \n",
       "3     1.237075  \n",
       "4    -0.283954  \n",
       "...        ...  \n",
       "5870 -0.064697  \n",
       "5871 -1.020641  \n",
       "5872 -0.852755  \n",
       "5873 -0.847618  \n",
       "5874 -0.723890  \n",
       "\n",
       "[5875 rows x 18 columns]"
      ]
     },
     "execution_count": 125,
     "metadata": {},
     "output_type": "execute_result"
    }
   ],
   "source": [
    "# Columns that we scale\n",
    "scale_cols = ['age',\n",
    "              'Jitter(%)','Jitter(Abs)','Jitter:RAP','Jitter:PPQ5','Jitter:DDP',\n",
    "              'Shimmer','Shimmer(dB)','Shimmer:APQ3','Shimmer:APQ5','Shimmer:APQ11','Shimmer:DDA',\n",
    "              'NHR','HNR','RPDE','DFA','PPE']\n",
    "\n",
    "# Create new scaled DataFrame\n",
    "scaled_data = pd.DataFrame()\n",
    "\n",
    "# Categorical feature(s)\n",
    "scaled_data.loc[:,'is_female'] = parkinsons_data.loc[:,'sex']\n",
    "\n",
    "# Scale the feature columns for accurate comparison\n",
    "for col in scale_cols:\n",
    "    scaled_data.loc[:,col] = scale(parkinsons_data.loc[:,col])\n",
    "\n",
    "# Display scaled data\n",
    "scaled_data"
   ]
  },
  {
   "cell_type": "markdown",
   "metadata": {},
   "source": [
    "### Singular Value Decomposition Linear Regression"
   ]
  },
  {
   "cell_type": "markdown",
   "metadata": {},
   "source": [
    "Compute an inverse of the model matrix and use this to estimate the model parameters:"
   ]
  },
  {
   "cell_type": "code",
   "execution_count": 126,
   "metadata": {},
   "outputs": [
    {
     "name": "stdout",
     "output_type": "stream",
     "text": [
      "\n",
      "The singular values from the SVD are \n",
      "[257.2916268  100.11802605  86.48832918  76.80625443  65.61808088  43.84933399  41.7523206   34.37323664  31.45449112  29.82598126  24.18161643  15.65593228  10.90350177   9.04793163   7.13491274   5.11877251   0.0471103    0.01106652]:\n"
     ]
    }
   ],
   "source": [
    "# Compute the inverse of the model matrix\n",
    "U, s, V = np.linalg.svd(scaled_data, full_matrices=False)\n",
    "\n",
    "# Display singular values\n",
    "print('\\nThe singular values from the SVD are \\n{}:'.format(s))"
   ]
  },
  {
   "cell_type": "markdown",
   "metadata": {},
   "source": [
    "Note that there are some very small singular values, which we plot for a better understanding:"
   ]
  },
  {
   "cell_type": "code",
   "execution_count": 127,
   "metadata": {},
   "outputs": [
    {
     "data": {
      "text/plain": [
       "[<matplotlib.lines.Line2D at 0x255eb0e08>]"
      ]
     },
     "execution_count": 127,
     "metadata": {},
     "output_type": "execute_result"
    },
    {
     "data": {
      "text/plain": [
       "Text(0.5, 1.0, 'Singular values vs singular value number')"
      ]
     },
     "execution_count": 127,
     "metadata": {},
     "output_type": "execute_result"
    },
    {
     "data": {
      "text/plain": [
       "Text(0, 0.5, 'Singular value')"
      ]
     },
     "execution_count": 127,
     "metadata": {},
     "output_type": "execute_result"
    },
    {
     "data": {
      "text/plain": [
       "Text(0.5, 0, 'Singular value number')"
      ]
     },
     "execution_count": 127,
     "metadata": {},
     "output_type": "execute_result"
    },
    {
     "data": {
      "image/png": "[encoded data removed]",
      "text/plain": [
       "<Figure size 432x288 with 1 Axes>"
      ]
     },
     "metadata": {
      "needs_background": "light"
     },
     "output_type": "display_data"
    }
   ],
   "source": [
    "plt.plot(s)\n",
    "plt.title('Singular values vs singular value number')\n",
    "plt.ylabel('Singular value')\n",
    "plt.xlabel('Singular value number')"
   ]
  },
  {
   "cell_type": "markdown",
   "metadata": {},
   "source": [
    "The last two values are practically zero, while six other values below 17.0 are quite small relative to the first value. We will set the inverse of values below a cutoff of 0.5 to zero and create the inverse singular value matrix:"
   ]
  },
  {
   "cell_type": "code",
   "execution_count": 128,
   "metadata": {},
   "outputs": [
    {
     "data": {
      "text/plain": [
       "array([[0.004, 0.   , 0.   , 0.   , 0.   , 0.   , 0.   , 0.   , 0.   , 0.   , 0.   , 0.   , 0.   , 0.   , 0.   , 0.   , 0.   , 0.   ],\n",
       "       [0.   , 0.01 , 0.   , 0.   , 0.   , 0.   , 0.   , 0.   , 0.   , 0.   , 0.   , 0.   , 0.   , 0.   , 0.   , 0.   , 0.   , 0.   ],\n",
       "       [0.   , 0.   , 0.012, 0.   , 0.   , 0.   , 0.   , 0.   , 0.   , 0.   , 0.   , 0.   , 0.   , 0.   , 0.   , 0.   , 0.   , 0.   ],\n",
       "       [0.   , 0.   , 0.   , 0.013, 0.   , 0.   , 0.   , 0.   , 0.   , 0.   , 0.   , 0.   , 0.   , 0.   , 0.   , 0.   , 0.   , 0.   ],\n",
       "       [0.   , 0.   , 0.   , 0.   , 0.015, 0.   , 0.   , 0.   , 0.   , 0.   , 0.   , 0.   , 0.   , 0.   , 0.   , 0.   , 0.   , 0.   ],\n",
       "       [0.   , 0.   , 0.   , 0.   , 0.   , 0.023, 0.   , 0.   , 0.   , 0.   , 0.   , 0.   , 0.   , 0.   , 0.   , 0.   , 0.   , 0.   ],\n",
       "       [0.   , 0.   , 0.   , 0.   , 0.   , 0.   , 0.024, 0.   , 0.   , 0.   , 0.   , 0.   , 0.   , 0.   , 0.   , 0.   , 0.   , 0.   ],\n",
       "       [0.   , 0.   , 0.   , 0.   , 0.   , 0.   , 0.   , 0.029, 0.   , 0.   , 0.   , 0.   , 0.   , 0.   , 0.   , 0.   , 0.   , 0.   ],\n",
       "       [0.   , 0.   , 0.   , 0.   , 0.   , 0.   , 0.   , 0.   , 0.032, 0.   , 0.   , 0.   , 0.   , 0.   , 0.   , 0.   , 0.   , 0.   ],\n",
       "       [0.   , 0.   , 0.   , 0.   , 0.   , 0.   , 0.   , 0.   , 0.   , 0.034, 0.   , 0.   , 0.   , 0.   , 0.   , 0.   , 0.   , 0.   ],\n",
       "       [0.   , 0.   , 0.   , 0.   , 0.   , 0.   , 0.   , 0.   , 0.   , 0.   , 0.041, 0.   , 0.   , 0.   , 0.   , 0.   , 0.   , 0.   ],\n",
       "       [0.   , 0.   , 0.   , 0.   , 0.   , 0.   , 0.   , 0.   , 0.   , 0.   , 0.   , 0.064, 0.   , 0.   , 0.   , 0.   , 0.   , 0.   ],\n",
       "       [0.   , 0.   , 0.   , 0.   , 0.   , 0.   , 0.   , 0.   , 0.   , 0.   , 0.   , 0.   , 0.092, 0.   , 0.   , 0.   , 0.   , 0.   ],\n",
       "       [0.   , 0.   , 0.   , 0.   , 0.   , 0.   , 0.   , 0.   , 0.   , 0.   , 0.   , 0.   , 0.   , 0.111, 0.   , 0.   , 0.   , 0.   ],\n",
       "       [0.   , 0.   , 0.   , 0.   , 0.   , 0.   , 0.   , 0.   , 0.   , 0.   , 0.   , 0.   , 0.   , 0.   , 0.14 , 0.   , 0.   , 0.   ],\n",
       "       [0.   , 0.   , 0.   , 0.   , 0.   , 0.   , 0.   , 0.   , 0.   , 0.   , 0.   , 0.   , 0.   , 0.   , 0.   , 0.195, 0.   , 0.   ],\n",
       "       [0.   , 0.   , 0.   , 0.   , 0.   , 0.   , 0.   , 0.   , 0.   , 0.   , 0.   , 0.   , 0.   , 0.   , 0.   , 0.   , 0.   , 0.   ],\n",
       "       [0.   , 0.   , 0.   , 0.   , 0.   , 0.   , 0.   , 0.   , 0.   , 0.   , 0.   , 0.   , 0.   , 0.   , 0.   , 0.   , 0.   , 0.   ]])"
      ]
     },
     "execution_count": 128,
     "metadata": {},
     "output_type": "execute_result"
    }
   ],
   "source": [
    "D = set_D(s)\n",
    "np.round(D,3)"
   ]
  },
  {
   "cell_type": "markdown",
   "metadata": {},
   "source": [
    "Now compute the pseudo inverse of the model matrix and estimage model parameters by multiplying the pseudo inverse by the label column:"
   ]
  },
  {
   "cell_type": "code",
   "execution_count": 129,
   "metadata": {},
   "outputs": [
    {
     "data": {
      "text/plain": [
       "array([ -2.77443028,  10.18277264,   1.8712299 ,  -2.77746685,   0.52982232,   2.08448323,  -1.55229221,   5.71172834, -12.08328861,   9.5594654 ,  -7.1455289 ,   8.33842258,  -3.25132868, -14.70956191,  -5.34037076,   6.80361492,  -3.24823374,   8.19517781])"
      ]
     },
     "execution_count": 129,
     "metadata": {},
     "output_type": "execute_result"
    }
   ],
   "source": [
    "MP_inverse = np.dot(V, np.dot(D, np.transpose(U)))\n",
    "b = np.dot(MP_inverse, parkinsons_data.motor_UPDRS)\n",
    "b"
   ]
  },
  {
   "cell_type": "markdown",
   "metadata": {},
   "source": [
    "The coefficients are of a similar order of magnitude though perhaps not as close as we might like."
   ]
  },
  {
   "cell_type": "markdown",
   "metadata": {},
   "source": [
    "### Model Evaluation"
   ]
  },
  {
   "cell_type": "markdown",
   "metadata": {},
   "source": [
    "We now evaluate the model with the goal of predicting the label column *motor_UPDRS*."
   ]
  },
  {
   "cell_type": "code",
   "execution_count": 130,
   "metadata": {},
   "outputs": [
    {
     "name": "stdout",
     "output_type": "stream",
     "text": [
      "The mean actual motor UPDRS = 21.296228544680908   STD = 8.128589640865574\n",
      "\n"
     ]
    },
    {
     "data": {
      "text/html": [
       "<div>\n",
       "<style scoped>\n",
       "    .dataframe tbody tr th:only-of-type {\n",
       "        vertical-align: middle;\n",
       "    }\n",
       "\n",
       "    .dataframe tbody tr th {\n",
       "        vertical-align: top;\n",
       "    }\n",
       "\n",
       "    .dataframe thead th {\n",
       "        text-align: right;\n",
       "    }\n",
       "</style>\n",
       "<table border=\"1\" class=\"dataframe\">\n",
       "  <thead>\n",
       "    <tr style=\"text-align: right;\">\n",
       "      <th></th>\n",
       "      <th>motor_UPDRS</th>\n",
       "      <th>predicted</th>\n",
       "    </tr>\n",
       "  </thead>\n",
       "  <tbody>\n",
       "    <tr>\n",
       "      <td>0</td>\n",
       "      <td>28.199</td>\n",
       "      <td>54.408143</td>\n",
       "    </tr>\n",
       "    <tr>\n",
       "      <td>1</td>\n",
       "      <td>28.447</td>\n",
       "      <td>-25.948276</td>\n",
       "    </tr>\n",
       "    <tr>\n",
       "      <td>2</td>\n",
       "      <td>28.695</td>\n",
       "      <td>78.177942</td>\n",
       "    </tr>\n",
       "    <tr>\n",
       "      <td>3</td>\n",
       "      <td>28.905</td>\n",
       "      <td>108.134381</td>\n",
       "    </tr>\n",
       "    <tr>\n",
       "      <td>4</td>\n",
       "      <td>29.187</td>\n",
       "      <td>59.225984</td>\n",
       "    </tr>\n",
       "    <tr>\n",
       "      <td>5</td>\n",
       "      <td>29.435</td>\n",
       "      <td>135.709876</td>\n",
       "    </tr>\n",
       "    <tr>\n",
       "      <td>6</td>\n",
       "      <td>29.682</td>\n",
       "      <td>92.834942</td>\n",
       "    </tr>\n",
       "    <tr>\n",
       "      <td>7</td>\n",
       "      <td>29.928</td>\n",
       "      <td>94.192137</td>\n",
       "    </tr>\n",
       "    <tr>\n",
       "      <td>8</td>\n",
       "      <td>30.177</td>\n",
       "      <td>122.487902</td>\n",
       "    </tr>\n",
       "    <tr>\n",
       "      <td>9</td>\n",
       "      <td>30.424</td>\n",
       "      <td>113.433247</td>\n",
       "    </tr>\n",
       "    <tr>\n",
       "      <td>10</td>\n",
       "      <td>30.670</td>\n",
       "      <td>44.945640</td>\n",
       "    </tr>\n",
       "  </tbody>\n",
       "</table>\n",
       "</div>"
      ],
      "text/plain": [
       "    motor_UPDRS   predicted\n",
       "0        28.199   54.408143\n",
       "1        28.447  -25.948276\n",
       "2        28.695   78.177942\n",
       "3        28.905  108.134381\n",
       "4        29.187   59.225984\n",
       "5        29.435  135.709876\n",
       "6        29.682   92.834942\n",
       "7        29.928   94.192137\n",
       "8        30.177  122.487902\n",
       "9        30.424  113.433247\n",
       "10       30.670   44.945640"
      ]
     },
     "execution_count": 130,
     "metadata": {},
     "output_type": "execute_result"
    }
   ],
   "source": [
    "# Compute and display predicted values\n",
    "scaled_data.loc[:,'predicted'] = np.dot(scaled_data, b)\n",
    "motor_scale = np.std(parkinsons_data.motor_UPDRS)\n",
    "motor_mean = np.mean(parkinsons_data.motor_UPDRS)\n",
    "print('The mean actual motor UPDRS = {}   STD = {}\\n'.format(motor_mean, motor_scale))\n",
    "scaled_data.loc[:,'predicted'] = np.multiply(motor_scale, scaled_data.loc[:,'predicted'])\n",
    "scaled_data.loc[:,'predicted'] = np.add(motor_mean,  scaled_data.loc[:,'predicted'])\n",
    "\n",
    "# Add label\n",
    "scaled_data.loc[:,'motor_UPDRS'] = parkinsons_data.loc[:,'motor_UPDRS']\n",
    "\n",
    "# Display results\n",
    "scaled_data.loc[:10,['motor_UPDRS','predicted']]"
   ]
  },
  {
   "cell_type": "markdown",
   "metadata": {},
   "source": [
    "Clearly the predicted values are quite far off. To diagnose we examine the distribution of predicted and actual motor UPDRS values:"
   ]
  },
  {
   "cell_type": "code",
   "execution_count": 132,
   "metadata": {
    "scrolled": false
   },
   "outputs": [
    {
     "name": "stdout",
     "output_type": "stream",
     "text": [
      "Mean of predicted values = 14.129425614717558\n",
      "STD of predicted values = 154.2756281347142\n",
      "\n"
     ]
    },
    {
     "data": {
      "text/plain": [
       "<matplotlib.axes._subplots.AxesSubplot at 0x255fe9f48>"
      ]
     },
     "execution_count": 132,
     "metadata": {},
     "output_type": "execute_result"
    },
    {
     "data": {
      "text/plain": [
       "Text(0.5, 1.0, 'Distribution of predicted motor UPDRS')"
      ]
     },
     "execution_count": 132,
     "metadata": {},
     "output_type": "execute_result"
    },
    {
     "data": {
      "text/plain": [
       "Text(0.5, 0, 'Height')"
      ]
     },
     "execution_count": 132,
     "metadata": {},
     "output_type": "execute_result"
    },
    {
     "data": {
      "text/plain": [
       "(-990.9039685786098, 562.4821216944093)"
      ]
     },
     "execution_count": 132,
     "metadata": {},
     "output_type": "execute_result"
    },
    {
     "data": {
      "text/plain": [
       "<matplotlib.axes._subplots.AxesSubplot at 0x256010d08>"
      ]
     },
     "execution_count": 132,
     "metadata": {},
     "output_type": "execute_result"
    },
    {
     "data": {
      "text/plain": [
       "Text(0.5, 1.0, 'Distribution of actual motor UPDRS')"
      ]
     },
     "execution_count": 132,
     "metadata": {},
     "output_type": "execute_result"
    },
    {
     "data": {
      "text/plain": [
       "Text(0.5, 0, 'Height')"
      ]
     },
     "execution_count": 132,
     "metadata": {},
     "output_type": "execute_result"
    },
    {
     "data": {
      "image/png": "[encoded data removed]",
      "text/plain": [
       "<Figure size 720x288 with 2 Axes>"
      ]
     },
     "metadata": {
      "needs_background": "light"
     },
     "output_type": "display_data"
    }
   ],
   "source": [
    "xmin = min(min(scaled_data.predicted), min(scaled_data.motor_UPDRS))\n",
    "xmax = max(max(scaled_data.predicted), max(scaled_data.motor_UPDRS))\n",
    "print('Mean of predicted values = {}'.format(np.mean(scaled_data.predicted)))\n",
    "print('STD of predicted values = {}\\n'.format(np.std(scaled_data.predicted)))\n",
    "\n",
    "fig, ax = plt.subplots(nrows=1, ncols=2, figsize=(10, 4))\n",
    "sns.distplot(scaled_data.predicted, bins=20, ax=ax[0])\n",
    "ax[0].set_title('Distribution of predicted motor UPDRS')\n",
    "ax[0].set_xlabel('Height')\n",
    "ax[0].set_xlim(xmin,xmax)\n",
    "sns.distplot(scaled_data.motor_UPDRS, bins=20, ax=ax[1])\n",
    "ax[1].set_title('Distribution of actual motor UPDRS')\n",
    "ax[1].set_xlabel('Height')\n",
    "_=ax[1].set_xlim(xmin,xmax)"
   ]
  },
  {
   "cell_type": "markdown",
   "metadata": {},
   "source": [
    "The distributions are nowhere close. The actual motor UPDRS hardly varies, but the predicted values are all over the place with STD of 154!"
   ]
  },
  {
   "cell_type": "markdown",
   "metadata": {},
   "source": [
    "Now we examine the residuals:"
   ]
  },
  {
   "cell_type": "code",
   "execution_count": 135,
   "metadata": {},
   "outputs": [
    {
     "data": {
      "image/png": "[encoded data removed]",
      "text/plain": [
       "<Figure size 720x288 with 2 Axes>"
      ]
     },
     "metadata": {
      "needs_background": "light"
     },
     "output_type": "display_data"
    },
    {
     "data": {
      "image/png": "[encoded data removed]",
      "text/plain": [
       "<Figure size 432x288 with 1 Axes>"
      ]
     },
     "metadata": {
      "needs_background": "light"
     },
     "output_type": "display_data"
    }
   ],
   "source": [
    "# Plot \n",
    "scaled_data.loc[:,'resids'] = np.subtract(scaled_data.loc[:,'predicted'],scaled_data.loc[:,'motor_UPDRS'])\n",
    "plot_resid_dist(scaled_data.loc[:,'resids'])\n",
    "residual_plot(scaled_data)"
   ]
  },
  {
   "cell_type": "markdown",
   "metadata": {},
   "source": [
    "The residuals are approximately normal but strongly heteroscedastic, suggesting that the mean value is a better predictor than the model."
   ]
  },
  {
   "cell_type": "markdown",
   "metadata": {},
   "source": [
    "Now we compute summary metrics on the regression:"
   ]
  },
  {
   "cell_type": "code",
   "execution_count": 137,
   "metadata": {},
   "outputs": [
    {
     "name": "stdout",
     "output_type": "stream",
     "text": [
      "SSR: 136238817.8637\n",
      "SST: 388184.571103823\n",
      "R-squared = -349.96402073966476\n"
     ]
    }
   ],
   "source": [
    "SSR = np.sum(np.square(scaled_data.loc[:,'resids']))\n",
    "SST = np.sum(np.square(scaled_data.loc[:,'motor_UPDRS'] - height_mean))\n",
    "\n",
    "print('SSR: {}'.format(SSR))\n",
    "print('SST: {}'.format(SST))\n",
    "\n",
    "R2 = 1.0 - (SSR / SST)\n",
    "\n",
    "print('R-squared = {}'.format(R2))"
   ]
  },
  {
   "cell_type": "markdown",
   "metadata": {},
   "source": [
    "The metrics reveal how far off the model is, with R-squared in the hundreds rather than approaching zero as we'd prefer."
   ]
  },
  {
   "cell_type": "markdown",
   "metadata": {},
   "source": [
    "### Derive the Covariance Matrix"
   ]
  },
  {
   "cell_type": "markdown",
   "metadata": {},
   "source": [
    "Now we derive the covariance matrix of the features (the design matrix) from the scaled feature matrix:"
   ]
  },
  {
   "cell_type": "code",
   "execution_count": 67,
   "metadata": {},
   "outputs": [
    {
     "data": {
      "text/plain": [
       "array([[ 1.  , -0.04,  0.27,  0.31,  0.02,  0.04,  0.01,  0.01,  0.01,  0.1 ,  0.11,  0.1 ,  0.09,  0.14,  0.1 ,  0.01, -0.1 ,  0.09, -0.09,  0.12],\n",
       "       [-0.04,  1.  , -0.03, -0.1 ,  0.05, -0.15,  0.08,  0.09,  0.08,  0.06,  0.06,  0.04,  0.06,  0.02,  0.04,  0.17, -0.  , -0.16, -0.17, -0.1 ],\n",
       "       [ 0.27, -0.03,  1.  ,  0.95,  0.08,  0.05,  0.07,  0.08,  0.07,  0.1 ,  0.11,  0.08,  0.09,  0.14,  0.08,  0.07, -0.16,  0.13, -0.12,  0.16],\n",
       "       [ 0.31, -0.1 ,  0.95,  1.  ,  0.07,  0.07,  0.06,  0.06,  0.06,  0.09,  0.1 ,  0.08,  0.08,  0.12,  0.08,  0.06, -0.16,  0.16, -0.11,  0.16],\n",
       "       [ 0.02,  0.05,  0.08,  0.07,  1.  ,  0.87,  0.98,  0.97,  0.98,  0.71,  0.72,  0.66,  0.69,  0.65,  0.66,  0.83, -0.68,  0.43,  0.23,  0.72],\n",
       "       [ 0.04, -0.15,  0.05,  0.07,  0.87,  1.  ,  0.84,  0.79,  0.84,  0.65,  0.66,  0.62,  0.62,  0.59,  0.62,  0.7 , -0.71,  0.55,  0.35,  0.79],\n",
       "       [ 0.01,  0.08,  0.07,  0.06,  0.98,  0.84,  1.  ,  0.95,  1.  ,  0.68,  0.69,  0.65,  0.66,  0.6 ,  0.65,  0.79, -0.64,  0.38,  0.21,  0.67],\n",
       "       [ 0.01,  0.09,  0.08,  0.06,  0.97,  0.79,  0.95,  1.  ,  0.95,  0.73,  0.73,  0.68,  0.73,  0.67,  0.68,  0.86, -0.66,  0.38,  0.18,  0.66],\n",
       "       [ 0.01,  0.08,  0.07,  0.06,  0.98,  0.84,  1.  ,  0.95,  1.  ,  0.68,  0.69,  0.65,  0.66,  0.6 ,  0.65,  0.79, -0.64,  0.38,  0.21,  0.67],\n",
       "       [ 0.1 ,  0.06,  0.1 ,  0.09,  0.71,  0.65,  0.68,  0.73,  0.68,  1.  ,  0.99,  0.98,  0.98,  0.94,  0.98,  0.8 , -0.8 ,  0.47,  0.13,  0.62],\n",
       "       [ 0.11,  0.06,  0.11,  0.1 ,  0.72,  0.66,  0.69,  0.73,  0.69,  0.99,  1.  ,  0.97,  0.98,  0.94,  0.97,  0.8 , -0.8 ,  0.47,  0.13,  0.64],\n",
       "       [ 0.1 ,  0.04,  0.08,  0.08,  0.66,  0.62,  0.65,  0.68,  0.65,  0.98,  0.97,  1.  ,  0.96,  0.89,  1.  ,  0.73, -0.78,  0.44,  0.13,  0.58],\n",
       "       [ 0.09,  0.06,  0.09,  0.08,  0.69,  0.62,  0.66,  0.73,  0.66,  0.98,  0.98,  0.96,  1.  ,  0.94,  0.96,  0.8 , -0.79,  0.45,  0.13,  0.59],\n",
       "       [ 0.14,  0.02,  0.14,  0.12,  0.65,  0.59,  0.6 ,  0.67,  0.6 ,  0.94,  0.94,  0.89,  0.94,  1.  ,  0.89,  0.71, -0.78,  0.48,  0.18,  0.62],\n",
       "       [ 0.1 ,  0.04,  0.08,  0.08,  0.66,  0.62,  0.65,  0.68,  0.65,  0.98,  0.97,  1.  ,  0.96,  0.89,  1.  ,  0.73, -0.78,  0.44,  0.13,  0.58],\n",
       "       [ 0.01,  0.17,  0.07,  0.06,  0.83,  0.7 ,  0.79,  0.86,  0.79,  0.8 ,  0.8 ,  0.73,  0.8 ,  0.71,  0.73,  1.  , -0.68,  0.42, -0.02,  0.56],\n",
       "       [-0.1 , -0.  , -0.16, -0.16, -0.68, -0.71, -0.64, -0.66, -0.64, -0.8 , -0.8 , -0.78, -0.79, -0.78, -0.78, -0.68,  1.  , -0.66, -0.29, -0.76],\n",
       "       [ 0.09, -0.16,  0.13,  0.16,  0.43,  0.55,  0.38,  0.38,  0.38,  0.47,  0.47,  0.44,  0.45,  0.48,  0.44,  0.42, -0.66,  1.  ,  0.19,  0.57],\n",
       "       [-0.09, -0.17, -0.12, -0.11,  0.23,  0.35,  0.21,  0.18,  0.21,  0.13,  0.13,  0.13,  0.13,  0.18,  0.13, -0.02, -0.29,  0.19,  1.  ,  0.39],\n",
       "       [ 0.12, -0.1 ,  0.16,  0.16,  0.72,  0.79,  0.67,  0.66,  0.67,  0.62,  0.64,  0.58,  0.59,  0.62,  0.58,  0.56, -0.76,  0.57,  0.39,  1.  ]])"
      ]
     },
     "execution_count": 67,
     "metadata": {},
     "output_type": "execute_result"
    }
   ],
   "source": [
    "# Compute covariance matrix of features\n",
    "C = np.dot(np.transpose(scaled_data),scaled_data)\n",
    "C = np.multiply(1.0/float(scaled_data.shape[0]), C)\n",
    "np.round(C,2)"
   ]
  },
  {
   "cell_type": "markdown",
   "metadata": {},
   "source": [
    "Note that several values off of the diagonal are close to 1.0 suggesting that the inverse is unstable. This is confirmed by examination of the eigenvalues:"
   ]
  },
  {
   "cell_type": "code",
   "execution_count": 68,
   "metadata": {},
   "outputs": [
    {
     "data": {
      "text/plain": [
       "array([11.2974,  2.1729,  1.6981,  1.4347,  0.8359,  0.798 ,  0.7097,  0.2935,  0.2066,  0.1694,  0.1486,  0.099 ,  0.0487,  0.0403,  0.0202,  0.0138,  0.0086,  0.0044,  0.    ,  0.    ])"
      ]
     },
     "execution_count": 68,
     "metadata": {},
     "output_type": "execute_result"
    }
   ],
   "source": [
    "L, Q = np.linalg.eig(C)\n",
    "np.round(L,4)"
   ]
  },
  {
   "cell_type": "markdown",
   "metadata": {},
   "source": [
    "The fact that nine of these eigenvalues are nearly zero suggests again that the inverse of the covariance matrix is unstable."
   ]
  },
  {
   "cell_type": "markdown",
   "metadata": {},
   "source": [
    "### Regularization"
   ]
  },
  {
   "cell_type": "markdown",
   "metadata": {},
   "source": [
    "Now we introduce a small amount of bias to the covariance matrix to avoid destabilizing divide-by-zero scenarios:"
   ]
  },
  {
   "cell_type": "code",
   "execution_count": 69,
   "metadata": {
    "scrolled": false
   },
   "outputs": [
    {
     "data": {
      "text/plain": [
       "array([[ 1.01, -0.04,  0.27,  0.31,  0.02,  0.04,  0.01,  0.01,  0.01,  0.1 ,  0.11,  0.1 ,  0.09,  0.14,  0.1 ,  0.01, -0.1 ,  0.09, -0.09,  0.12],\n",
       "       [-0.04,  1.01, -0.03, -0.1 ,  0.05, -0.15,  0.08,  0.09,  0.08,  0.06,  0.06,  0.04,  0.06,  0.02,  0.04,  0.17, -0.  , -0.16, -0.17, -0.1 ],\n",
       "       [ 0.27, -0.03,  1.01,  0.95,  0.08,  0.05,  0.07,  0.08,  0.07,  0.1 ,  0.11,  0.08,  0.09,  0.14,  0.08,  0.07, -0.16,  0.13, -0.12,  0.16],\n",
       "       [ 0.31, -0.1 ,  0.95,  1.01,  0.07,  0.07,  0.06,  0.06,  0.06,  0.09,  0.1 ,  0.08,  0.08,  0.12,  0.08,  0.06, -0.16,  0.16, -0.11,  0.16],\n",
       "       [ 0.02,  0.05,  0.08,  0.07,  1.01,  0.87,  0.98,  0.97,  0.98,  0.71,  0.72,  0.66,  0.69,  0.65,  0.66,  0.83, -0.68,  0.43,  0.23,  0.72],\n",
       "       [ 0.04, -0.15,  0.05,  0.07,  0.87,  1.01,  0.84,  0.79,  0.84,  0.65,  0.66,  0.62,  0.62,  0.59,  0.62,  0.7 , -0.71,  0.55,  0.35,  0.79],\n",
       "       [ 0.01,  0.08,  0.07,  0.06,  0.98,  0.84,  1.01,  0.95,  1.  ,  0.68,  0.69,  0.65,  0.66,  0.6 ,  0.65,  0.79, -0.64,  0.38,  0.21,  0.67],\n",
       "       [ 0.01,  0.09,  0.08,  0.06,  0.97,  0.79,  0.95,  1.01,  0.95,  0.73,  0.73,  0.68,  0.73,  0.67,  0.68,  0.86, -0.66,  0.38,  0.18,  0.66],\n",
       "       [ 0.01,  0.08,  0.07,  0.06,  0.98,  0.84,  1.  ,  0.95,  1.01,  0.68,  0.69,  0.65,  0.66,  0.6 ,  0.65,  0.79, -0.64,  0.38,  0.21,  0.67],\n",
       "       [ 0.1 ,  0.06,  0.1 ,  0.09,  0.71,  0.65,  0.68,  0.73,  0.68,  1.01,  0.99,  0.98,  0.98,  0.94,  0.98,  0.8 , -0.8 ,  0.47,  0.13,  0.62],\n",
       "       [ 0.11,  0.06,  0.11,  0.1 ,  0.72,  0.66,  0.69,  0.73,  0.69,  0.99,  1.01,  0.97,  0.98,  0.94,  0.97,  0.8 , -0.8 ,  0.47,  0.13,  0.64],\n",
       "       [ 0.1 ,  0.04,  0.08,  0.08,  0.66,  0.62,  0.65,  0.68,  0.65,  0.98,  0.97,  1.01,  0.96,  0.89,  1.  ,  0.73, -0.78,  0.44,  0.13,  0.58],\n",
       "       [ 0.09,  0.06,  0.09,  0.08,  0.69,  0.62,  0.66,  0.73,  0.66,  0.98,  0.98,  0.96,  1.01,  0.94,  0.96,  0.8 , -0.79,  0.45,  0.13,  0.59],\n",
       "       [ 0.14,  0.02,  0.14,  0.12,  0.65,  0.59,  0.6 ,  0.67,  0.6 ,  0.94,  0.94,  0.89,  0.94,  1.01,  0.89,  0.71, -0.78,  0.48,  0.18,  0.62],\n",
       "       [ 0.1 ,  0.04,  0.08,  0.08,  0.66,  0.62,  0.65,  0.68,  0.65,  0.98,  0.97,  1.  ,  0.96,  0.89,  1.01,  0.73, -0.78,  0.44,  0.13,  0.58],\n",
       "       [ 0.01,  0.17,  0.07,  0.06,  0.83,  0.7 ,  0.79,  0.86,  0.79,  0.8 ,  0.8 ,  0.73,  0.8 ,  0.71,  0.73,  1.01, -0.68,  0.42, -0.02,  0.56],\n",
       "       [-0.1 , -0.  , -0.16, -0.16, -0.68, -0.71, -0.64, -0.66, -0.64, -0.8 , -0.8 , -0.78, -0.79, -0.78, -0.78, -0.68,  1.01, -0.66, -0.29, -0.76],\n",
       "       [ 0.09, -0.16,  0.13,  0.16,  0.43,  0.55,  0.38,  0.38,  0.38,  0.47,  0.47,  0.44,  0.45,  0.48,  0.44,  0.42, -0.66,  1.01,  0.19,  0.57],\n",
       "       [-0.09, -0.17, -0.12, -0.11,  0.23,  0.35,  0.21,  0.18,  0.21,  0.13,  0.13,  0.13,  0.13,  0.18,  0.13, -0.02, -0.29,  0.19,  1.01,  0.39],\n",
       "       [ 0.12, -0.1 ,  0.16,  0.16,  0.72,  0.79,  0.67,  0.66,  0.67,  0.62,  0.64,  0.58,  0.59,  0.62,  0.58,  0.56, -0.76,  0.57,  0.39,  1.01]])"
      ]
     },
     "execution_count": 69,
     "metadata": {},
     "output_type": "execute_result"
    }
   ],
   "source": [
    "alpha = 0.01\n",
    "for i in range(C.shape[0]):\n",
    "    C[i,i] = C[i,i] + alpha\n",
    "np.round(C,2)"
   ]
  },
  {
   "cell_type": "markdown",
   "metadata": {},
   "source": [
    "Let's examine the eigenvalues again:"
   ]
  },
  {
   "cell_type": "code",
   "execution_count": 70,
   "metadata": {},
   "outputs": [
    {
     "data": {
      "text/plain": [
       "array([11.3074,  2.1829,  1.7081,  1.4447,  0.8459,  0.808 ,  0.7197,  0.3035,  0.2166,  0.1794,  0.1586,  0.109 ,  0.0587,  0.0503,  0.0302,  0.0238,  0.0186,  0.0144,  0.01  ,  0.01  ])"
      ]
     },
     "execution_count": 70,
     "metadata": {},
     "output_type": "execute_result"
    }
   ],
   "source": [
    "L_regularized, Q = np.linalg.eig(C)\n",
    "np.round(L_regularized,4)"
   ]
  },
  {
   "cell_type": "markdown",
   "metadata": {},
   "source": [
    "After regularization no eigenvalues remain that are essentially zero."
   ]
  },
  {
   "cell_type": "markdown",
   "metadata": {},
   "source": [
    "We now verify that the new eigenvalues do not substantially differ from the original unbiased estimates:"
   ]
  },
  {
   "cell_type": "code",
   "execution_count": 71,
   "metadata": {},
   "outputs": [
    {
     "data": {
      "text/plain": [
       "array([0.01, 0.01, 0.01, 0.01, 0.01, 0.01, 0.01, 0.01, 0.01, 0.01, 0.01, 0.01, 0.01, 0.01, 0.01, 0.01, 0.01, 0.01, 0.01, 0.01])"
      ]
     },
     "execution_count": 71,
     "metadata": {},
     "output_type": "execute_result"
    }
   ],
   "source": [
    "np.round(np.subtract(L_regularized,L),3)"
   ]
  },
  {
   "cell_type": "markdown",
   "metadata": {},
   "source": [
    "Note that the difference in the eigenvalues is minimal and equal to the value of the bias added."
   ]
  },
  {
   "cell_type": "markdown",
   "metadata": {},
   "source": [
    "### Create and Plot the Principal Components"
   ]
  },
  {
   "cell_type": "markdown",
   "metadata": {},
   "source": [
    "TODO"
   ]
  },
  {
   "cell_type": "markdown",
   "metadata": {},
   "source": [
    "### SVD-Linear Regression with Singular Value Decomposition"
   ]
  },
  {
   "cell_type": "markdown",
   "metadata": {},
   "source": [
    "Compute an inverse of the model matrix and use this to estimate the model parameters:"
   ]
  },
  {
   "cell_type": "code",
   "execution_count": null,
   "metadata": {},
   "outputs": [],
   "source": []
  },
  {
   "cell_type": "markdown",
   "metadata": {},
   "source": [
    "### Report"
   ]
  },
  {
   "cell_type": "markdown",
   "metadata": {},
   "source": [
    "Report on: Number of components before and after (choose a smaller number of principal components and explain how you chose them). Interpret the adjusted R-squared."
   ]
  }
 ],
 "metadata": {
  "kernelspec": {
   "display_name": "Python 3",
   "language": "python",
   "name": "python3"
  },
  "language_info": {
   "codemirror_mode": {
    "name": "ipython",
    "version": 3
   },
   "file_extension": ".py",
   "mimetype": "text/x-python",
   "name": "python",
   "nbconvert_exporter": "python",
   "pygments_lexer": "ipython3",
   "version": "3.7.4"
  }
 },
 "nbformat": 4,
 "nbformat_minor": 2
}
