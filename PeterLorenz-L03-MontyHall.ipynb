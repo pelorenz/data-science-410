{
 "cells": [
  {
   "cell_type": "markdown",
   "metadata": {},
   "source": [
    "### Lesson 03 Assignment"
   ]
  },
  {
   "cell_type": "markdown",
   "metadata": {},
   "source": [
    "This notebook simulates the conditional probabilities of the distributions for winning a car vs. a goat for the Monty Hall Problem that includes the following:\n",
    "1. the cases of switching or not switching\n",
    "2. histograms and summary statistics (at least mean and variance) of the results for winning the car or a goat for both strategies, switching or not switching\n",
    "3. comparison of the cases to determine the best strategy\n",
    "4. recommended strategy"
   ]
  },
  {
   "cell_type": "markdown",
   "metadata": {},
   "source": [
    "#### Preliminaries"
   ]
  },
  {
   "cell_type": "markdown",
   "metadata": {},
   "source": [
    "Import the required libraries and define some notebook settings:"
   ]
  },
  {
   "cell_type": "code",
   "execution_count": 481,
   "metadata": {},
   "outputs": [],
   "source": [
    "# Import required libraries\n",
    "import numpy as np\n",
    "import pandas as pd\n",
    "import seaborn as sns\n",
    "import matplotlib.pyplot as plt\n",
    "from collections import Counter\n",
    "from itertools import groupby\n",
    "from matplotlib import pyplot\n",
    "\n",
    "# Permit display of all cell outputs\n",
    "from IPython.core.interactiveshell import InteractiveShell\n",
    "InteractiveShell.ast_node_interactivity = \"all\""
   ]
  },
  {
   "cell_type": "markdown",
   "metadata": {},
   "source": [
    "Declare constants for the number of games per sample and number of samples:"
   ]
  },
  {
   "cell_type": "code",
   "execution_count": 482,
   "metadata": {},
   "outputs": [],
   "source": [
    "GAMES_PER_SAMPLE = 100\n",
    "NUMBER_OF_SAMPLES = 10"
   ]
  },
  {
   "cell_type": "markdown",
   "metadata": {},
   "source": [
    "#### The Monte Hall Problem"
   ]
  },
  {
   "cell_type": "markdown",
   "metadata": {},
   "source": [
    "The Monte Hall Problem works as follows:\n",
    "- The problem begins with three closed doors: Behind one of the doors is a car, behind the others is a goat.\n",
    "- The host, Monte Hall, presents a contestant with the opportunity to guess which door has the car. If the contestant guesses correctly, s/he wins the car. Otherwise, s/he wins a goat (a prize that presumably s/he would simply decline).\n",
    "- The contestant then chooses one of the closed doors, after which Monte opens one of the other two remaining doors, revealing a goat.\n",
    "- Monte offers the contestant a choice between staying with the door they initially guessed or switching to the other closed door.\n",
    "- Monte then opens the contestant's chosen door, revealing the contestant's prize, either a car or a goat."
   ]
  },
  {
   "cell_type": "markdown",
   "metadata": {},
   "source": [
    "By opening one of the doors, is Monte generously supplying additional useful information that improves the chances that the contestant will win? Or is he simply teasing the contestant to make good TV? Our job is to find out."
   ]
  },
  {
   "cell_type": "markdown",
   "metadata": {},
   "source": [
    "### Probabilities and Distributions"
   ]
  },
  {
   "cell_type": "markdown",
   "metadata": {},
   "source": [
    "First we consider the sources of uncertainty and the distributions of potential outcomes behind the Monte Hall problem in order to devise an appropriate simulator."
   ]
  },
  {
   "cell_type": "markdown",
   "metadata": {},
   "source": [
    "##### Contestant's Initial Guess"
   ]
  },
  {
   "cell_type": "markdown",
   "metadata": {},
   "source": [
    "On their initial guess, the contestant has a probability of 1/3 that they will choose the door with the car, because there are three doors, only one of which has the car, and the contestant has no additional information. This is an independent probability that we can model using the following function *sim_door*:"
   ]
  },
  {
   "cell_type": "code",
   "execution_count": 483,
   "metadata": {},
   "outputs": [],
   "source": [
    "# in the 3-door simulation, doors are randomly chosen with equal probability from 3 doors\n",
    "# when pval is approximately 0.333, this is a multinomial distribution\n",
    "door_probas = [\n",
    "      .333,  # door 1\n",
    "      .333,  # door 2\n",
    "      .333,  # door 3\n",
    "  ]\n",
    "\n",
    "# Param 1 door_probas: list of probabilities that a given door will be selected\n",
    "# Returns: independent selection of one door out of three\n",
    "# randomly select one door out of three possible doors\n",
    "# used for placing the car behind one door and the contestant's selection of one door\n",
    "def sim_door(door_probas):\n",
    "    return list(zip(\n",
    "        ['door 1', 'door 2', 'door 3'], \n",
    "        np.random.multinomial(1, door_probas)))"
   ]
  },
  {
   "cell_type": "markdown",
   "metadata": {},
   "source": [
    "We can examine the distribution of outcomes by running multiple trials (e.g. 100) of *sim_door* over a large number of iterations (e.g. 1000):"
   ]
  },
  {
   "cell_type": "code",
   "execution_count": 484,
   "metadata": {
    "scrolled": false
   },
   "outputs": [
    {
     "data": {
      "text/html": [
       "<div>\n",
       "<style scoped>\n",
       "    .dataframe tbody tr th:only-of-type {\n",
       "        vertical-align: middle;\n",
       "    }\n",
       "\n",
       "    .dataframe tbody tr th {\n",
       "        vertical-align: top;\n",
       "    }\n",
       "\n",
       "    .dataframe thead th {\n",
       "        text-align: right;\n",
       "    }\n",
       "</style>\n",
       "<table border=\"1\" class=\"dataframe\">\n",
       "  <thead>\n",
       "    <tr style=\"text-align: right;\">\n",
       "      <th></th>\n",
       "      <th>door 1</th>\n",
       "      <th>door 2</th>\n",
       "      <th>door 3</th>\n",
       "    </tr>\n",
       "  </thead>\n",
       "  <tbody>\n",
       "    <tr>\n",
       "      <td>0</td>\n",
       "      <td>32</td>\n",
       "      <td>35</td>\n",
       "      <td>33</td>\n",
       "    </tr>\n",
       "    <tr>\n",
       "      <td>1</td>\n",
       "      <td>29</td>\n",
       "      <td>34</td>\n",
       "      <td>37</td>\n",
       "    </tr>\n",
       "    <tr>\n",
       "      <td>2</td>\n",
       "      <td>22</td>\n",
       "      <td>40</td>\n",
       "      <td>38</td>\n",
       "    </tr>\n",
       "    <tr>\n",
       "      <td>3</td>\n",
       "      <td>32</td>\n",
       "      <td>39</td>\n",
       "      <td>29</td>\n",
       "    </tr>\n",
       "    <tr>\n",
       "      <td>4</td>\n",
       "      <td>29</td>\n",
       "      <td>44</td>\n",
       "      <td>27</td>\n",
       "    </tr>\n",
       "    <tr>\n",
       "      <td>...</td>\n",
       "      <td>...</td>\n",
       "      <td>...</td>\n",
       "      <td>...</td>\n",
       "    </tr>\n",
       "    <tr>\n",
       "      <td>995</td>\n",
       "      <td>33</td>\n",
       "      <td>42</td>\n",
       "      <td>25</td>\n",
       "    </tr>\n",
       "    <tr>\n",
       "      <td>996</td>\n",
       "      <td>37</td>\n",
       "      <td>20</td>\n",
       "      <td>43</td>\n",
       "    </tr>\n",
       "    <tr>\n",
       "      <td>997</td>\n",
       "      <td>35</td>\n",
       "      <td>32</td>\n",
       "      <td>33</td>\n",
       "    </tr>\n",
       "    <tr>\n",
       "      <td>998</td>\n",
       "      <td>32</td>\n",
       "      <td>27</td>\n",
       "      <td>41</td>\n",
       "    </tr>\n",
       "    <tr>\n",
       "      <td>999</td>\n",
       "      <td>38</td>\n",
       "      <td>28</td>\n",
       "      <td>34</td>\n",
       "    </tr>\n",
       "  </tbody>\n",
       "</table>\n",
       "<p>1000 rows × 3 columns</p>\n",
       "</div>"
      ],
      "text/plain": [
       "     door 1  door 2  door 3\n",
       "0        32      35      33\n",
       "1        29      34      37\n",
       "2        22      40      38\n",
       "3        32      39      29\n",
       "4        29      44      27\n",
       "..      ...     ...     ...\n",
       "995      33      42      25\n",
       "996      37      20      43\n",
       "997      35      32      33\n",
       "998      32      27      41\n",
       "999      38      28      34\n",
       "\n",
       "[1000 rows x 3 columns]"
      ]
     },
     "execution_count": 484,
     "metadata": {},
     "output_type": "execute_result"
    }
   ],
   "source": [
    "# perform n trials of sim_door\n",
    "def run_door_outcomes(num_games):\n",
    "    return pd.Series(Counter([[t[0] for t in sim_door(door_probas) if t[1] == 1][0] \\\n",
    "                              for i in range(0, num_games)])).sort_index()\n",
    "\n",
    "# derive m samples of n trials of sim_door\n",
    "def run_door_samples(num_samples, num_games):\n",
    "    return pd.DataFrame([run_door_outcomes(num_games) for i in range(0, num_samples)])\n",
    "\n",
    "run_door = run_door_samples(1000, 100)\n",
    "run_door"
   ]
  },
  {
   "cell_type": "markdown",
   "metadata": {},
   "source": [
    "We compute the mean times selected per door out of 100 trials:"
   ]
  },
  {
   "cell_type": "code",
   "execution_count": 485,
   "metadata": {},
   "outputs": [
    {
     "data": {
      "text/plain": [
       "door 1    33.492\n",
       "door 2    33.248\n",
       "door 3    33.260\n",
       "dtype: float64"
      ]
     },
     "execution_count": 485,
     "metadata": {},
     "output_type": "execute_result"
    }
   ],
   "source": [
    "run_door_mean = run_door.mean()\n",
    "run_door_mean"
   ]
  },
  {
   "cell_type": "markdown",
   "metadata": {},
   "source": [
    "We compute the variance of the times selected per door out of 100 trials:"
   ]
  },
  {
   "cell_type": "code",
   "execution_count": 486,
   "metadata": {},
   "outputs": [
    {
     "data": {
      "text/plain": [
       "door 1    23.185121\n",
       "door 2    21.854350\n",
       "door 3    22.532933\n",
       "dtype: float64"
      ]
     },
     "execution_count": 486,
     "metadata": {},
     "output_type": "execute_result"
    }
   ],
   "source": [
    "run_door_var = run_door.var()\n",
    "run_door_var"
   ]
  },
  {
   "cell_type": "markdown",
   "metadata": {},
   "source": [
    "The histogram reveals that the most common outcome for a particular door, in this case 'door 1', in a set of 1000 trials of 100 simulations is between 33 and 35 out of 100:"
   ]
  },
  {
   "cell_type": "code",
   "execution_count": 504,
   "metadata": {},
   "outputs": [
    {
     "data": {
      "text/plain": [
       "(array([  2.,   3.,   4.,  20.,  27.,  67.,  27.,  50.,  68.,  82., 131.,\n",
       "         97.,  86.,  73.,  58.,  97.,  36.,  28.,  17.,  10.,  10.,   1.,\n",
       "          2.,   2.,   2.]),\n",
       " array([20. , 21.2, 22.4, 23.6, 24.8, 26. , 27.2, 28.4, 29.6, 30.8, 32. ,\n",
       "        33.2, 34.4, 35.6, 36.8, 38. , 39.2, 40.4, 41.6, 42.8, 44. , 45.2,\n",
       "        46.4, 47.6, 48.8, 50. ]),\n",
       " <a list of 25 Patch objects>)"
      ]
     },
     "execution_count": 504,
     "metadata": {},
     "output_type": "execute_result"
    },
    {
     "data": {
      "text/plain": [
       "Text(0.5, 1.0, \"Distribution of outcomes for 'door 1' out of 3 doors in 1000 trials of 100 simulations\")"
      ]
     },
     "execution_count": 504,
     "metadata": {},
     "output_type": "execute_result"
    },
    {
     "data": {
      "image/png": "[encoded data removed]",
      "text/plain": [
       "<Figure size 432x288 with 1 Axes>"
      ]
     },
     "metadata": {
      "needs_background": "light"
     },
     "output_type": "display_data"
    }
   ],
   "source": [
    "# histogram of samples of trials\n",
    "pyplot.hist(run_door['door 1'], bins=25)\n",
    "pyplot.title('Distribution of outcomes for \\'door 1\\' out of 3 doors in 1000 trials of 100 simulations')"
   ]
  },
  {
   "cell_type": "markdown",
   "metadata": {},
   "source": [
    "##### After Contestant's Initial Guess"
   ]
  },
  {
   "cell_type": "markdown",
   "metadata": {},
   "source": [
    "After the contestant's initial guess, Monte may or may not have some constraints on which of the remaining doors he can open, so we have some conditional probabilities."
   ]
  },
  {
   "cell_type": "markdown",
   "metadata": {},
   "source": [
    "##### Case 1: Contestant Chooses Right, Monte Can Open Either Remaining Door"
   ]
  },
  {
   "cell_type": "markdown",
   "metadata": {},
   "source": [
    "If the contestant initially picks the door with the car, Monte has no constraints on which door he can open: since neither of the remaining doors has a car, Monte can open either of the remaining doors with 1/2 probability, revealing a goat. Since this occurs in 1/3 of cases, we have a 1/2 * 1/3 = 1/6 probability of each of these scenarios. In the case where the contestant does not switch, this is their only chance to win (i.e. stay with their initial winning guess), which they will do with 1/3 probability. In the case where the contestant switches from the door with the car, they will certainly lose because the other two doors have goats."
   ]
  },
  {
   "cell_type": "markdown",
   "metadata": {},
   "source": [
    "Monte's choice between the two remaining doors after the contestant makes a correct initial guess is an independent probability representing a binomial distribution that we can model using the following function *sim_monte*:"
   ]
  },
  {
   "cell_type": "code",
   "execution_count": 488,
   "metadata": {},
   "outputs": [],
   "source": [
    "# when Monte has a choice of doors, doors are randomly chosen with equal probability from 2 doors\n",
    "# when pval is 0.5, this is a binomial distribution\n",
    "monte_probas = [\n",
    "      .5,  # first of two unchosen doors (doors 1 or 2)\n",
    "      .5,  # second of two unchosen doors (doors 2 or 3)\n",
    "  ]\n",
    "\n",
    "# Param 1 monte_probas: list of probabilities that a given door will be selected\n",
    "# Param 2 available_doors: list of doors without cars from which to select\n",
    "# Returns: independent selection of one door out of two doors without the car\n",
    "# called when Monte has a choice of two doors, to independently select one of the doors\n",
    "def sim_monte(monte_probas, available_doors):\n",
    "    # note: the multinomial distribution is the general case of the binomial distribution, \n",
    "    # so calling it is fine here\n",
    "    return list(zip(\n",
    "        available_doors, \n",
    "        np.random.multinomial(1, monte_probas)))"
   ]
  },
  {
   "cell_type": "markdown",
   "metadata": {},
   "source": [
    "We can examine the distribution of outcomes by running multiple trials (e.g. 100) of *sim_monte* over a large number of iterations (e.g. 1000), assuming that the doors from which he must choose are doors 1 and 2:"
   ]
  },
  {
   "cell_type": "code",
   "execution_count": 489,
   "metadata": {},
   "outputs": [
    {
     "data": {
      "text/html": [
       "<div>\n",
       "<style scoped>\n",
       "    .dataframe tbody tr th:only-of-type {\n",
       "        vertical-align: middle;\n",
       "    }\n",
       "\n",
       "    .dataframe tbody tr th {\n",
       "        vertical-align: top;\n",
       "    }\n",
       "\n",
       "    .dataframe thead th {\n",
       "        text-align: right;\n",
       "    }\n",
       "</style>\n",
       "<table border=\"1\" class=\"dataframe\">\n",
       "  <thead>\n",
       "    <tr style=\"text-align: right;\">\n",
       "      <th></th>\n",
       "      <th>door 1</th>\n",
       "      <th>door 2</th>\n",
       "    </tr>\n",
       "  </thead>\n",
       "  <tbody>\n",
       "    <tr>\n",
       "      <td>0</td>\n",
       "      <td>48</td>\n",
       "      <td>52</td>\n",
       "    </tr>\n",
       "    <tr>\n",
       "      <td>1</td>\n",
       "      <td>48</td>\n",
       "      <td>52</td>\n",
       "    </tr>\n",
       "    <tr>\n",
       "      <td>2</td>\n",
       "      <td>46</td>\n",
       "      <td>54</td>\n",
       "    </tr>\n",
       "    <tr>\n",
       "      <td>3</td>\n",
       "      <td>52</td>\n",
       "      <td>48</td>\n",
       "    </tr>\n",
       "    <tr>\n",
       "      <td>4</td>\n",
       "      <td>52</td>\n",
       "      <td>48</td>\n",
       "    </tr>\n",
       "    <tr>\n",
       "      <td>...</td>\n",
       "      <td>...</td>\n",
       "      <td>...</td>\n",
       "    </tr>\n",
       "    <tr>\n",
       "      <td>995</td>\n",
       "      <td>50</td>\n",
       "      <td>50</td>\n",
       "    </tr>\n",
       "    <tr>\n",
       "      <td>996</td>\n",
       "      <td>52</td>\n",
       "      <td>48</td>\n",
       "    </tr>\n",
       "    <tr>\n",
       "      <td>997</td>\n",
       "      <td>48</td>\n",
       "      <td>52</td>\n",
       "    </tr>\n",
       "    <tr>\n",
       "      <td>998</td>\n",
       "      <td>39</td>\n",
       "      <td>61</td>\n",
       "    </tr>\n",
       "    <tr>\n",
       "      <td>999</td>\n",
       "      <td>50</td>\n",
       "      <td>50</td>\n",
       "    </tr>\n",
       "  </tbody>\n",
       "</table>\n",
       "<p>1000 rows × 2 columns</p>\n",
       "</div>"
      ],
      "text/plain": [
       "     door 1  door 2\n",
       "0        48      52\n",
       "1        48      52\n",
       "2        46      54\n",
       "3        52      48\n",
       "4        52      48\n",
       "..      ...     ...\n",
       "995      50      50\n",
       "996      52      48\n",
       "997      48      52\n",
       "998      39      61\n",
       "999      50      50\n",
       "\n",
       "[1000 rows x 2 columns]"
      ]
     },
     "execution_count": 489,
     "metadata": {},
     "output_type": "execute_result"
    }
   ],
   "source": [
    "# perform n trials of sim_monte\n",
    "def run_monte_outcomes(num_games):\n",
    "    return pd.Series(Counter([[t[0] for t in sim_monte(monte_probas, ['door 1', 'door 2']) \\\n",
    "                               if t[1] == 1][0] \\\n",
    "                              for i in range(0, num_games)])).sort_index()\n",
    "\n",
    "# derive m samples of n trials of sim_monte\n",
    "def run_monte_samples(num_samples, num_games):\n",
    "    return pd.DataFrame([run_monte_outcomes(num_games) for i in range(0, num_samples)])\n",
    "\n",
    "run_monte = run_monte_samples(1000, 100)\n",
    "run_monte"
   ]
  },
  {
   "cell_type": "markdown",
   "metadata": {},
   "source": [
    "We compute the mean times selected per door out of 100 trials:"
   ]
  },
  {
   "cell_type": "code",
   "execution_count": 490,
   "metadata": {},
   "outputs": [
    {
     "data": {
      "text/plain": [
       "door 1    49.999\n",
       "door 2    50.001\n",
       "dtype: float64"
      ]
     },
     "execution_count": 490,
     "metadata": {},
     "output_type": "execute_result"
    }
   ],
   "source": [
    "run_monte_mean = run_monte.mean()\n",
    "run_monte_mean"
   ]
  },
  {
   "cell_type": "markdown",
   "metadata": {},
   "source": [
    "We compute the variance of the times selected per door out of 100 trials:"
   ]
  },
  {
   "cell_type": "code",
   "execution_count": 491,
   "metadata": {},
   "outputs": [
    {
     "data": {
      "text/plain": [
       "door 1    25.372371\n",
       "door 2    25.372371\n",
       "dtype: float64"
      ]
     },
     "execution_count": 491,
     "metadata": {},
     "output_type": "execute_result"
    }
   ],
   "source": [
    "run_monte_var = run_monte.var()\n",
    "run_monte_var"
   ]
  },
  {
   "cell_type": "markdown",
   "metadata": {},
   "source": [
    "The histogram reveals that the most common outcome for a particular door, in this case 'door 1', in a set of 1000 trials of 100 simulations is between 46 and 54 out of 100:"
   ]
  },
  {
   "cell_type": "code",
   "execution_count": 505,
   "metadata": {},
   "outputs": [
    {
     "data": {
      "text/plain": [
       "(array([  2.,   0.,   6.,   4.,  11.,  26.,  19.,  30.,  78.,  67.,  72.,\n",
       "        143.,  82., 140.,  64.,  68.,  89.,  33.,  30.,  22.,   4.,   4.,\n",
       "          4.,   1.,   1.]),\n",
       " array([33.  , 34.36, 35.72, 37.08, 38.44, 39.8 , 41.16, 42.52, 43.88,\n",
       "        45.24, 46.6 , 47.96, 49.32, 50.68, 52.04, 53.4 , 54.76, 56.12,\n",
       "        57.48, 58.84, 60.2 , 61.56, 62.92, 64.28, 65.64, 67.  ]),\n",
       " <a list of 25 Patch objects>)"
      ]
     },
     "execution_count": 505,
     "metadata": {},
     "output_type": "execute_result"
    },
    {
     "data": {
      "text/plain": [
       "Text(0.5, 1.0, \"Distribution of outcomes for 'door 1' out of 2 doors in 1000 trials of 100 simulations\")"
      ]
     },
     "execution_count": 505,
     "metadata": {},
     "output_type": "execute_result"
    },
    {
     "data": {
      "image/png": "[encoded data removed]",
      "text/plain": [
       "<Figure size 432x288 with 1 Axes>"
      ]
     },
     "metadata": {
      "needs_background": "light"
     },
     "output_type": "display_data"
    }
   ],
   "source": [
    "# histogram of samples of trials\n",
    "pyplot.hist(run_monte['door 1'], bins=25)\n",
    "pyplot.title('Distribution of outcomes for \\'door 1\\' out of 2 doors in 1000 trials of 100 simulations')"
   ]
  },
  {
   "cell_type": "markdown",
   "metadata": {},
   "source": [
    "##### Case 2: Contestant Chooses Wrong, Monte Must Open the Only Door without the Car"
   ]
  },
  {
   "cell_type": "markdown",
   "metadata": {},
   "source": [
    "If the contestant inially picks a door with the car, Monte faces some constraints, since now there is just one door he can open: the other door has the car. This occurs in 2/3 of cases, namely, those cases in which the contestant's initial guess was wrong. Now, if the contestant chooses to switch, they will certainly win the car. So in 2/3 of cases, when the contestant switches after a wrong guess, they always win the car! Of course, the contestant who does not switch loses in these 2/3 of cases."
   ]
  },
  {
   "cell_type": "markdown",
   "metadata": {},
   "source": [
    "### Simulate the Monte Hall Problem"
   ]
  },
  {
   "cell_type": "markdown",
   "metadata": {},
   "source": [
    "Next we write a simulator that accounts for the above independent and conditional probabilities and distributions:"
   ]
  },
  {
   "cell_type": "code",
   "execution_count": 493,
   "metadata": {},
   "outputs": [],
   "source": [
    "# Param 1 car_placement: list of tuples of door and whether that door has the car\n",
    "# Param 2 car_door: the door with the car, e.g. 'door 1'\n",
    "# Param 3 contestant_choice: the door initially chosen by the contestant, e.g. 'door 2'\n",
    "# Returns: list of doors that Monte can open: doors without the car and not chosen by the contestant\n",
    "# returns either a single door, if Monte has no choice, or two doors, if Monte has a choice\n",
    "def doors_monte_can_open(car_placement, car_door, contestant_choice):\n",
    "    return [t for t in car_placement if t[0] != contestant_choice and t[0] != car_door]\n",
    "\n",
    "# Param do_switch: whether or not the contestant switches after Monte opens one door\n",
    "# Returns: 'car' or 'goat'\n",
    "# simulate car placement and initial contestant choice, Monte opening one of the unchosen doors,\n",
    "# and the result of the contestants choice to switch or not to switch\n",
    "def sim_game(do_switch):\n",
    "    # set up the initial placement of the car\n",
    "    car_placement = sim_door(door_probas)\n",
    "    \n",
    "    # retrieve the door that has the car, e.g. 'door 1', 'door 2', 'door 3'\n",
    "    car_door = [t[0] for t in car_placement if t[1] == 1][0]\n",
    "\n",
    "    # independently retrieve the door chosen by the contestant, e.g. 'door 1', 'door 2', 'door 3'\n",
    "    contestant_choice = [t[0] for t in sim_door(door_probas) if t[1] == 1][0]\n",
    "\n",
    "    # retrieve list of doors Monte can open based on car placement and contestant choice\n",
    "    openable_doors = doors_monte_can_open(car_placement, car_door, contestant_choice)\n",
    "\n",
    "    if len(openable_doors) > 1:\n",
    "        # Contestant guessed right, Monte has a choice!\n",
    "        monte_opens = [t[0] for t in sim_monte(monte_probas, openable_doors) if t[1] == 1][0]\n",
    "    else:\n",
    "        # Contestant guessed wrong, Monte must pick the only available door, the door without the car\n",
    "        monte_opens = openable_doors[0]\n",
    "    opened_door = monte_opens[0]\n",
    "\n",
    "    # If contestant chooses to switch, they get the only unopened, unguessed door\n",
    "    if do_switch:\n",
    "        contestant_choice = \\\n",
    "            [t[0] for t in car_placement if t[0] != contestant_choice and t[0] != opened_door][0]\n",
    "\n",
    "    # return True if contestant's choice matches the door with the car\n",
    "    return 'car' if car_door == contestant_choice else 'goat'\n",
    "\n",
    "# perform n trials of sim_game\n",
    "def run_games(num_games, do_switch):\n",
    "    return pd.Series(Counter([sim_game(do_switch) for i in range(0, num_games)]))\n",
    "\n",
    "# derive m samples of n trials of sim_game\n",
    "def run_samples(num_samples, num_games, do_switch):\n",
    "    return pd.DataFrame([run_games(num_games, do_switch) for i in range(0, num_samples)])"
   ]
  },
  {
   "cell_type": "markdown",
   "metadata": {},
   "source": [
    "Our simulation randomly assigns the car to a given door, then randomly chooses one of the doors, simulating the contestant's initial choice. Based on this initial choice, we then have Monte open one of the unchosen doors. Finally, based on the *do_switch* parameter, we return the prize won by the contestant, whether the contestant remains with their initial guess or chooses to switch to the door not opened by Monte. Possible prizes are 'car' or 'goat'."
   ]
  },
  {
   "cell_type": "markdown",
   "metadata": {},
   "source": [
    "### Case 1: Contestant Does NOT Switch"
   ]
  },
  {
   "cell_type": "markdown",
   "metadata": {},
   "source": [
    "In the first case, after making an initial guess, the contestant does not switch after Monte opens one of the remaining doors. We run 10 samples of 100 trials in which the contestant does NOT switch with the following results:"
   ]
  },
  {
   "cell_type": "code",
   "execution_count": 494,
   "metadata": {
    "scrolled": false
   },
   "outputs": [
    {
     "data": {
      "text/html": [
       "<div>\n",
       "<style scoped>\n",
       "    .dataframe tbody tr th:only-of-type {\n",
       "        vertical-align: middle;\n",
       "    }\n",
       "\n",
       "    .dataframe tbody tr th {\n",
       "        vertical-align: top;\n",
       "    }\n",
       "\n",
       "    .dataframe thead th {\n",
       "        text-align: right;\n",
       "    }\n",
       "</style>\n",
       "<table border=\"1\" class=\"dataframe\">\n",
       "  <thead>\n",
       "    <tr style=\"text-align: right;\">\n",
       "      <th></th>\n",
       "      <th>goat</th>\n",
       "      <th>car</th>\n",
       "    </tr>\n",
       "  </thead>\n",
       "  <tbody>\n",
       "    <tr>\n",
       "      <td>0</td>\n",
       "      <td>66</td>\n",
       "      <td>34</td>\n",
       "    </tr>\n",
       "    <tr>\n",
       "      <td>1</td>\n",
       "      <td>61</td>\n",
       "      <td>39</td>\n",
       "    </tr>\n",
       "    <tr>\n",
       "      <td>2</td>\n",
       "      <td>61</td>\n",
       "      <td>39</td>\n",
       "    </tr>\n",
       "    <tr>\n",
       "      <td>3</td>\n",
       "      <td>71</td>\n",
       "      <td>29</td>\n",
       "    </tr>\n",
       "    <tr>\n",
       "      <td>4</td>\n",
       "      <td>68</td>\n",
       "      <td>32</td>\n",
       "    </tr>\n",
       "    <tr>\n",
       "      <td>5</td>\n",
       "      <td>59</td>\n",
       "      <td>41</td>\n",
       "    </tr>\n",
       "    <tr>\n",
       "      <td>6</td>\n",
       "      <td>69</td>\n",
       "      <td>31</td>\n",
       "    </tr>\n",
       "    <tr>\n",
       "      <td>7</td>\n",
       "      <td>73</td>\n",
       "      <td>27</td>\n",
       "    </tr>\n",
       "    <tr>\n",
       "      <td>8</td>\n",
       "      <td>59</td>\n",
       "      <td>41</td>\n",
       "    </tr>\n",
       "    <tr>\n",
       "      <td>9</td>\n",
       "      <td>69</td>\n",
       "      <td>31</td>\n",
       "    </tr>\n",
       "  </tbody>\n",
       "</table>\n",
       "</div>"
      ],
      "text/plain": [
       "   goat  car\n",
       "0    66   34\n",
       "1    61   39\n",
       "2    61   39\n",
       "3    71   29\n",
       "4    68   32\n",
       "5    59   41\n",
       "6    69   31\n",
       "7    73   27\n",
       "8    59   41\n",
       "9    69   31"
      ]
     },
     "execution_count": 494,
     "metadata": {},
     "output_type": "execute_result"
    }
   ],
   "source": [
    "# results of 10 samples of 100 trials\n",
    "no_switch_samples = run_samples(NUMBER_OF_SAMPLES, GAMES_PER_SAMPLE, False)\n",
    "no_switch_samples"
   ]
  },
  {
   "cell_type": "markdown",
   "metadata": {},
   "source": [
    "We compute the mean number of times of winning a car vs. a goat out of 100 trials in case 1, where the contestant does NOT switch:"
   ]
  },
  {
   "cell_type": "code",
   "execution_count": 495,
   "metadata": {},
   "outputs": [
    {
     "data": {
      "text/plain": [
       "goat    65.6\n",
       "car     34.4\n",
       "dtype: float64"
      ]
     },
     "execution_count": 495,
     "metadata": {},
     "output_type": "execute_result"
    }
   ],
   "source": [
    "no_switch_samples_mean = no_switch_samples.mean()\n",
    "no_switch_samples_mean"
   ]
  },
  {
   "cell_type": "markdown",
   "metadata": {},
   "source": [
    "We compute the variance of the times of winning a car vs. a goat out of 100 trials in case 1, where the contestant does NOT switch:"
   ]
  },
  {
   "cell_type": "code",
   "execution_count": 496,
   "metadata": {},
   "outputs": [
    {
     "data": {
      "text/plain": [
       "goat    26.933333\n",
       "car     26.933333\n",
       "dtype: float64"
      ]
     },
     "execution_count": 496,
     "metadata": {},
     "output_type": "execute_result"
    }
   ],
   "source": [
    "no_switch_samples_var = no_switch_samples.var()\n",
    "no_switch_samples_var"
   ]
  },
  {
   "cell_type": "markdown",
   "metadata": {},
   "source": [
    "We plot the respective means of winning a car vs. a goat in case 1:"
   ]
  },
  {
   "cell_type": "code",
   "execution_count": 497,
   "metadata": {
    "scrolled": false
   },
   "outputs": [
    {
     "data": {
      "text/plain": [
       "<BarContainer object of 2 artists>"
      ]
     },
     "execution_count": 497,
     "metadata": {},
     "output_type": "execute_result"
    },
    {
     "data": {
      "text/plain": [
       "Text(0.5, 0, 'Prizes')"
      ]
     },
     "execution_count": 497,
     "metadata": {},
     "output_type": "execute_result"
    },
    {
     "data": {
      "text/plain": [
       "Text(0, 0.5, 'Probability of Winning')"
      ]
     },
     "execution_count": 497,
     "metadata": {},
     "output_type": "execute_result"
    },
    {
     "data": {
      "text/plain": [
       "Text(0.5, 0.98, 'Probability of Winning a Car vs. a Goat When Contestant Does Not Switch')"
      ]
     },
     "execution_count": 497,
     "metadata": {},
     "output_type": "execute_result"
    },
    {
     "data": {
      "text/plain": [
       "Text(0.5, 1.0, '100 Games per Sample, 10 Samples')"
      ]
     },
     "execution_count": 497,
     "metadata": {},
     "output_type": "execute_result"
    },
    {
     "data": {
      "image/png": "[encoded data removed]",
      "text/plain": [
       "<Figure size 432x288 with 1 Axes>"
      ]
     },
     "metadata": {
      "needs_background": "light"
     },
     "output_type": "display_data"
    }
   ],
   "source": [
    "plt.bar(['car', 'goat'], [no_switch_samples_mean['car'], no_switch_samples_mean['goat']])\n",
    "plt.xlabel('Prizes')\n",
    "plt.ylabel('Probability of Winning')\n",
    "plt.suptitle('Probability of Winning a Car vs. a Goat When Contestant Does Not Switch')\n",
    "plt.title(str(GAMES_PER_SAMPLE) + ' Games per Sample, ' + str(NUMBER_OF_SAMPLES) + ' Samples')"
   ]
  },
  {
   "cell_type": "markdown",
   "metadata": {},
   "source": [
    "Clearly, a contestant that remains with their initial choice is more likely to win a goat than a car."
   ]
  },
  {
   "cell_type": "markdown",
   "metadata": {},
   "source": [
    "We next examine the distribution of the probabilities of winning a car vs. a goat when not switching:"
   ]
  },
  {
   "cell_type": "code",
   "execution_count": 498,
   "metadata": {
    "scrolled": false
   },
   "outputs": [
    {
     "data": {
      "text/plain": [
       "(array([2., 2., 0., 0., 0., 1., 1., 2., 1., 1.]),\n",
       " array([59. , 60.4, 61.8, 63.2, 64.6, 66. , 67.4, 68.8, 70.2, 71.6, 73. ]),\n",
       " <a list of 10 Patch objects>)"
      ]
     },
     "execution_count": 498,
     "metadata": {},
     "output_type": "execute_result"
    },
    {
     "data": {
      "text/plain": [
       "(array([1., 1., 2., 1., 0., 1., 0., 0., 2., 2.]),\n",
       " array([27. , 28.4, 29.8, 31.2, 32.6, 34. , 35.4, 36.8, 38.2, 39.6, 41. ]),\n",
       " <a list of 10 Patch objects>)"
      ]
     },
     "execution_count": 498,
     "metadata": {},
     "output_type": "execute_result"
    },
    {
     "data": {
      "text/plain": [
       "<matplotlib.legend.Legend at 0x21305592c8>"
      ]
     },
     "execution_count": 498,
     "metadata": {},
     "output_type": "execute_result"
    },
    {
     "data": {
      "text/plain": [
       "Text(0.5, 1.0, 'Frequency of winning a car vs. a goat in 10 samples of 100 trials WITHOUT switching')"
      ]
     },
     "execution_count": 498,
     "metadata": {},
     "output_type": "execute_result"
    },
    {
     "data": {
      "image/png": "[encoded data removed]",
      "text/plain": [
       "<Figure size 432x288 with 1 Axes>"
      ]
     },
     "metadata": {
      "needs_background": "light"
     },
     "output_type": "display_data"
    }
   ],
   "source": [
    "pyplot.hist(no_switch_samples['goat'], bins=10, label='goat')\n",
    "pyplot.hist(no_switch_samples['car'], bins=10, label='car')\n",
    "pyplot.legend()\n",
    "pyplot.title('Frequency of winning a car vs. a goat in 10 samples of 100 trials WITHOUT switching')"
   ]
  },
  {
   "cell_type": "markdown",
   "metadata": {},
   "source": [
    "### Case 2: Contestant Switches"
   ]
  },
  {
   "cell_type": "markdown",
   "metadata": {},
   "source": [
    "In the second case, after making an initial guess, the contestant switches to the other unopened door after Monte opens one of the remaining doors. We run 10 samples of 100 trials in which the contestant DOES switch with the following results:"
   ]
  },
  {
   "cell_type": "code",
   "execution_count": 499,
   "metadata": {
    "scrolled": true
   },
   "outputs": [
    {
     "data": {
      "text/html": [
       "<div>\n",
       "<style scoped>\n",
       "    .dataframe tbody tr th:only-of-type {\n",
       "        vertical-align: middle;\n",
       "    }\n",
       "\n",
       "    .dataframe tbody tr th {\n",
       "        vertical-align: top;\n",
       "    }\n",
       "\n",
       "    .dataframe thead th {\n",
       "        text-align: right;\n",
       "    }\n",
       "</style>\n",
       "<table border=\"1\" class=\"dataframe\">\n",
       "  <thead>\n",
       "    <tr style=\"text-align: right;\">\n",
       "      <th></th>\n",
       "      <th>car</th>\n",
       "      <th>goat</th>\n",
       "    </tr>\n",
       "  </thead>\n",
       "  <tbody>\n",
       "    <tr>\n",
       "      <td>0</td>\n",
       "      <td>70</td>\n",
       "      <td>30</td>\n",
       "    </tr>\n",
       "    <tr>\n",
       "      <td>1</td>\n",
       "      <td>61</td>\n",
       "      <td>39</td>\n",
       "    </tr>\n",
       "    <tr>\n",
       "      <td>2</td>\n",
       "      <td>66</td>\n",
       "      <td>34</td>\n",
       "    </tr>\n",
       "    <tr>\n",
       "      <td>3</td>\n",
       "      <td>62</td>\n",
       "      <td>38</td>\n",
       "    </tr>\n",
       "    <tr>\n",
       "      <td>4</td>\n",
       "      <td>64</td>\n",
       "      <td>36</td>\n",
       "    </tr>\n",
       "    <tr>\n",
       "      <td>5</td>\n",
       "      <td>67</td>\n",
       "      <td>33</td>\n",
       "    </tr>\n",
       "    <tr>\n",
       "      <td>6</td>\n",
       "      <td>67</td>\n",
       "      <td>33</td>\n",
       "    </tr>\n",
       "    <tr>\n",
       "      <td>7</td>\n",
       "      <td>67</td>\n",
       "      <td>33</td>\n",
       "    </tr>\n",
       "    <tr>\n",
       "      <td>8</td>\n",
       "      <td>55</td>\n",
       "      <td>45</td>\n",
       "    </tr>\n",
       "    <tr>\n",
       "      <td>9</td>\n",
       "      <td>72</td>\n",
       "      <td>28</td>\n",
       "    </tr>\n",
       "  </tbody>\n",
       "</table>\n",
       "</div>"
      ],
      "text/plain": [
       "   car  goat\n",
       "0   70    30\n",
       "1   61    39\n",
       "2   66    34\n",
       "3   62    38\n",
       "4   64    36\n",
       "5   67    33\n",
       "6   67    33\n",
       "7   67    33\n",
       "8   55    45\n",
       "9   72    28"
      ]
     },
     "execution_count": 499,
     "metadata": {},
     "output_type": "execute_result"
    }
   ],
   "source": [
    "# results of 10 samples of 100 trials\n",
    "switch_samples = run_samples(NUMBER_OF_SAMPLES, GAMES_PER_SAMPLE, True)\n",
    "switch_samples"
   ]
  },
  {
   "cell_type": "markdown",
   "metadata": {},
   "source": [
    "We compute the mean number of times of winning a car vs. a goat out of 100 trials in case 2, where the contestant DOES switch:"
   ]
  },
  {
   "cell_type": "code",
   "execution_count": 500,
   "metadata": {},
   "outputs": [
    {
     "data": {
      "text/plain": [
       "car     65.1\n",
       "goat    34.9\n",
       "dtype: float64"
      ]
     },
     "execution_count": 500,
     "metadata": {},
     "output_type": "execute_result"
    }
   ],
   "source": [
    "switch_samples_mean = switch_samples.mean()\n",
    "switch_samples_mean"
   ]
  },
  {
   "cell_type": "markdown",
   "metadata": {},
   "source": [
    "We compute the variance of the times of winning a car vs. a goat out of 100 trials in case 2, where the contestant DOES switch:"
   ]
  },
  {
   "cell_type": "code",
   "execution_count": 501,
   "metadata": {},
   "outputs": [
    {
     "data": {
      "text/plain": [
       "car     23.655556\n",
       "goat    23.655556\n",
       "dtype: float64"
      ]
     },
     "execution_count": 501,
     "metadata": {},
     "output_type": "execute_result"
    }
   ],
   "source": [
    "switch_samples_var = switch_samples.var()\n",
    "switch_samples_var"
   ]
  },
  {
   "cell_type": "code",
   "execution_count": 502,
   "metadata": {},
   "outputs": [
    {
     "data": {
      "text/plain": [
       "<BarContainer object of 2 artists>"
      ]
     },
     "execution_count": 502,
     "metadata": {},
     "output_type": "execute_result"
    },
    {
     "data": {
      "text/plain": [
       "Text(0.5, 0, 'Prizes')"
      ]
     },
     "execution_count": 502,
     "metadata": {},
     "output_type": "execute_result"
    },
    {
     "data": {
      "text/plain": [
       "Text(0, 0.5, 'Probability of Winning')"
      ]
     },
     "execution_count": 502,
     "metadata": {},
     "output_type": "execute_result"
    },
    {
     "data": {
      "text/plain": [
       "Text(0.5, 0.98, 'Probability of Winning a Car vs. a Goat When Contestant Switches')"
      ]
     },
     "execution_count": 502,
     "metadata": {},
     "output_type": "execute_result"
    },
    {
     "data": {
      "text/plain": [
       "Text(0.5, 1.0, '100 Games per Sample, 10 Samples')"
      ]
     },
     "execution_count": 502,
     "metadata": {},
     "output_type": "execute_result"
    },
    {
     "data": {
      "image/png": "[encoded data removed]",
      "text/plain": [
       "<Figure size 432x288 with 1 Axes>"
      ]
     },
     "metadata": {
      "needs_background": "light"
     },
     "output_type": "display_data"
    }
   ],
   "source": [
    "plt.bar(['car', 'goat'], [switch_samples_mean['car'], switch_samples_mean['goat']])\n",
    "plt.xlabel('Prizes')\n",
    "plt.ylabel('Probability of Winning')\n",
    "plt.suptitle('Probability of Winning a Car vs. a Goat When Contestant Switches')\n",
    "plt.title(str(GAMES_PER_SAMPLE) + ' Games per Sample, ' + str(NUMBER_OF_SAMPLES) + ' Samples')"
   ]
  },
  {
   "cell_type": "markdown",
   "metadata": {},
   "source": [
    "Clearly, a contestant who switches from their initial choice is more likely to win a car."
   ]
  },
  {
   "cell_type": "markdown",
   "metadata": {},
   "source": [
    "We next examine the distribution of the probabilities of winning a car vs. a goat when switching:"
   ]
  },
  {
   "cell_type": "code",
   "execution_count": 503,
   "metadata": {
    "scrolled": false
   },
   "outputs": [
    {
     "data": {
      "text/plain": [
       "(array([1., 1., 3., 1., 1., 1., 1., 0., 0., 1.]),\n",
       " array([28. , 29.7, 31.4, 33.1, 34.8, 36.5, 38.2, 39.9, 41.6, 43.3, 45. ]),\n",
       " <a list of 10 Patch objects>)"
      ]
     },
     "execution_count": 503,
     "metadata": {},
     "output_type": "execute_result"
    },
    {
     "data": {
      "text/plain": [
       "(array([1., 0., 0., 1., 1., 1., 1., 3., 1., 1.]),\n",
       " array([55. , 56.7, 58.4, 60.1, 61.8, 63.5, 65.2, 66.9, 68.6, 70.3, 72. ]),\n",
       " <a list of 10 Patch objects>)"
      ]
     },
     "execution_count": 503,
     "metadata": {},
     "output_type": "execute_result"
    },
    {
     "data": {
      "text/plain": [
       "<matplotlib.legend.Legend at 0x21304a5688>"
      ]
     },
     "execution_count": 503,
     "metadata": {},
     "output_type": "execute_result"
    },
    {
     "data": {
      "text/plain": [
       "Text(0.5, 1.0, 'Frequency of winning a car vs. a goat in 10 samples of 100 trials WITH switching')"
      ]
     },
     "execution_count": 503,
     "metadata": {},
     "output_type": "execute_result"
    },
    {
     "data": {
      "image/png": "[encoded data removed]",
      "text/plain": [
       "<Figure size 432x288 with 1 Axes>"
      ]
     },
     "metadata": {
      "needs_background": "light"
     },
     "output_type": "display_data"
    }
   ],
   "source": [
    "pyplot.hist(switch_samples['goat'], bins=10, label='goat')\n",
    "pyplot.hist(switch_samples['car'], bins=10, label='car')\n",
    "pyplot.legend()\n",
    "pyplot.title('Frequency of winning a car vs. a goat in 10 samples of 100 trials WITH switching')"
   ]
  },
  {
   "cell_type": "markdown",
   "metadata": {},
   "source": [
    "### Comparison of Cases"
   ]
  },
  {
   "cell_type": "markdown",
   "metadata": {},
   "source": [
    "Comparison of cases in which the contestant switches or does not switch reveals that the contestant who switches is twice likely to win the car. The contestant who switches has roughly a 2/3 chance of winning the car versus the contestant who does not switch, who has roughly a 1/3 chance of winning the car."
   ]
  },
  {
   "cell_type": "markdown",
   "metadata": {},
   "source": [
    "As discussed above, the contestant who does not switch (case 1) has simply the expected 1 in 3 chance of guessing the door with the car. When Monte later opens a door, this clearly has no effect on their initial choice nor the probability of their success at winning the car."
   ]
  },
  {
   "cell_type": "markdown",
   "metadata": {},
   "source": [
    "The contestant who does switch (case 2), however, is able to leverage the information obtained after Monte opens one of the doors. Of course, if their initial selection was correct, they will lose by switching, which occurs in 1 of 3 cases. But in the remaining 2 of 3 cases, they always win, because Monte shows them which of the two remaining doors has the car. So the contestant who switches has a 2/3 chance of winning the car."
   ]
  },
  {
   "cell_type": "markdown",
   "metadata": {},
   "source": [
    "This analysis is confirmed by our simulation, which shows that in the first case, in which the contestant does not switch, the mean number of times they win out of 100 trials is about 33 percent, but in the second case, in which the contestant switches, the mean number of times they win out of 100 trials is about 67 percent."
   ]
  },
  {
   "cell_type": "markdown",
   "metadata": {},
   "source": [
    "### Recommended Strategy"
   ]
  },
  {
   "cell_type": "markdown",
   "metadata": {},
   "source": [
    "Therefore, based on the above analysis of conditional probabilities and distributions as well as our simulation, the recommended strategy is to switch from our initial choice of doors to the remaining door after Monte opens one of the doors."
   ]
  }
 ],
 "metadata": {
  "kernelspec": {
   "display_name": "Python 3",
   "language": "python",
   "name": "python3"
  },
  "language_info": {
   "codemirror_mode": {
    "name": "ipython",
    "version": 3
   },
   "file_extension": ".py",
   "mimetype": "text/x-python",
   "name": "python",
   "nbconvert_exporter": "python",
   "pygments_lexer": "ipython3",
   "version": "3.7.4"
  }
 },
 "nbformat": 4,
 "nbformat_minor": 2
}
