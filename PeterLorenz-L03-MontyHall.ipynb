{
 "cells": [
  {
   "cell_type": "markdown",
   "metadata": {},
   "source": [
    "### Lesson 03 Assignment"
   ]
  },
  {
   "cell_type": "markdown",
   "metadata": {},
   "source": [
    "Import required libraries:"
   ]
  },
  {
   "cell_type": "code",
   "execution_count": 45,
   "metadata": {},
   "outputs": [],
   "source": [
    "# Import required libraries\n",
    "import numpy as np\n",
    "import seaborn as sns\n",
    "import matplotlib.pyplot as plt\n",
    "\n",
    "# Permit display of all cell outputs\n",
    "from IPython.core.interactiveshell import InteractiveShell\n",
    "InteractiveShell.ast_node_interactivity = \"all\""
   ]
  },
  {
   "cell_type": "markdown",
   "metadata": {},
   "source": [
    "Declare probabilies and functions:"
   ]
  },
  {
   "cell_type": "code",
   "execution_count": 223,
   "metadata": {},
   "outputs": [],
   "source": [
    "# in the 3-door simulation, doors are randomly chosen with equal probability from 3 doors\n",
    "# when pval is approximately 0.333\n",
    "door_probas = [\n",
    "      .333,  # door 1\n",
    "      .333,  # door 2\n",
    "      .333,  # door 3\n",
    "  ]\n",
    "\n",
    "# when Monte has a choice of doors, doors are randomly chosen with equal probability from 2 doors\n",
    "# when pval is 0.5\n",
    "monte_probas = [\n",
    "      .5,  # first of two unchosen doors (doors 1 or 2)\n",
    "      .5,  # second of two unchosen doors (doors 2 or 3)\n",
    "  ]\n",
    "\n",
    "# randomly select one door out of three possible doors\n",
    "# used for placing the car behind one door and the contestant's selection of one door\n",
    "def sim_door(door_probas):\n",
    "    return list(zip(\n",
    "        ['door 1', 'door 2', 'door 3'], \n",
    "        np.random.multinomial(1, door_probas)))\n",
    "\n",
    "# called when Monte has a choice of two doors, to independently select one of the doors\n",
    "def sim_monte(monte_probas, available_doors):\n",
    "    # note: the multinomial distribution is the general case of the binomial distribution, \n",
    "    # so calling it is fine here\n",
    "    return list(zip(\n",
    "        available_doors, \n",
    "        np.random.multinomial(1, monte_probas)))\n",
    "\n",
    "# return list of doors that Monte can open: doors without the car and not chosen by the contestant\n",
    "# contains either a single door, if Monte has no choice, or two doors, if Monte has a choice\n",
    "def doors_monte_can_open(car_placement, car_door, contestant_choice):\n",
    "    return [t for t in car_placement if t[0] != contestant_choice and t[0] != car_door]\n",
    "\n",
    "# \n",
    "# simulate car placement and initial contestant choice, the setup of the problem\n",
    "# TODO: NEXT STEPS\n",
    "def sim_run(do_switch):\n",
    "    # set up the initial placement of the car\n",
    "    car_placement = sim_door(door_probas)\n",
    "    \n",
    "    # retrieve the door that has the car, e.g. 'door 1', 'door 2', 'door 3'\n",
    "    car_door = [t[0] for t in car_placement if t[1] == 1][0]\n",
    "\n",
    "    # independently retrieve the door chosen by the contestant, e.g. 'door 1', 'door 2', 'door 3'\n",
    "    contestant_choice = [t[0] for t in sim_door(door_probas) if t[1] == 1][0]\n",
    "\n",
    "    # retrieve list of doors Monte can open based on car placement and contestant choice\n",
    "    openable_doors = doors_monte_can_open(car_placement, car_door, contestant_choice)\n",
    "    print(car_placement)\n",
    "    print(car_door)\n",
    "    print(contestant_choice)\n",
    "    print(openable_doors)\n",
    "    if len(openable_doors) > 1:\n",
    "        # Contestant guessed right, Monte has a choice!\n",
    "        monte_opens = [t[0] for t in sim_monte(monte_probas, openable_doors) if t[1] == 1][0]\n",
    "    else:\n",
    "        # Contestant guessed wrong, Monte must pick the only available door, the door without the car\n",
    "        monte_opens = openable_doors[0]\n",
    "    opened_door = monte_opens[0]\n",
    "\n",
    "    # If contestant chooses to switch, they get the only unopened, unguessed door\n",
    "    if do_switch:\n",
    "        contestant_choice = \\\n",
    "            [t[0] for t in car_placement if t[0] != contestant_choice and t[0] != opened_door][0]\n",
    "        print(contestant_choice)\n",
    "\n",
    "    # return True if contestant's choice matches the door with the car\n",
    "    return True if car_door == contestant_choice else False"
   ]
  },
  {
   "cell_type": "markdown",
   "metadata": {},
   "source": [
    "Must consider the following independent probabilities:"
   ]
  },
  {
   "cell_type": "markdown",
   "metadata": {},
   "source": [
    "Probability that the car is behind the initial door chosen by the contestant:"
   ]
  },
  {
   "cell_type": "markdown",
   "metadata": {},
   "source": [
    "To simulate, randomly place the car behind one of two doors."
   ]
  },
  {
   "cell_type": "markdown",
   "metadata": {},
   "source": [
    "Then, let the contestant randomly choose one of the three doors."
   ]
  },
  {
   "cell_type": "markdown",
   "metadata": {},
   "source": [
    "After the contestant chooses a door, there are two scenarios for Monte, one in which he has a choice of doors and one in which must open the only door without the car, and two scenarios for the contestant, one in which s/he switches and one in which s/he does not switch:"
   ]
  },
  {
   "cell_type": "markdown",
   "metadata": {},
   "source": [
    "Scenario 1: the contestant has chosen the door with the car. Monte may then choose randomly between the remaining two doors."
   ]
  },
  {
   "cell_type": "markdown",
   "metadata": {},
   "source": [
    "Scenario 2: the contestant has chosen a door without the car. Monte then has no choice as to which door to open."
   ]
  },
  {
   "cell_type": "markdown",
   "metadata": {},
   "source": [
    "Consider distributions: initial placement of car and contestant's initial choice: "
   ]
  },
  {
   "cell_type": "markdown",
   "metadata": {},
   "source": [
    "### Scenario 1: The Contestant Does Not Switch"
   ]
  },
  {
   "cell_type": "markdown",
   "metadata": {},
   "source": [
    "To simulate, randomly place the car behind one of two doors."
   ]
  },
  {
   "cell_type": "code",
   "execution_count": 224,
   "metadata": {},
   "outputs": [
    {
     "name": "stdout",
     "output_type": "stream",
     "text": [
      "[('door 1', 0), ('door 2', 0), ('door 3', 1)]\n",
      "door 3\n",
      "door 2\n",
      "[('door 1', 0)]\n",
      "door 3\n"
     ]
    },
    {
     "data": {
      "text/plain": [
       "True"
      ]
     },
     "execution_count": 224,
     "metadata": {},
     "output_type": "execute_result"
    }
   ],
   "source": [
    "sim_run(True)"
   ]
  },
  {
   "cell_type": "markdown",
   "metadata": {},
   "source": [
    "Then, let the contestant randomly choose one of the three doors."
   ]
  },
  {
   "cell_type": "code",
   "execution_count": 44,
   "metadata": {},
   "outputs": [],
   "source": [
    "contestant_door = [t[0] for t in sim_door(1, door_probas) if t[1] == 1]"
   ]
  },
  {
   "cell_type": "markdown",
   "metadata": {},
   "source": [
    "### Scenario 2: The Contestant Switches"
   ]
  },
  {
   "cell_type": "markdown",
   "metadata": {},
   "source": []
  }
 ],
 "metadata": {
  "kernelspec": {
   "display_name": "Python 3",
   "language": "python",
   "name": "python3"
  },
  "language_info": {
   "codemirror_mode": {
    "name": "ipython",
    "version": 3
   },
   "file_extension": ".py",
   "mimetype": "text/x-python",
   "name": "python",
   "nbconvert_exporter": "python",
   "pygments_lexer": "ipython3",
   "version": "3.7.4"
  }
 },
 "nbformat": 4,
 "nbformat_minor": 2
}
