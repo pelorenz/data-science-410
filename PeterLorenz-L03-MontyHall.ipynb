{
 "cells": [
  {
   "cell_type": "markdown",
   "metadata": {},
   "source": [
    "### Lesson 03 Assignment"
   ]
  },
  {
   "cell_type": "markdown",
   "metadata": {},
   "source": [
    "Import required libraries:"
   ]
  },
  {
   "cell_type": "code",
   "execution_count": 288,
   "metadata": {},
   "outputs": [],
   "source": [
    "# Import required libraries\n",
    "import numpy as np\n",
    "import pandas as pd\n",
    "import seaborn as sns\n",
    "import matplotlib.pyplot as plt\n",
    "from collections import Counter\n",
    "from itertools import groupby\n",
    "\n",
    "# Permit display of all cell outputs\n",
    "from IPython.core.interactiveshell import InteractiveShell\n",
    "InteractiveShell.ast_node_interactivity = \"all\""
   ]
  },
  {
   "cell_type": "markdown",
   "metadata": {},
   "source": [
    "Declare probabilies and functions:"
   ]
  },
  {
   "cell_type": "code",
   "execution_count": 297,
   "metadata": {},
   "outputs": [],
   "source": [
    "# in the 3-door simulation, doors are randomly chosen with equal probability from 3 doors\n",
    "# when pval is approximately 0.333\n",
    "door_probas = [\n",
    "      .333,  # door 1\n",
    "      .333,  # door 2\n",
    "      .333,  # door 3\n",
    "  ]\n",
    "\n",
    "# when Monte has a choice of doors, doors are randomly chosen with equal probability from 2 doors\n",
    "# when pval is 0.5\n",
    "monte_probas = [\n",
    "      .5,  # first of two unchosen doors (doors 1 or 2)\n",
    "      .5,  # second of two unchosen doors (doors 2 or 3)\n",
    "  ]\n",
    "\n",
    "# Param 1 door_probas: list of probabilities that a given door will be selected\n",
    "# Returns: independent selection of one door out of three\n",
    "# randomly select one door out of three possible doors\n",
    "# used for placing the car behind one door and the contestant's selection of one door\n",
    "def sim_door(door_probas):\n",
    "    return list(zip(\n",
    "        ['door 1', 'door 2', 'door 3'], \n",
    "        np.random.multinomial(1, door_probas)))\n",
    "\n",
    "# Param 1 monte_probas: list of probabilities that a given door will be selected\n",
    "# Param 2 available_doors: list of doors without cars from which to select\n",
    "# Returns: independent selection of one door out of two doors without the car\n",
    "# called when Monte has a choice of two doors, to independently select one of the doors\n",
    "def sim_monte(monte_probas, available_doors):\n",
    "    # note: the multinomial distribution is the general case of the binomial distribution, \n",
    "    # so calling it is fine here\n",
    "    return list(zip(\n",
    "        available_doors, \n",
    "        np.random.multinomial(1, monte_probas)))\n",
    "\n",
    "# Param 1 car_placement: list of tuples of door and whether that door has the car\n",
    "# Param 2 car_door: the door with the car, e.g. 'door 1'\n",
    "# Param 3 contestant_choice: the door initially chosen by the contestant, e.g. 'door 2'\n",
    "# Returns: list of doors that Monte can open: doors without the car and not chosen by the contestant\n",
    "# contains either a single door, if Monte has no choice, or two doors, if Monte has a choice\n",
    "def doors_monte_can_open(car_placement, car_door, contestant_choice):\n",
    "    return [t for t in car_placement if t[0] != contestant_choice and t[0] != car_door]\n",
    "\n",
    "# Param do_switch: whether or not the contestant switches after Monte opens one door\n",
    "# Returns: 'car' or 'goat'\n",
    "# simulate car placement and initial contestant choice, Monte opening one of the unchosen doors,\n",
    "# and the result of the contestants choice to switch or not to switch\n",
    "def sim_game(do_switch):\n",
    "    # set up the initial placement of the car\n",
    "    car_placement = sim_door(door_probas)\n",
    "    \n",
    "    # retrieve the door that has the car, e.g. 'door 1', 'door 2', 'door 3'\n",
    "    car_door = [t[0] for t in car_placement if t[1] == 1][0]\n",
    "\n",
    "    # independently retrieve the door chosen by the contestant, e.g. 'door 1', 'door 2', 'door 3'\n",
    "    contestant_choice = [t[0] for t in sim_door(door_probas) if t[1] == 1][0]\n",
    "\n",
    "    # retrieve list of doors Monte can open based on car placement and contestant choice\n",
    "    openable_doors = doors_monte_can_open(car_placement, car_door, contestant_choice)\n",
    "    #print(car_placement)\n",
    "    #print(car_door)\n",
    "    #print(contestant_choice)\n",
    "    #print(openable_doors)\n",
    "    if len(openable_doors) > 1:\n",
    "        # Contestant guessed right, Monte has a choice!\n",
    "        monte_opens = [t[0] for t in sim_monte(monte_probas, openable_doors) if t[1] == 1][0]\n",
    "    else:\n",
    "        # Contestant guessed wrong, Monte must pick the only available door, the door without the car\n",
    "        monte_opens = openable_doors[0]\n",
    "    opened_door = monte_opens[0]\n",
    "\n",
    "    # If contestant chooses to switch, they get the only unopened, unguessed door\n",
    "    if do_switch:\n",
    "        contestant_choice = \\\n",
    "            [t[0] for t in car_placement if t[0] != contestant_choice and t[0] != opened_door][0]\n",
    "\n",
    "    # return True if contestant's choice matches the door with the car\n",
    "    return 'car' if car_door == contestant_choice else 'goat'\n",
    "\n",
    "def run_games(num_runs, do_switch):\n",
    "    return pd.Series(Counter([sim_game(do_switch) for i in range(0, num_runs)]))\n",
    "\n",
    "def run_samples(num_samples, num_runs, do_switch):\n",
    "    return pd.DataFrame([run_games(num_runs, do_switch) for i in range(0, num_samples)])"
   ]
  },
  {
   "cell_type": "code",
   "execution_count": 300,
   "metadata": {},
   "outputs": [
    {
     "data": {
      "text/html": [
       "<div>\n",
       "<style scoped>\n",
       "    .dataframe tbody tr th:only-of-type {\n",
       "        vertical-align: middle;\n",
       "    }\n",
       "\n",
       "    .dataframe tbody tr th {\n",
       "        vertical-align: top;\n",
       "    }\n",
       "\n",
       "    .dataframe thead th {\n",
       "        text-align: right;\n",
       "    }\n",
       "</style>\n",
       "<table border=\"1\" class=\"dataframe\">\n",
       "  <thead>\n",
       "    <tr style=\"text-align: right;\">\n",
       "      <th></th>\n",
       "      <th>car</th>\n",
       "      <th>goat</th>\n",
       "    </tr>\n",
       "  </thead>\n",
       "  <tbody>\n",
       "    <tr>\n",
       "      <td>0</td>\n",
       "      <td>66</td>\n",
       "      <td>34</td>\n",
       "    </tr>\n",
       "    <tr>\n",
       "      <td>1</td>\n",
       "      <td>75</td>\n",
       "      <td>25</td>\n",
       "    </tr>\n",
       "    <tr>\n",
       "      <td>2</td>\n",
       "      <td>79</td>\n",
       "      <td>21</td>\n",
       "    </tr>\n",
       "    <tr>\n",
       "      <td>3</td>\n",
       "      <td>68</td>\n",
       "      <td>32</td>\n",
       "    </tr>\n",
       "    <tr>\n",
       "      <td>4</td>\n",
       "      <td>64</td>\n",
       "      <td>36</td>\n",
       "    </tr>\n",
       "    <tr>\n",
       "      <td>5</td>\n",
       "      <td>72</td>\n",
       "      <td>28</td>\n",
       "    </tr>\n",
       "    <tr>\n",
       "      <td>6</td>\n",
       "      <td>71</td>\n",
       "      <td>29</td>\n",
       "    </tr>\n",
       "    <tr>\n",
       "      <td>7</td>\n",
       "      <td>62</td>\n",
       "      <td>38</td>\n",
       "    </tr>\n",
       "    <tr>\n",
       "      <td>8</td>\n",
       "      <td>67</td>\n",
       "      <td>33</td>\n",
       "    </tr>\n",
       "    <tr>\n",
       "      <td>9</td>\n",
       "      <td>65</td>\n",
       "      <td>35</td>\n",
       "    </tr>\n",
       "  </tbody>\n",
       "</table>\n",
       "</div>"
      ],
      "text/plain": [
       "   car  goat\n",
       "0   66    34\n",
       "1   75    25\n",
       "2   79    21\n",
       "3   68    32\n",
       "4   64    36\n",
       "5   72    28\n",
       "6   71    29\n",
       "7   62    38\n",
       "8   67    33\n",
       "9   65    35"
      ]
     },
     "execution_count": 300,
     "metadata": {},
     "output_type": "execute_result"
    }
   ],
   "source": [
    "switch_samples = run_samples(10, 100, True)\n",
    "switch_samples"
   ]
  },
  {
   "cell_type": "code",
   "execution_count": 301,
   "metadata": {},
   "outputs": [
    {
     "data": {
      "text/html": [
       "<div>\n",
       "<style scoped>\n",
       "    .dataframe tbody tr th:only-of-type {\n",
       "        vertical-align: middle;\n",
       "    }\n",
       "\n",
       "    .dataframe tbody tr th {\n",
       "        vertical-align: top;\n",
       "    }\n",
       "\n",
       "    .dataframe thead th {\n",
       "        text-align: right;\n",
       "    }\n",
       "</style>\n",
       "<table border=\"1\" class=\"dataframe\">\n",
       "  <thead>\n",
       "    <tr style=\"text-align: right;\">\n",
       "      <th></th>\n",
       "      <th>goat</th>\n",
       "      <th>car</th>\n",
       "    </tr>\n",
       "  </thead>\n",
       "  <tbody>\n",
       "    <tr>\n",
       "      <td>0</td>\n",
       "      <td>66</td>\n",
       "      <td>34</td>\n",
       "    </tr>\n",
       "    <tr>\n",
       "      <td>1</td>\n",
       "      <td>69</td>\n",
       "      <td>31</td>\n",
       "    </tr>\n",
       "    <tr>\n",
       "      <td>2</td>\n",
       "      <td>70</td>\n",
       "      <td>30</td>\n",
       "    </tr>\n",
       "    <tr>\n",
       "      <td>3</td>\n",
       "      <td>62</td>\n",
       "      <td>38</td>\n",
       "    </tr>\n",
       "    <tr>\n",
       "      <td>4</td>\n",
       "      <td>66</td>\n",
       "      <td>34</td>\n",
       "    </tr>\n",
       "    <tr>\n",
       "      <td>5</td>\n",
       "      <td>62</td>\n",
       "      <td>38</td>\n",
       "    </tr>\n",
       "    <tr>\n",
       "      <td>6</td>\n",
       "      <td>65</td>\n",
       "      <td>35</td>\n",
       "    </tr>\n",
       "    <tr>\n",
       "      <td>7</td>\n",
       "      <td>70</td>\n",
       "      <td>30</td>\n",
       "    </tr>\n",
       "    <tr>\n",
       "      <td>8</td>\n",
       "      <td>74</td>\n",
       "      <td>26</td>\n",
       "    </tr>\n",
       "    <tr>\n",
       "      <td>9</td>\n",
       "      <td>67</td>\n",
       "      <td>33</td>\n",
       "    </tr>\n",
       "  </tbody>\n",
       "</table>\n",
       "</div>"
      ],
      "text/plain": [
       "   goat  car\n",
       "0    66   34\n",
       "1    69   31\n",
       "2    70   30\n",
       "3    62   38\n",
       "4    66   34\n",
       "5    62   38\n",
       "6    65   35\n",
       "7    70   30\n",
       "8    74   26\n",
       "9    67   33"
      ]
     },
     "execution_count": 301,
     "metadata": {},
     "output_type": "execute_result"
    }
   ],
   "source": [
    "no_switch_samples = run_samples(10, 100, False)\n",
    "no_switch_samples"
   ]
  },
  {
   "cell_type": "markdown",
   "metadata": {},
   "source": [
    "Must consider the following independent probabilities:"
   ]
  },
  {
   "cell_type": "markdown",
   "metadata": {},
   "source": [
    "Probability that the car is behind the initial door chosen by the contestant:"
   ]
  },
  {
   "cell_type": "markdown",
   "metadata": {},
   "source": [
    "To simulate, randomly place the car behind one of two doors."
   ]
  },
  {
   "cell_type": "markdown",
   "metadata": {},
   "source": [
    "Then, let the contestant randomly choose one of the three doors."
   ]
  },
  {
   "cell_type": "markdown",
   "metadata": {},
   "source": [
    "After the contestant chooses a door, there are two scenarios for Monte, one in which he has a choice of doors and one in which must open the only door without the car, and two scenarios for the contestant, one in which s/he switches and one in which s/he does not switch:"
   ]
  },
  {
   "cell_type": "markdown",
   "metadata": {},
   "source": [
    "Scenario 1: the contestant has chosen the door with the car. Monte may then choose randomly between the remaining two doors."
   ]
  },
  {
   "cell_type": "markdown",
   "metadata": {},
   "source": [
    "Scenario 2: the contestant has chosen a door without the car. Monte then has no choice as to which door to open."
   ]
  },
  {
   "cell_type": "markdown",
   "metadata": {},
   "source": [
    "Consider distributions: initial placement of car and contestant's initial choice: "
   ]
  },
  {
   "cell_type": "markdown",
   "metadata": {},
   "source": [
    "### Scenario 1: The Contestant Does Not Switch"
   ]
  },
  {
   "cell_type": "markdown",
   "metadata": {},
   "source": [
    "To simulate, randomly place the car behind one of two doors."
   ]
  },
  {
   "cell_type": "code",
   "execution_count": 229,
   "metadata": {},
   "outputs": [
    {
     "name": "stdout",
     "output_type": "stream",
     "text": [
      "[('door 1', 1), ('door 2', 0), ('door 3', 0)]\n",
      "door 1\n",
      "door 3\n",
      "[('door 2', 0)]\n",
      "door 1\n"
     ]
    },
    {
     "data": {
      "text/plain": [
       "'car'"
      ]
     },
     "execution_count": 229,
     "metadata": {},
     "output_type": "execute_result"
    }
   ],
   "source": [
    "sim_game(True)"
   ]
  },
  {
   "cell_type": "markdown",
   "metadata": {},
   "source": [
    "Then, let the contestant randomly choose one of the three doors."
   ]
  },
  {
   "cell_type": "code",
   "execution_count": 44,
   "metadata": {},
   "outputs": [],
   "source": [
    "contestant_door = [t[0] for t in sim_door(1, door_probas) if t[1] == 1]"
   ]
  },
  {
   "cell_type": "markdown",
   "metadata": {},
   "source": [
    "### Scenario 2: The Contestant Switches"
   ]
  },
  {
   "cell_type": "markdown",
   "metadata": {},
   "source": []
  }
 ],
 "metadata": {
  "kernelspec": {
   "display_name": "Python 3",
   "language": "python",
   "name": "python3"
  },
  "language_info": {
   "codemirror_mode": {
    "name": "ipython",
    "version": 3
   },
   "file_extension": ".py",
   "mimetype": "text/x-python",
   "name": "python",
   "nbconvert_exporter": "python",
   "pygments_lexer": "ipython3",
   "version": "3.7.4"
  }
 },
 "nbformat": 4,
 "nbformat_minor": 2
}
