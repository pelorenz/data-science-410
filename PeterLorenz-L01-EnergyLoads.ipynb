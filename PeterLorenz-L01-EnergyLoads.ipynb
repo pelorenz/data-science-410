{
 "cells": [
  {
   "cell_type": "markdown",
   "metadata": {},
   "source": [
    "## Lesson 01 Assignment"
   ]
  },
  {
   "cell_type": "markdown",
   "metadata": {},
   "source": [
    "Import required libraries:"
   ]
  },
  {
   "cell_type": "code",
   "execution_count": null,
   "metadata": {},
   "outputs": [],
   "source": [
    "# Import required libraries\n",
    "import pandas as pd\n",
    "import numpy as np\n",
    "import seaborn as sns\n",
    "import matplotlib.pyplot as plt\n",
    "%matplotlib inline"
   ]
  },
  {
   "cell_type": "code",
   "execution_count": null,
   "metadata": {},
   "outputs": [],
   "source": [
    "# Functions\n",
    "\n",
    "# Display kernel density plot for the given column with options\n",
    "def show_kde_plot(col_name, axis, bandwidth):\n",
    "    sns.kdeplot(energy_loads.loc[:, col_name], ax = axis, bw = bandwidth)\n",
    "    axis.set_title('KDE plot of ' + col_name) # Give the plot a main title\n",
    "    axis.set_xlabel(col_name) # Set text for the x axis\n",
    "    axis.set_ylabel('Density')# Set text for y axis\n",
    "\n",
    "# Display distribution for the given categorical variable as a bar chart\n",
    "def show_count_plot(data_set, col_name, axis):\n",
    "    sns.countplot(x = col_name, data = data_set, ax = axis, color=\"#4080c0\")\n",
    "    axis.set_title('Number of Buildings by ' + col_name)\n",
    "    axis.set_xlabel(col_name)\n",
    "    axis.set_ylabel('Number of Buildings')"
   ]
  },
  {
   "cell_type": "markdown",
   "metadata": {},
   "source": [
    "Download the energy efficiency data set:"
   ]
  },
  {
   "cell_type": "code",
   "execution_count": null,
   "metadata": {},
   "outputs": [],
   "source": [
    "url = 'https://raw.githubusercontent.com/StephenElston/DataScience410/master/Lecture1/EnergyEfficiencyData.csv'\n",
    "\n",
    "# Download the data into a dataframe object\n",
    "energy_loads = pd.read_csv(url)"
   ]
  },
  {
   "cell_type": "markdown",
   "metadata": {},
   "source": [
    "Inspect initial rows of data set:"
   ]
  },
  {
   "cell_type": "code",
   "execution_count": null,
   "metadata": {},
   "outputs": [],
   "source": [
    "energy_loads.head()"
   ]
  },
  {
   "cell_type": "markdown",
   "metadata": {},
   "source": [
    "Inspect final rows of data set:"
   ]
  },
  {
   "cell_type": "code",
   "execution_count": null,
   "metadata": {},
   "outputs": [],
   "source": [
    "energy_loads.tail()"
   ]
  },
  {
   "cell_type": "markdown",
   "metadata": {},
   "source": [
    "### Glossary\n",
    " - *Cooling Load*: amount of heat energy required to remove from a space (cooling) to maintain the temperature in an acceptable range (kWh/m²)\n",
    " - *Glazing Area*: glass component of building's façade or internal surfaces relative to floor area, one of 0%, 10%, 25%, or 40% of floor area\n",
    " - *Glazing Area Distribution*: how glazing area is distributed within the whole building, 1:Uniform, 2:North, 3:East, 4:South, 5:West\n",
    " - *Heating Load*: amount of heat energy required to add to a space to maintain the temperature in an acceptable range (kWh/m²)\n",
    " - *Orientation*: 2:North, 3:East, 4:South, 5:West\n",
    " - *Overall Height*: height of the building at its highest point (m)\n",
    " - *Relative Compactness*: volume to surface ratio of structure compared to that of the most compact shape with the same volume, 1 = most compact\n",
    " - *Roof Area*: total area of roof (m²)\n",
    " - *Surface Area*: total area of all surfaces (m²)\n",
    " - *Wall Area*: total area of all walls (m²)"
   ]
  },
  {
   "cell_type": "markdown",
   "metadata": {},
   "source": [
    "### Frequency and Distribution of Categorical Variables"
   ]
  },
  {
   "cell_type": "markdown",
   "metadata": {},
   "source": [
    "Begin with frequency tables of explicitly categorical variables: *Orientation* and *Glazing Area Distribution*."
   ]
  },
  {
   "cell_type": "markdown",
   "metadata": {},
   "source": [
    "Frequency of orientation values (2:North, 3:East, 4:South, 5:West):"
   ]
  },
  {
   "cell_type": "code",
   "execution_count": null,
   "metadata": {},
   "outputs": [],
   "source": [
    "energy_loads['counts'] = 1\n",
    "energy_loads[['counts', 'Orientation']].groupby(['Orientation']).agg('count')"
   ]
  },
  {
   "cell_type": "markdown",
   "metadata": {},
   "source": [
    "Frequency of glazing area distribution values (1:Uniform, 2:North, 3:East, 4:South, 5:West):"
   ]
  },
  {
   "cell_type": "code",
   "execution_count": null,
   "metadata": {},
   "outputs": [],
   "source": [
    "energy_loads['counts'] = 1\n",
    "energy_loads[['counts', \n",
    "              'Glazing Area Distribution']].groupby(['Glazing Area Distribution']).agg('count')"
   ]
  },
  {
   "cell_type": "markdown",
   "metadata": {},
   "source": [
    "We can render these frequencies graphically:"
   ]
  },
  {
   "cell_type": "code",
   "execution_count": null,
   "metadata": {},
   "outputs": [],
   "source": [
    "# Frequency distribution of categorical variables\n",
    "fig, (ax1, ax2) = plt.subplots(nrows=1, ncols=2, figsize=(8, 2))\n",
    "plt.subplots_adjust(wspace=0.3, hspace=0.5)\n",
    "sns.set_style(\"whitegrid\")\n",
    "show_count_plot(energy_loads, 'Orientation', ax1)\n",
    "show_count_plot(energy_loads, 'Glazing Area Distribution', ax2)"
   ]
  },
  {
   "cell_type": "markdown",
   "metadata": {},
   "source": [
    "### Distribution of Continuous Variables"
   ]
  },
  {
   "cell_type": "markdown",
   "metadata": {},
   "source": [
    "Now we explore the distributions of the ostensibly continuous variables via kernel density plots:"
   ]
  },
  {
   "cell_type": "code",
   "execution_count": null,
   "metadata": {},
   "outputs": [],
   "source": [
    "# Explore distributions of the columns\n",
    "fig, ((ax1, ax2), (ax3, ax4), (ax5, ax6), \n",
    "      (ax7, ax8)) = plt.subplots(nrows=4, ncols=2, figsize=(10, 10))\n",
    "plt.subplots_adjust(wspace=0.3, hspace=0.5)\n",
    "sns.set_style(\"whitegrid\")\n",
    "show_kde_plot('Relative Compactness', ax1, 0.002)\n",
    "show_kde_plot('Surface Area', ax2, 1)\n",
    "show_kde_plot('Wall Area', ax3, 2)\n",
    "show_kde_plot('Roof Area', ax4, 2)\n",
    "show_kde_plot('Overall Height', ax5, 0.2)\n",
    "show_kde_plot('Glazing Area', ax6, 0.01)\n",
    "show_kde_plot('Heating Load', ax7, 0.2)\n",
    "show_kde_plot('Cooling Load', ax8, 0.2)"
   ]
  },
  {
   "cell_type": "markdown",
   "metadata": {},
   "source": [
    "It is apparent that 6 of our continuous variables are not distributed continuously, but represent a limited number of values: *Relative Compactness*, *Surface Area*, *Wall Area*, *Roof Area*, *Overall Height*, and *Glazing Area*. Frequency tables of these variables are given here."
   ]
  },
  {
   "cell_type": "markdown",
   "metadata": {},
   "source": [
    "There are 12 possible values of *Relative Compactness*, represented by 64 units each for a total of 768 units:"
   ]
  },
  {
   "cell_type": "code",
   "execution_count": null,
   "metadata": {},
   "outputs": [],
   "source": [
    "energy_loads['counts'] = 1\n",
    "energy_loads[['counts', 'Relative Compactness']].groupby(['Relative Compactness']).agg('count')"
   ]
  },
  {
   "cell_type": "markdown",
   "metadata": {},
   "source": [
    "Similarly, there are 12 possible values of *Surface Area*, again represented by 64 units each for a total of 768 units:"
   ]
  },
  {
   "cell_type": "code",
   "execution_count": null,
   "metadata": {},
   "outputs": [],
   "source": [
    "energy_loads['counts'] = 1\n",
    "energy_loads[['counts', 'Surface Area']].groupby(['Surface Area']).agg('count')"
   ]
  },
  {
   "cell_type": "markdown",
   "metadata": {},
   "source": [
    "There are 7 possible values of *Wall Area*:"
   ]
  },
  {
   "cell_type": "code",
   "execution_count": null,
   "metadata": {},
   "outputs": [],
   "source": [
    "energy_loads['counts'] = 1\n",
    "energy_loads[['counts', 'Wall Area']].groupby(['Wall Area']).agg('count')"
   ]
  },
  {
   "cell_type": "markdown",
   "metadata": {},
   "source": [
    "There are just 4 possible values of *Roof Area*:"
   ]
  },
  {
   "cell_type": "code",
   "execution_count": null,
   "metadata": {
    "scrolled": true
   },
   "outputs": [],
   "source": [
    "energy_loads['counts'] = 1\n",
    "energy_loads[['counts', 'Roof Area']].groupby(['Roof Area']).agg('count')"
   ]
  },
  {
   "cell_type": "markdown",
   "metadata": {},
   "source": [
    "*Overall Height* consists of just 2 possible values:"
   ]
  },
  {
   "cell_type": "code",
   "execution_count": null,
   "metadata": {},
   "outputs": [],
   "source": [
    "energy_loads['counts'] = 1\n",
    "energy_loads[['counts', 'Overall Height']].groupby(['Overall Height']).agg('count')"
   ]
  },
  {
   "cell_type": "markdown",
   "metadata": {},
   "source": [
    "There are just 4 possible values of *Glazing Area*:"
   ]
  },
  {
   "cell_type": "code",
   "execution_count": null,
   "metadata": {},
   "outputs": [],
   "source": [
    "energy_loads['counts'] = 1\n",
    "energy_loads[['counts', 'Glazing Area']].groupby(['Glazing Area']).agg('count')"
   ]
  },
  {
   "cell_type": "markdown",
   "metadata": {},
   "source": [
    "Clearly, there is a limited number of building configurations among the 768 units in the data set. To identify these configurations, we apply the *groupby* method:"
   ]
  },
  {
   "cell_type": "code",
   "execution_count": null,
   "metadata": {},
   "outputs": [],
   "source": [
    "energy_loads['counts'] = 1\n",
    "energy_loads[['counts', 'Relative Compactness', 'Surface Area', \n",
    "              'Wall Area', 'Roof Area', 'Overall Height'\n",
    "             ]].groupby(['Relative Compactness', 'Surface Area', 'Wall Area', \n",
    "                         'Roof Area', 'Overall Height']).agg('count')"
   ]
  },
  {
   "cell_type": "markdown",
   "metadata": {},
   "source": [
    "It turns out there are 12 building configurations, uniquely identifiable by either *Relative Compactness* or *Surface Area*, which are perfectly correlated (proxies). There are 64 units of each configuration.<br><br>*Wall Area*: Three configurations have a wall area of 294 square meters, three have a wall area of 318.5 square meters, and two have a wall area of 343 square meters. The other four configurations have unique wall area measurements, two at the low extreme and two at the high extreme.<br><br>*Roof Area*: Six configurations have a roof area of 220.5 square meters, three have a roof area of 147 square meters, two have a roof area of 122.5 square meters, and one has a roof area of 110.25 square meters.<br><br>*Overall Height*: Six configurations have an overall height of 3.5 meters, while six have an overall height of 7 meters.<br><br>So *Wall Area*, *Roof Area*, and *Overall Height* are each somewhat dependent on either *Relative Compactness* or *Surface Area*."
   ]
  },
  {
   "cell_type": "markdown",
   "metadata": {},
   "source": [
    "### *Surface Area* as a Possible Predictor of Heating / Cooling Load"
   ]
  },
  {
   "cell_type": "markdown",
   "metadata": {},
   "source": [
    "Since either *Relative Compactness* or *Surface Area* defines the unit configuration (among the 12 configurations identified above), we would like to see how well these variables correlate with heating or cooling load and assess the contribution of the remaining categorical variables (*Orientation*, *Glazing Area*, and *Glazing Area Distribution*). We shall arbitrarily choose *Surface Area* as the basis of our analysis because its units (square meters) are straightforward to conceptualize."
   ]
  },
  {
   "cell_type": "markdown",
   "metadata": {},
   "source": [
    "We begin by examining scatter plots of *Surface Area* against *Heating Load* and *Cooling Load*."
   ]
  },
  {
   "cell_type": "markdown",
   "metadata": {},
   "source": [
    "Here is *Surface Area* vs. *Heating Load*:"
   ]
  },
  {
   "cell_type": "code",
   "execution_count": null,
   "metadata": {},
   "outputs": [],
   "source": [
    "## Define a figure and axes and make a scatter plot\n",
    "fig = plt.figure(figsize=(6, 6)) # define plot area\n",
    "ax = fig.gca() # define axis\n",
    "ax.scatter(x = energy_loads['Surface Area'], y = energy_loads['Heating Load'])\n",
    "ax.set_title('Scatter plot of Surface Area vs Heating Load') # Give the plot a main title\n",
    "ax.set_xlabel('Surface Area') # Set text for the x axis\n",
    "ax.set_ylabel('Heating Load') # Set text for y axisv"
   ]
  },
  {
   "cell_type": "markdown",
   "metadata": {},
   "source": [
    "Here is *Surface Area* vs. *Cooling Load*:"
   ]
  },
  {
   "cell_type": "code",
   "execution_count": null,
   "metadata": {},
   "outputs": [],
   "source": [
    "## Define a figure and axes and make a scatter plot\n",
    "fig = plt.figure(figsize=(6, 6)) # define plot area\n",
    "ax = fig.gca() # define axis\n",
    "ax.scatter(x = energy_loads['Surface Area'], y = energy_loads['Cooling Load'])\n",
    "ax.set_title('Scatter plot of Surface Area vs Cooling Load') # Give the plot a main title\n",
    "ax.set_xlabel('Surface Area') # Set text for the x axis\n",
    "ax.set_ylabel('Cooling Load') # Set text for y axis"
   ]
  },
  {
   "cell_type": "markdown",
   "metadata": {},
   "source": [
    "It is evident that there is not much difference between the respective relationships between *Surface Area* and either *Heating Load* or *Cooling Load*. Therefore, we shall only consider *Heating Load* in further analysis."
   ]
  },
  {
   "cell_type": "markdown",
   "metadata": {},
   "source": [
    "The most startling feature of these two scatter plots is the sharp break in energy efficiency between surface areas of 661.5 and 686 square meters. Looking at the configurations above, it is apparent that this break is attributable to the height difference between units having surface areas of 661.5 square meters or less and units having surface areas of 686 or greater. The former are taller at 7 meters, while the latter are shorter at 3.5 meters. **So the taller configurations have a smaller surface area.** Yet despite their smaller surface area, these taller buildings have significantly *higher* heating and cooling loads."
   ]
  },
  {
   "cell_type": "markdown",
   "metadata": {},
   "source": [
    "Graphing *Overall Height* against *Heating Load* reveals this relationship:"
   ]
  },
  {
   "cell_type": "code",
   "execution_count": null,
   "metadata": {
    "scrolled": false
   },
   "outputs": [],
   "source": [
    "## Define a figure and axes and make a scatter plot\n",
    "fig = plt.figure(figsize=(4, 4)) # define plot area\n",
    "ax = fig.gca() # define axis\n",
    "ax.scatter(x = energy_loads['Overall Height'], y = energy_loads['Heating Load'])\n",
    "ax.set_title('Scatter plot of Overall Height vs Heating Load') # Give the plot a main title\n",
    "ax.set_xlabel('Overall Height') # Set text for the x axis\n",
    "ax.set_ylabel('Heating Load') # Set text for y axis"
   ]
  },
  {
   "cell_type": "markdown",
   "metadata": {},
   "source": [
    "In fact, knowing the height of a unit in our data set allows to predict its minimum or maximum heating load: If the configuration is 7 meters in overall height, its heating load will be above 15 kWh/m². If the configuration is 3.5 meters in overall height, its heating load will be below 20 kWh/m²."
   ]
  },
  {
   "cell_type": "markdown",
   "metadata": {},
   "source": [
    "At the same time, it is clear that surface area by itself is a poor predictor of heating or cooling load: As the surface area increases there is no corresponding increase or decrease in heating or cooling load. Rather the heating and cooling loads fluctuate as surface area increases. The remaining variables do not appear fully to explain these fluctuations. It is possible that the relative stability of the heating loads of the lower buildings is explained by the fact they all have the same roof surface area (220.5 square meters). Yet there is no corresponding pattern among the taller buildings. Between configurations with surface areas of 563.5 and 588 square meters respectively, the roof area increases by 24.5 square meters, but the heating load goes down. At the same time, between configurations with surface areas of 612.5 and 637 square meters, the roof area remains constant, but the heating load increases dramatically. These fluctuations are not explained by wall area either. The wall area increases by the same amount (24.5 sq m) between configurations of 588 and 612.5 square meters and 612.5 and 637 square meters respectively, but in the former case the heating load goes down while in the latter it goes up significantly."
   ]
  },
  {
   "cell_type": "markdown",
   "metadata": {},
   "source": [
    "### Effects of Categorical Variables"
   ]
  },
  {
   "cell_type": "markdown",
   "metadata": {},
   "source": [
    "It remains to assess whether any of the categorical variables contributes to the erratic relationship between *Surface Area* and *Heating Load* observed in the scatter plots. In the facet grid below we examine the categorical variables *Orientation*, *Glazing Area*, and *Glazing Area Distribution* in relation to *Surface Area* and *Heating Load*."
   ]
  },
  {
   "cell_type": "code",
   "execution_count": null,
   "metadata": {
    "scrolled": false
   },
   "outputs": [],
   "source": [
    "g = sns.FacetGrid(energy_loads, col='Glazing Area', \n",
    "                  row = 'Glazing Area Distribution', hue = 'Orientation',  \n",
    "                  palette=\"Set2\", margin_titles=True)\n",
    "g.map(sns.regplot, 'Surface Area', 'Heating Load', fit_reg = False)"
   ]
  },
  {
   "cell_type": "markdown",
   "metadata": {},
   "source": [
    "The facet grid suggests that of the remaining variables, only *Glazing Area* has an effect on *Heating Load*. Configurations where *Glazing Load* = 0.0 have a significantly lower heating load relative to configurations with higher glazing loads. As *Glazing Load* increases from 0.1 to 0.25 to 0.4, the heating loads steadily increase for each configuration."
   ]
  },
  {
   "cell_type": "markdown",
   "metadata": {},
   "source": [
    "This is evident when we color-code the scatter plot of *Surface Area* vs *Heating Load* with values of *Glazing Area*:"
   ]
  },
  {
   "cell_type": "code",
   "execution_count": null,
   "metadata": {},
   "outputs": [],
   "source": [
    "ax = sns.relplot(x = 'Surface Area', y = 'Heating Load', \n",
    "                 hue = 'Glazing Area', palette = 'Accent',\n",
    "                 data=energy_loads,\n",
    "                 height = 8, aspect=1/1)\n",
    "ax.set(title ='Surface Area vs. Heating Load (Glazing Area by color)', # Main title\n",
    "       xlabel = 'Surface Area', # Set text for the x axis\n",
    "       ylabel = 'Heating Load') # Set text for y axis "
   ]
  },
  {
   "cell_type": "markdown",
   "metadata": {},
   "source": [
    "The color-coded scatter plot reveals that units with *Glazing Area* = 0.0 have consistently lower heating loads. As glazing area increases, so does the heating load. Variation in *Glazing Area* accounts for the vertical alignment of points at each value of *Surface Area*."
   ]
  },
  {
   "cell_type": "markdown",
   "metadata": {},
   "source": [
    "On the other hand, *Orientation* and *Glazing Area Distribution* appear to have little measurable effect on heating load."
   ]
  },
  {
   "cell_type": "markdown",
   "metadata": {},
   "source": [
    "### Conclusions"
   ]
  },
  {
   "cell_type": "markdown",
   "metadata": {},
   "source": [
    "Three interesting relationships within the variables:\n",
    "1. *Relative Compactness* and *Surface Area* are proxies. If we know the value of one, we know the value of the other.\n",
    "2. Knowing the height of a building in our data set allows us to predict its minimum or maximum heating load: If the building is 7 meters in overall height, its heating load will be above 15 kWh/m². If the building is 3.5 meters in overall height, its heating load will be below 20 kWh/m².\n",
    "3. *Relative Compactness*, *Surface Area*, *Wall Area*, *Roof Area*, and *Overall Height* are not continuous or independent but have a limited number of values that occur together in 12 configurations apparently determined by the design of the building."
   ]
  }
 ],
 "metadata": {
  "kernelspec": {
   "display_name": "Python 3",
   "language": "python",
   "name": "python3"
  },
  "language_info": {
   "codemirror_mode": {
    "name": "ipython",
    "version": 3
   },
   "file_extension": ".py",
   "mimetype": "text/x-python",
   "name": "python",
   "nbconvert_exporter": "python",
   "pygments_lexer": "ipython3",
   "version": "3.7.4"
  }
 },
 "nbformat": 4,
 "nbformat_minor": 2
}
